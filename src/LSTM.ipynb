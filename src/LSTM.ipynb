{
  "cells": [
    {
      "cell_type": "code",
      "execution_count": 1,
      "metadata": {},
      "outputs": [],
      "source": [
        "import pandas as pd\n",
        "from read_data import read_data\n",
        "import numpy as np\n",
        "\n",
        "def compute_delta_metrics(data):\n",
        "    \"\"\"\n",
        "    Computes additional metrics for the dataset:\n",
        "    - Delta Position: Leader's position minus Follower's position.\n",
        "    - Delta Velocity: Leader's velocity minus Follower's velocity.\n",
        "    - Delta Acceleration: Leader's acceleration minus Follower's acceleration.\n",
        "    - Time-To-Collision (TTC): Delta Position divided by Delta Velocity.\n",
        "    \"\"\"\n",
        "    data[\"delta_position\"] = data[\"x_leader\"] - data[\"x_follower\"]\n",
        "    data[\"delta_velocity\"] = data[\"v_follower\"] - data[\"v_leader\"]\n",
        "    data[\"delta_acceleration\"] = data[\"a_follower\"] - data[\"a_leader\"]\n",
        "    data[\"TTC\"] = data[\"delta_position\"] / data[\"delta_velocity\"]\n",
        "    data.loc[data[\"TTC\"] < 0, \"TTC\"] = np.nan\n",
        "    data['time_headway'] = data['delta_position'] / data['v_follower']\n",
        "    data['TTC_min'] = data['TTC']\n",
        "\n",
        "    # Calculate jerk for the follower vehicle\n",
        "    data['jerk_follower'] = np.gradient(data['a_follower'], data['time'])\n",
        "    return data\n",
        "\n",
        "def aggregate_data_by_case(data):\n",
        "    \"\"\"\n",
        "    Aggregates the dataset by 'case_id' to find the max and min \n",
        "    of each delta metric and TTC for each case.\n",
        "    Renames columns for clarity and adds case_id as a column.\n",
        "    \"\"\"\n",
        "    aggr_data = data.groupby('case_id').agg({'delta_velocity':'mean',\n",
        "                           'v_follower':'max',\n",
        "                           'delta_acceleration':'mean',\n",
        "                           'a_follower':'max',\n",
        "                           'jerk_follower':'mean',\n",
        "                           'time_headway':'median',\n",
        "                           'delta_position':'min',\n",
        "                           'TTC':'median',\n",
        "                           'TTC_min':'min'}).reset_index()\n",
        "\n",
        "    return aggr_data\n",
        "\n",
        "def adjust_ttc_sign(aggregated_data):\n",
        "    \"\"\"\n",
        "    Ensures TTC (Time-To-Collision) is non-negative by taking the absolute value.\n",
        "    \"\"\"\n",
        "    aggregated_data[\"TTC\"] = aggregated_data[\"TTC\"].abs()\n",
        "    aggregated_data[\"TTC_min\"] = aggregated_data[\"TTC_min\"].abs()\n",
        "    return aggregated_data\n",
        "\n",
        "def convert_df(dataset: str, mode: str):\n",
        "    \"\"\"\n",
        "    Main function that utilizes the above helper functions to preprocess the data.\n",
        "    Returns a DataFrame grouped by 'case_id' with max and min values of\n",
        "    delta position, delta velocity, delta acceleration, and TTC (Time-To-Collision).\n",
        "    \"\"\"\n",
        "    data = read_data(dataset, mode)\n",
        "    data = compute_delta_metrics(data)\n",
        "    aggregated_data = aggregate_data_by_case(data)\n",
        "    aggregated_data = adjust_ttc_sign(aggregated_data)\n",
        "    return aggregated_data\n"
      ]
    },
    {
      "cell_type": "code",
      "execution_count": 37,
      "metadata": {},
      "outputs": [
        {
          "data": {
            "text/html": [
              "<div>\n",
              "<style scoped>\n",
              "    .dataframe tbody tr th:only-of-type {\n",
              "        vertical-align: middle;\n",
              "    }\n",
              "\n",
              "    .dataframe tbody tr th {\n",
              "        vertical-align: top;\n",
              "    }\n",
              "\n",
              "    .dataframe thead th {\n",
              "        text-align: right;\n",
              "    }\n",
              "</style>\n",
              "<table border=\"1\" class=\"dataframe\">\n",
              "  <thead>\n",
              "    <tr style=\"text-align: right;\">\n",
              "      <th></th>\n",
              "      <th>case_id</th>\n",
              "      <th>delta_velocity</th>\n",
              "      <th>v_follower</th>\n",
              "      <th>delta_acceleration</th>\n",
              "      <th>a_follower</th>\n",
              "      <th>jerk_follower</th>\n",
              "      <th>time_headway</th>\n",
              "      <th>delta_position</th>\n",
              "      <th>TTC</th>\n",
              "      <th>TTC_min</th>\n",
              "    </tr>\n",
              "  </thead>\n",
              "  <tbody>\n",
              "    <tr>\n",
              "      <th>0</th>\n",
              "      <td>0</td>\n",
              "      <td>-0.585128</td>\n",
              "      <td>11.712142</td>\n",
              "      <td>0.047007</td>\n",
              "      <td>2.369844</td>\n",
              "      <td>-0.028677</td>\n",
              "      <td>1.697374</td>\n",
              "      <td>9.428864</td>\n",
              "      <td>61.144338</td>\n",
              "      <td>16.595543</td>\n",
              "    </tr>\n",
              "    <tr>\n",
              "      <th>1</th>\n",
              "      <td>1</td>\n",
              "      <td>-0.109332</td>\n",
              "      <td>14.526137</td>\n",
              "      <td>0.039523</td>\n",
              "      <td>0.837482</td>\n",
              "      <td>-0.022997</td>\n",
              "      <td>1.499226</td>\n",
              "      <td>18.421163</td>\n",
              "      <td>80.305906</td>\n",
              "      <td>20.562361</td>\n",
              "    </tr>\n",
              "    <tr>\n",
              "      <th>2</th>\n",
              "      <td>2</td>\n",
              "      <td>-0.717295</td>\n",
              "      <td>13.135771</td>\n",
              "      <td>-0.140948</td>\n",
              "      <td>1.012260</td>\n",
              "      <td>0.010870</td>\n",
              "      <td>3.379581</td>\n",
              "      <td>16.096035</td>\n",
              "      <td>7.636726</td>\n",
              "      <td>5.728496</td>\n",
              "    </tr>\n",
              "    <tr>\n",
              "      <th>3</th>\n",
              "      <td>3</td>\n",
              "      <td>1.121150</td>\n",
              "      <td>15.083161</td>\n",
              "      <td>0.026782</td>\n",
              "      <td>0.394586</td>\n",
              "      <td>-0.018426</td>\n",
              "      <td>1.937762</td>\n",
              "      <td>22.154348</td>\n",
              "      <td>25.245706</td>\n",
              "      <td>18.166619</td>\n",
              "    </tr>\n",
              "    <tr>\n",
              "      <th>4</th>\n",
              "      <td>4</td>\n",
              "      <td>0.587793</td>\n",
              "      <td>14.517350</td>\n",
              "      <td>-0.022323</td>\n",
              "      <td>0.667001</td>\n",
              "      <td>-0.018814</td>\n",
              "      <td>2.044764</td>\n",
              "      <td>14.362037</td>\n",
              "      <td>36.424020</td>\n",
              "      <td>7.093686</td>\n",
              "    </tr>\n",
              "    <tr>\n",
              "      <th>...</th>\n",
              "      <td>...</td>\n",
              "      <td>...</td>\n",
              "      <td>...</td>\n",
              "      <td>...</td>\n",
              "      <td>...</td>\n",
              "      <td>...</td>\n",
              "      <td>...</td>\n",
              "      <td>...</td>\n",
              "      <td>...</td>\n",
              "      <td>...</td>\n",
              "    </tr>\n",
              "    <tr>\n",
              "      <th>495</th>\n",
              "      <td>495</td>\n",
              "      <td>0.197079</td>\n",
              "      <td>14.385285</td>\n",
              "      <td>-0.088729</td>\n",
              "      <td>0.305779</td>\n",
              "      <td>-0.006375</td>\n",
              "      <td>2.179975</td>\n",
              "      <td>27.189289</td>\n",
              "      <td>59.974457</td>\n",
              "      <td>29.818995</td>\n",
              "    </tr>\n",
              "    <tr>\n",
              "      <th>496</th>\n",
              "      <td>496</td>\n",
              "      <td>1.227572</td>\n",
              "      <td>12.163433</td>\n",
              "      <td>-0.068099</td>\n",
              "      <td>0.397671</td>\n",
              "      <td>0.018117</td>\n",
              "      <td>2.446065</td>\n",
              "      <td>6.359919</td>\n",
              "      <td>11.324800</td>\n",
              "      <td>3.282347</td>\n",
              "    </tr>\n",
              "    <tr>\n",
              "      <th>497</th>\n",
              "      <td>497</td>\n",
              "      <td>0.317125</td>\n",
              "      <td>14.519390</td>\n",
              "      <td>-0.096140</td>\n",
              "      <td>1.157213</td>\n",
              "      <td>-0.019941</td>\n",
              "      <td>1.829167</td>\n",
              "      <td>17.585190</td>\n",
              "      <td>29.175127</td>\n",
              "      <td>7.392851</td>\n",
              "    </tr>\n",
              "    <tr>\n",
              "      <th>498</th>\n",
              "      <td>498</td>\n",
              "      <td>0.278913</td>\n",
              "      <td>14.095021</td>\n",
              "      <td>-0.065379</td>\n",
              "      <td>0.344991</td>\n",
              "      <td>-0.036504</td>\n",
              "      <td>1.402545</td>\n",
              "      <td>15.717958</td>\n",
              "      <td>33.327711</td>\n",
              "      <td>16.101418</td>\n",
              "    </tr>\n",
              "    <tr>\n",
              "      <th>499</th>\n",
              "      <td>499</td>\n",
              "      <td>0.248270</td>\n",
              "      <td>10.806744</td>\n",
              "      <td>0.091435</td>\n",
              "      <td>1.267526</td>\n",
              "      <td>-0.038707</td>\n",
              "      <td>2.446420</td>\n",
              "      <td>14.270447</td>\n",
              "      <td>16.262830</td>\n",
              "      <td>6.070137</td>\n",
              "    </tr>\n",
              "  </tbody>\n",
              "</table>\n",
              "<p>500 rows × 10 columns</p>\n",
              "</div>"
            ],
            "text/plain": [
              "     case_id  delta_velocity  v_follower  delta_acceleration  a_follower  \\\n",
              "0          0       -0.585128   11.712142            0.047007    2.369844   \n",
              "1          1       -0.109332   14.526137            0.039523    0.837482   \n",
              "2          2       -0.717295   13.135771           -0.140948    1.012260   \n",
              "3          3        1.121150   15.083161            0.026782    0.394586   \n",
              "4          4        0.587793   14.517350           -0.022323    0.667001   \n",
              "..       ...             ...         ...                 ...         ...   \n",
              "495      495        0.197079   14.385285           -0.088729    0.305779   \n",
              "496      496        1.227572   12.163433           -0.068099    0.397671   \n",
              "497      497        0.317125   14.519390           -0.096140    1.157213   \n",
              "498      498        0.278913   14.095021           -0.065379    0.344991   \n",
              "499      499        0.248270   10.806744            0.091435    1.267526   \n",
              "\n",
              "     jerk_follower  time_headway  delta_position        TTC    TTC_min  \n",
              "0        -0.028677      1.697374        9.428864  61.144338  16.595543  \n",
              "1        -0.022997      1.499226       18.421163  80.305906  20.562361  \n",
              "2         0.010870      3.379581       16.096035   7.636726   5.728496  \n",
              "3        -0.018426      1.937762       22.154348  25.245706  18.166619  \n",
              "4        -0.018814      2.044764       14.362037  36.424020   7.093686  \n",
              "..             ...           ...             ...        ...        ...  \n",
              "495      -0.006375      2.179975       27.189289  59.974457  29.818995  \n",
              "496       0.018117      2.446065        6.359919  11.324800   3.282347  \n",
              "497      -0.019941      1.829167       17.585190  29.175127   7.392851  \n",
              "498      -0.036504      1.402545       15.717958  33.327711  16.101418  \n",
              "499      -0.038707      2.446420       14.270447  16.262830   6.070137  \n",
              "\n",
              "[500 rows x 10 columns]"
            ]
          },
          "execution_count": 37,
          "metadata": {},
          "output_type": "execute_result"
        }
      ],
      "source": [
        "trainHA = convert_df(\"HA\", \"train\")\n",
        "trainHA.head(500)"
      ]
    },
    {
      "cell_type": "code",
      "execution_count": 36,
      "metadata": {},
      "outputs": [
        {
          "data": {
            "text/html": [
              "<div>\n",
              "<style scoped>\n",
              "    .dataframe tbody tr th:only-of-type {\n",
              "        vertical-align: middle;\n",
              "    }\n",
              "\n",
              "    .dataframe tbody tr th {\n",
              "        vertical-align: top;\n",
              "    }\n",
              "\n",
              "    .dataframe thead th {\n",
              "        text-align: right;\n",
              "    }\n",
              "</style>\n",
              "<table border=\"1\" class=\"dataframe\">\n",
              "  <thead>\n",
              "    <tr style=\"text-align: right;\">\n",
              "      <th></th>\n",
              "      <th>case_id</th>\n",
              "      <th>delta_velocity</th>\n",
              "      <th>v_follower</th>\n",
              "      <th>delta_acceleration</th>\n",
              "      <th>a_follower</th>\n",
              "      <th>jerk_follower</th>\n",
              "      <th>time_headway</th>\n",
              "      <th>delta_position</th>\n",
              "      <th>TTC</th>\n",
              "      <th>TTC_min</th>\n",
              "    </tr>\n",
              "  </thead>\n",
              "  <tbody>\n",
              "    <tr>\n",
              "      <th>count</th>\n",
              "      <td>500.000000</td>\n",
              "      <td>500.000000</td>\n",
              "      <td>500.000000</td>\n",
              "      <td>500.000000</td>\n",
              "      <td>500.000000</td>\n",
              "      <td>500.000000</td>\n",
              "      <td>500.000000</td>\n",
              "      <td>500.000000</td>\n",
              "      <td>469.000000</td>\n",
              "      <td>469.000000</td>\n",
              "    </tr>\n",
              "    <tr>\n",
              "      <th>mean</th>\n",
              "      <td>249.500000</td>\n",
              "      <td>-0.226585</td>\n",
              "      <td>13.636430</td>\n",
              "      <td>-0.066888</td>\n",
              "      <td>1.629852</td>\n",
              "      <td>0.007949</td>\n",
              "      <td>3.225744</td>\n",
              "      <td>15.719815</td>\n",
              "      <td>230.513177</td>\n",
              "      <td>66.448904</td>\n",
              "    </tr>\n",
              "    <tr>\n",
              "      <th>std</th>\n",
              "      <td>144.481833</td>\n",
              "      <td>1.104510</td>\n",
              "      <td>3.904978</td>\n",
              "      <td>0.167013</td>\n",
              "      <td>1.199862</td>\n",
              "      <td>0.077993</td>\n",
              "      <td>3.086860</td>\n",
              "      <td>10.425921</td>\n",
              "      <td>578.599987</td>\n",
              "      <td>205.743465</td>\n",
              "    </tr>\n",
              "    <tr>\n",
              "      <th>min</th>\n",
              "      <td>0.000000</td>\n",
              "      <td>-4.089614</td>\n",
              "      <td>2.471401</td>\n",
              "      <td>-0.885203</td>\n",
              "      <td>-0.232423</td>\n",
              "      <td>-0.643237</td>\n",
              "      <td>-31.161604</td>\n",
              "      <td>0.438666</td>\n",
              "      <td>2.947014</td>\n",
              "      <td>1.459213</td>\n",
              "    </tr>\n",
              "    <tr>\n",
              "      <th>25%</th>\n",
              "      <td>124.750000</td>\n",
              "      <td>-0.816879</td>\n",
              "      <td>11.100482</td>\n",
              "      <td>-0.117451</td>\n",
              "      <td>0.787625</td>\n",
              "      <td>-0.021250</td>\n",
              "      <td>1.807076</td>\n",
              "      <td>8.256415</td>\n",
              "      <td>18.962959</td>\n",
              "      <td>5.923284</td>\n",
              "    </tr>\n",
              "    <tr>\n",
              "      <th>50%</th>\n",
              "      <td>249.500000</td>\n",
              "      <td>-0.233178</td>\n",
              "      <td>14.297869</td>\n",
              "      <td>-0.036232</td>\n",
              "      <td>1.556521</td>\n",
              "      <td>0.007751</td>\n",
              "      <td>2.508794</td>\n",
              "      <td>12.395482</td>\n",
              "      <td>42.088888</td>\n",
              "      <td>14.119027</td>\n",
              "    </tr>\n",
              "    <tr>\n",
              "      <th>75%</th>\n",
              "      <td>374.250000</td>\n",
              "      <td>0.337267</td>\n",
              "      <td>16.808444</td>\n",
              "      <td>0.023698</td>\n",
              "      <td>2.202544</td>\n",
              "      <td>0.043173</td>\n",
              "      <td>3.814100</td>\n",
              "      <td>19.643879</td>\n",
              "      <td>138.531834</td>\n",
              "      <td>33.883607</td>\n",
              "    </tr>\n",
              "    <tr>\n",
              "      <th>max</th>\n",
              "      <td>499.000000</td>\n",
              "      <td>3.537141</td>\n",
              "      <td>21.404362</td>\n",
              "      <td>0.476264</td>\n",
              "      <td>9.381810</td>\n",
              "      <td>0.304345</td>\n",
              "      <td>24.174202</td>\n",
              "      <td>74.709138</td>\n",
              "      <td>5835.453087</td>\n",
              "      <td>3207.348369</td>\n",
              "    </tr>\n",
              "  </tbody>\n",
              "</table>\n",
              "</div>"
            ],
            "text/plain": [
              "          case_id  delta_velocity  v_follower  delta_acceleration  a_follower  \\\n",
              "count  500.000000      500.000000  500.000000          500.000000  500.000000   \n",
              "mean   249.500000       -0.226585   13.636430           -0.066888    1.629852   \n",
              "std    144.481833        1.104510    3.904978            0.167013    1.199862   \n",
              "min      0.000000       -4.089614    2.471401           -0.885203   -0.232423   \n",
              "25%    124.750000       -0.816879   11.100482           -0.117451    0.787625   \n",
              "50%    249.500000       -0.233178   14.297869           -0.036232    1.556521   \n",
              "75%    374.250000        0.337267   16.808444            0.023698    2.202544   \n",
              "max    499.000000        3.537141   21.404362            0.476264    9.381810   \n",
              "\n",
              "       jerk_follower  time_headway  delta_position          TTC      TTC_min  \n",
              "count     500.000000    500.000000      500.000000   469.000000   469.000000  \n",
              "mean        0.007949      3.225744       15.719815   230.513177    66.448904  \n",
              "std         0.077993      3.086860       10.425921   578.599987   205.743465  \n",
              "min        -0.643237    -31.161604        0.438666     2.947014     1.459213  \n",
              "25%        -0.021250      1.807076        8.256415    18.962959     5.923284  \n",
              "50%         0.007751      2.508794       12.395482    42.088888    14.119027  \n",
              "75%         0.043173      3.814100       19.643879   138.531834    33.883607  \n",
              "max         0.304345     24.174202       74.709138  5835.453087  3207.348369  "
            ]
          },
          "execution_count": 36,
          "metadata": {},
          "output_type": "execute_result"
        }
      ],
      "source": [
        "trainHH = convert_df(\"HH\", \"train\")\n",
        "trainHH.head(500).describe()"
      ]
    },
    {
      "cell_type": "code",
      "execution_count": null,
      "metadata": {},
      "outputs": [],
      "source": []
    },
    {
      "cell_type": "code",
      "execution_count": 3,
      "metadata": {},
      "outputs": [],
      "source": [
        "selected_features = trainHA\n"
      ]
    },
    {
      "cell_type": "code",
      "execution_count": 4,
      "metadata": {},
      "outputs": [
        {
          "name": "stderr",
          "output_type": "stream",
          "text": [
            "c:\\Users\\zhang\\anaconda3\\Lib\\site-packages\\sklearn\\cluster\\_kmeans.py:1412: FutureWarning: The default value of `n_init` will change from 10 to 'auto' in 1.4. Set the value of `n_init` explicitly to suppress the warning\n",
            "  super()._check_params_vs_input(X, default_n_init=10)\n",
            "c:\\Users\\zhang\\anaconda3\\Lib\\site-packages\\joblib\\externals\\loky\\backend\\context.py:110: UserWarning: Could not find the number of physical cores for the following reason:\n",
            "found 0 physical cores < 1\n",
            "Returning the number of logical cores instead. You can silence this warning by setting LOKY_MAX_CPU_COUNT to the number of cores you want to use.\n",
            "  warnings.warn(\n",
            "  File \"c:\\Users\\zhang\\anaconda3\\Lib\\site-packages\\joblib\\externals\\loky\\backend\\context.py\", line 217, in _count_physical_cores\n",
            "    raise ValueError(\n"
          ]
        },
        {
          "data": {
            "image/png": "[encoded data removed]",
            "text/plain": [
              "<Figure size 1500x700 with 1 Axes>"
            ]
          },
          "metadata": {},
          "output_type": "display_data"
        }
      ],
      "source": [
        "from sklearn.preprocessing import StandardScaler\n",
        "from sklearn.cluster import KMeans\n",
        "import matplotlib.pyplot as plt\n",
        "import numpy as np\n",
        "\n",
        "\n",
        "\n",
        "def normalize_data(features):\n",
        "    \"\"\"\n",
        "    Normalize the given feature dataframe using StandardScaler.\n",
        "    \n",
        "    Args:\n",
        "    - features (pd.DataFrame): The dataframe to normalize.\n",
        "    \n",
        "    Returns:\n",
        "    - np.array: The normalized data.\n",
        "    \"\"\"\n",
        "    features.dropna(inplace=True)\n",
        "    scaler = StandardScaler()\n",
        "    return scaler.fit_transform(features.drop(['case_id'], axis=1))\n",
        "\n",
        "def perform_kmeans_clustering(data, n_clusters=3):\n",
        "    \"\"\"\n",
        "    Perform KMeans clustering on the data.\n",
        "    \n",
        "    Args:\n",
        "    - data (np.array): The data to cluster.\n",
        "    - n_clusters (int, optional): Number of clusters. Default is 3.\n",
        "    \n",
        "    Returns:\n",
        "    - np.array: The cluster labels.\n",
        "    \"\"\"\n",
        "    kmeans = KMeans(n_clusters=n_clusters, random_state=42)\n",
        "    return kmeans.fit_predict(data)\n",
        "\n",
        "def plot_kmeans_results(features, labels):\n",
        "    \"\"\"\n",
        "    Plot the results of the KMeans clustering.\n",
        "    \n",
        "    Args:\n",
        "    - features (pd.DataFrame): The feature dataframe.\n",
        "    - labels (np.array): The cluster labels.\n",
        "    \"\"\"\n",
        "    fig = plt.figure(figsize=(15, 7))\n",
        "\n",
        "    ax1 = fig.add_subplot(121, projection='3d')\n",
        "    scatter1 = ax1.scatter(features['TTC'], \n",
        "                           features['time_headway'], \n",
        "                           features['delta_velocity'], \n",
        "                           c=labels, \n",
        "                           cmap='viridis', \n",
        "                           s=50)\n",
        "\n",
        "    ax1.set_xlabel('Relative Distance')\n",
        "    ax1.set_ylabel('Absolute Acceleration')\n",
        "    ax1.set_zlabel('Relative Velocity')\n",
        "    ax1.set_title('K-Means Clustering Results')\n",
        "    legend1 = ax1.legend(*scatter1.legend_elements(), title=\"Clusters\")\n",
        "    ax1.add_artist(legend1)\n",
        "    plt.show()\n",
        "\n",
        "# Usage\n",
        "scaled_data = normalize_data(selected_features)\n",
        "selected_features['cluster'] = perform_kmeans_clustering(scaled_data)\n",
        "plot_kmeans_results(selected_features, selected_features['cluster'])\n"
      ]
    },
    {
      "cell_type": "code",
      "execution_count": 5,
      "metadata": {},
      "outputs": [
        {
          "name": "stderr",
          "output_type": "stream",
          "text": [
            "c:\\Users\\zhang\\anaconda3\\Lib\\site-packages\\sklearn\\cluster\\_kmeans.py:1412: FutureWarning: The default value of `n_init` will change from 10 to 'auto' in 1.4. Set the value of `n_init` explicitly to suppress the warning\n",
            "  super()._check_params_vs_input(X, default_n_init=10)\n",
            "c:\\Users\\zhang\\anaconda3\\Lib\\site-packages\\sklearn\\cluster\\_kmeans.py:1412: FutureWarning: The default value of `n_init` will change from 10 to 'auto' in 1.4. Set the value of `n_init` explicitly to suppress the warning\n",
            "  super()._check_params_vs_input(X, default_n_init=10)\n",
            "c:\\Users\\zhang\\anaconda3\\Lib\\site-packages\\sklearn\\cluster\\_kmeans.py:1412: FutureWarning: The default value of `n_init` will change from 10 to 'auto' in 1.4. Set the value of `n_init` explicitly to suppress the warning\n",
            "  super()._check_params_vs_input(X, default_n_init=10)\n",
            "c:\\Users\\zhang\\anaconda3\\Lib\\site-packages\\sklearn\\cluster\\_kmeans.py:1412: FutureWarning: The default value of `n_init` will change from 10 to 'auto' in 1.4. Set the value of `n_init` explicitly to suppress the warning\n",
            "  super()._check_params_vs_input(X, default_n_init=10)\n",
            "c:\\Users\\zhang\\anaconda3\\Lib\\site-packages\\sklearn\\cluster\\_kmeans.py:1412: FutureWarning: The default value of `n_init` will change from 10 to 'auto' in 1.4. Set the value of `n_init` explicitly to suppress the warning\n",
            "  super()._check_params_vs_input(X, default_n_init=10)\n",
            "c:\\Users\\zhang\\anaconda3\\Lib\\site-packages\\sklearn\\cluster\\_kmeans.py:1412: FutureWarning: The default value of `n_init` will change from 10 to 'auto' in 1.4. Set the value of `n_init` explicitly to suppress the warning\n",
            "  super()._check_params_vs_input(X, default_n_init=10)\n",
            "c:\\Users\\zhang\\anaconda3\\Lib\\site-packages\\sklearn\\cluster\\_kmeans.py:1412: FutureWarning: The default value of `n_init` will change from 10 to 'auto' in 1.4. Set the value of `n_init` explicitly to suppress the warning\n",
            "  super()._check_params_vs_input(X, default_n_init=10)\n",
            "c:\\Users\\zhang\\anaconda3\\Lib\\site-packages\\sklearn\\cluster\\_kmeans.py:1412: FutureWarning: The default value of `n_init` will change from 10 to 'auto' in 1.4. Set the value of `n_init` explicitly to suppress the warning\n",
            "  super()._check_params_vs_input(X, default_n_init=10)\n",
            "c:\\Users\\zhang\\anaconda3\\Lib\\site-packages\\sklearn\\cluster\\_kmeans.py:1412: FutureWarning: The default value of `n_init` will change from 10 to 'auto' in 1.4. Set the value of `n_init` explicitly to suppress the warning\n",
            "  super()._check_params_vs_input(X, default_n_init=10)\n",
            "c:\\Users\\zhang\\anaconda3\\Lib\\site-packages\\sklearn\\cluster\\_kmeans.py:1412: FutureWarning: The default value of `n_init` will change from 10 to 'auto' in 1.4. Set the value of `n_init` explicitly to suppress the warning\n",
            "  super()._check_params_vs_input(X, default_n_init=10)\n"
          ]
        },
        {
          "data": {
            "image/png": "[encoded data removed]",
            "text/plain": [
              "<Figure size 640x480 with 1 Axes>"
            ]
          },
          "metadata": {},
          "output_type": "display_data"
        },
        {
          "name": "stderr",
          "output_type": "stream",
          "text": [
            "c:\\Users\\zhang\\anaconda3\\Lib\\site-packages\\sklearn\\cluster\\_kmeans.py:1412: FutureWarning: The default value of `n_init` will change from 10 to 'auto' in 1.4. Set the value of `n_init` explicitly to suppress the warning\n",
            "  super()._check_params_vs_input(X, default_n_init=10)\n"
          ]
        },
        {
          "data": {
            "image/png": "[encoded data removed]",
            "text/plain": [
              "<Figure size 640x480 with 1 Axes>"
            ]
          },
          "metadata": {},
          "output_type": "display_data"
        },
        {
          "name": "stdout",
          "output_type": "stream",
          "text": [
            "The average silhouette_score is: 0.38771479761364597\n"
          ]
        }
      ],
      "source": [
        "selected_features = trainHA\n",
        "#print selected_features length\n",
        "print(len(selected_features))\n",
        "\n",
        "\n",
        "\n"
      ]
    },
    {
      "cell_type": "code",
      "execution_count": 6,
      "metadata": {},
      "outputs": [
        {
          "name": "stderr",
          "output_type": "stream",
          "text": [
            "  3%|▎         | 3/100 [00:00<00:07, 12.83it/s]"
          ]
        },
        {
          "name": "stdout",
          "output_type": "stream",
          "text": [
            "epoch: 0 loss: 0.49184984\n"
          ]
        },
        {
          "name": "stderr",
          "output_type": "stream",
          "text": [
            " 13%|█▎        | 13/100 [00:00<00:04, 17.71it/s]"
          ]
        },
        {
          "name": "stdout",
          "output_type": "stream",
          "text": [
            "epoch: 10 loss: 0.37886670\n"
          ]
        },
        {
          "name": "stderr",
          "output_type": "stream",
          "text": [
            " 25%|██▌       | 25/100 [00:01<00:04, 18.53it/s]"
          ]
        },
        {
          "name": "stdout",
          "output_type": "stream",
          "text": [
            "epoch: 20 loss: 0.25835168\n"
          ]
        },
        {
          "name": "stderr",
          "output_type": "stream",
          "text": [
            "Training Epochs:  32%|███▏      | 32/100 [00:02<00:06, 11.32it/s]"
          ]
        },
        {
          "name": "stdout",
          "output_type": "stream",
          "text": [
            "epoch: 30 loss: 0.12135606\n"
          ]
        },
        {
          "name": "stderr",
          "output_type": "stream",
          "text": [
            " 43%|████▎     | 43/100 [00:02<00:03, 18.08it/s]"
          ]
        },
        {
          "name": "stdout",
          "output_type": "stream",
          "text": [
            "epoch: 40 loss: 0.01635828\n"
          ]
        },
        {
          "name": "stderr",
          "output_type": "stream",
          "text": [
            " 53%|█████▎    | 53/100 [00:02<00:02, 18.81it/s]"
          ]
        },
        {
          "name": "stdout",
          "output_type": "stream",
          "text": [
            "epoch: 50 loss: 0.01880449\n"
          ]
        },
        {
          "name": "stderr",
          "output_type": "stream",
          "text": [
            " 63%|██████▎   | 63/100 [00:03<00:01, 18.78it/s]"
          ]
        },
        {
          "name": "stdout",
          "output_type": "stream",
          "text": [
            "epoch: 60 loss: 0.00910891\n"
          ]
        },
        {
          "name": "stderr",
          "output_type": "stream",
          "text": [
            " 75%|███████▌  | 75/100 [00:04<00:01, 18.83it/s]"
          ]
        },
        {
          "name": "stdout",
          "output_type": "stream",
          "text": [
            "epoch: 70 loss: 0.00921072\n"
          ]
        },
        {
          "name": "stderr",
          "output_type": "stream",
          "text": [
            " 85%|████████▌ | 85/100 [00:04<00:00, 18.75it/s]"
          ]
        },
        {
          "name": "stdout",
          "output_type": "stream",
          "text": [
            "epoch: 80 loss: 0.00829466\n"
          ]
        },
        {
          "name": "stderr",
          "output_type": "stream",
          "text": [
            " 93%|█████████▎| 93/100 [00:05<00:00, 19.48it/s]"
          ]
        },
        {
          "name": "stdout",
          "output_type": "stream",
          "text": [
            "epoch: 90 loss: 0.00814588\n"
          ]
        },
        {
          "name": "stderr",
          "output_type": "stream",
          "text": [
            "100%|██████████| 100/100 [00:05<00:00, 18.12it/s]\n"
          ]
        },
        {
          "name": "stdout",
          "output_type": "stream",
          "text": [
            "Mean Squared Error (MSE): 0.57\n",
            "Root Mean Squared Error (RMSE): 0.76\n",
            "Mean Absolute Error (MAE): 0.54\n"
          ]
        },
        {
          "name": "stderr",
          "output_type": "stream",
          "text": [
            "  3%|▎         | 3/100 [00:00<00:03, 25.45it/s]"
          ]
        },
        {
          "name": "stdout",
          "output_type": "stream",
          "text": [
            "epoch: 0 loss: 0.26303762\n"
          ]
        },
        {
          "name": "stderr",
          "output_type": "stream",
          "text": [
            " 15%|█▌        | 15/100 [00:00<00:03, 27.64it/s]"
          ]
        },
        {
          "name": "stdout",
          "output_type": "stream",
          "text": [
            "epoch: 10 loss: 0.19429857\n"
          ]
        },
        {
          "name": "stderr",
          "output_type": "stream",
          "text": [
            " 24%|██▍       | 24/100 [00:00<00:02, 26.02it/s]"
          ]
        },
        {
          "name": "stdout",
          "output_type": "stream",
          "text": [
            "epoch: 20 loss: 0.12422454\n"
          ]
        },
        {
          "name": "stderr",
          "output_type": "stream",
          "text": [
            " 36%|███▌      | 36/100 [00:01<00:02, 27.52it/s]"
          ]
        },
        {
          "name": "stdout",
          "output_type": "stream",
          "text": [
            "epoch: 30 loss: 0.05124555\n"
          ]
        },
        {
          "name": "stderr",
          "output_type": "stream",
          "text": [
            " 45%|████▌     | 45/100 [00:01<00:02, 26.97it/s]"
          ]
        },
        {
          "name": "stdout",
          "output_type": "stream",
          "text": [
            "epoch: 40 loss: 0.00543044\n"
          ]
        },
        {
          "name": "stderr",
          "output_type": "stream",
          "text": [
            " 54%|█████▍    | 54/100 [00:02<00:01, 26.76it/s]"
          ]
        },
        {
          "name": "stdout",
          "output_type": "stream",
          "text": [
            "epoch: 50 loss: 0.00998564\n"
          ]
        },
        {
          "name": "stderr",
          "output_type": "stream",
          "text": [
            " 66%|██████▌   | 66/100 [00:02<00:01, 27.41it/s]"
          ]
        },
        {
          "name": "stdout",
          "output_type": "stream",
          "text": [
            "epoch: 60 loss: 0.00432211\n"
          ]
        },
        {
          "name": "stderr",
          "output_type": "stream",
          "text": [
            " 75%|███████▌  | 75/100 [00:02<00:00, 25.89it/s]"
          ]
        },
        {
          "name": "stdout",
          "output_type": "stream",
          "text": [
            "epoch: 70 loss: 0.00483109\n"
          ]
        },
        {
          "name": "stderr",
          "output_type": "stream",
          "text": [
            " 84%|████████▍ | 84/100 [00:03<00:00, 25.57it/s]"
          ]
        },
        {
          "name": "stdout",
          "output_type": "stream",
          "text": [
            "epoch: 80 loss: 0.00423230\n"
          ]
        },
        {
          "name": "stderr",
          "output_type": "stream",
          "text": [
            " 96%|█████████▌| 96/100 [00:03<00:00, 26.59it/s]"
          ]
        },
        {
          "name": "stdout",
          "output_type": "stream",
          "text": [
            "epoch: 90 loss: 0.00424132\n"
          ]
        },
        {
          "name": "stderr",
          "output_type": "stream",
          "text": [
            "100%|██████████| 100/100 [00:03<00:00, 26.59it/s]\n"
          ]
        },
        {
          "name": "stdout",
          "output_type": "stream",
          "text": [
            "Mean Squared Error (MSE): 0.63\n",
            "Root Mean Squared Error (RMSE): 0.79\n",
            "Mean Absolute Error (MAE): 0.61\n"
          ]
        },
        {
          "name": "stderr",
          "output_type": "stream",
          "text": [
            " 16%|█▌        | 16/100 [00:00<00:00, 156.55it/s]"
          ]
        },
        {
          "name": "stdout",
          "output_type": "stream",
          "text": [
            "epoch: 0 loss: 0.05946311\n",
            "epoch: 10 loss: 0.03647152\n",
            "epoch: 20 loss: 0.02422940\n"
          ]
        },
        {
          "name": "stderr",
          "output_type": "stream",
          "text": [
            " 48%|████▊     | 48/100 [00:00<00:00, 138.74it/s]"
          ]
        },
        {
          "name": "stdout",
          "output_type": "stream",
          "text": [
            "epoch: 30 loss: 0.02013387\n",
            "epoch: 40 loss: 0.02052322\n",
            "epoch: 50 loss: 0.02018879\n"
          ]
        },
        {
          "name": "stderr",
          "output_type": "stream",
          "text": [
            " 78%|███████▊  | 78/100 [00:00<00:00, 143.43it/s]"
          ]
        },
        {
          "name": "stdout",
          "output_type": "stream",
          "text": [
            "epoch: 60 loss: 0.02008117\n",
            "epoch: 70 loss: 0.02009696\n",
            "epoch: 80 loss: 0.02006897\n"
          ]
        },
        {
          "name": "stderr",
          "output_type": "stream",
          "text": [
            "100%|██████████| 100/100 [00:00<00:00, 144.79it/s]"
          ]
        },
        {
          "name": "stdout",
          "output_type": "stream",
          "text": [
            "epoch: 90 loss: 0.02006951\n",
            "Mean Squared Error (MSE): 1.79\n",
            "Root Mean Squared Error (RMSE): 1.34\n",
            "Mean Absolute Error (MAE): 1.05\n"
          ]
        },
        {
          "name": "stderr",
          "output_type": "stream",
          "text": [
            "\n"
          ]
        }
      ],
      "source": [
        "import torch\n",
        "import torch.nn as nn\n",
        "import torch.optim as optim\n",
        "import numpy as np\n",
        "import pandas as pd\n",
        "from sklearn.model_selection import train_test_split\n",
        "from sklearn.preprocessing import StandardScaler\n",
        "from sklearn.metrics import mean_squared_error, mean_absolute_error\n",
        "from tqdm import tqdm\n",
        "import math\n",
        "\n",
        "class LSTMModel(nn.Module):\n",
        "    def __init__(self, input_size=1, hidden_layer_size=100, output_size=1):\n",
        "        super().__init__()\n",
        "        self.lstm = nn.LSTM(input_size, hidden_layer_size, batch_first=True)\n",
        "        self.linear = nn.Linear(hidden_layer_size, output_size)\n",
        "    \n",
        "    def forward(self, input_seq):\n",
        "        lstm_out, _ = self.lstm(input_seq)\n",
        "        predictions = self.linear(lstm_out[:, -1, :])\n",
        "        return predictions\n",
        "\n",
        "\n",
        "clustered_dataframes = {}\n",
        "for cluster_number in clustered_data['cluster'].unique():\n",
        "    clustered_dataframes[cluster_number] = clustered_data[clustered_data['cluster'] == cluster_number].drop(columns=['cluster', 'case_id'])\n",
        "\n",
        "def preprocess_data(df, n_steps_in, n_steps_out, test_size=0.2):\n",
        "    scaler = StandardScaler()\n",
        "    data_normalized = scaler.fit_transform(df)\n",
        "    X, y = create_sequences(data_normalized, n_steps_in, n_steps_out)\n",
        "    X_train, X_test, y_train, y_test = train_test_split(X, y, test_size=test_size, random_state=42)\n",
        "    return (\n",
        "        torch.tensor(X_train, dtype=torch.float32), torch.tensor(y_train, dtype=torch.float32),\n",
        "        torch.tensor(X_test, dtype=torch.float32), torch.tensor(y_test, dtype=torch.float32),\n",
        "        scaler\n",
        "    )\n",
        "\n",
        "def create_sequences(data, n_steps_in, n_steps_out):\n",
        "    X, y = [], []\n",
        "    for i in range(len(data)):\n",
        "        end_ix = i + n_steps_in\n",
        "        out_end_ix = end_ix + n_steps_out\n",
        "        if out_end_ix > len(data):\n",
        "            break\n",
        "        seq_x, seq_y = data[i:end_ix, :], data[end_ix:out_end_ix, :]\n",
        "        X.append(seq_x)\n",
        "        y.append(seq_y)\n",
        "    return np.array(X), np.array(y)\n",
        "\n",
        "def train_model(model, X_train_tensor, y_train_tensor, epochs, optimizer, loss_function):\n",
        "    for epoch in tqdm(range(epochs), desc='Training Epochs'):\n",
        "        model.train()\n",
        "        optimizer.zero_grad()\n",
        "        y_pred = model(X_train_tensor)\n",
        "        loss = loss_function(y_pred, y_train_tensor[:, 0, :])\n",
        "        loss.backward()\n",
        "        optimizer.step()\n",
        "        if epoch % 10 == 0:\n",
        "            tqdm.write(f'Epoch: {epoch} Loss: {loss.item():.4f}')\n",
        "\n",
        "def evaluate_model(model, X_test_tensor, y_test_tensor, scaler):\n",
        "    model.eval()\n",
        "    with torch.no_grad():\n",
        "        y_pred = model(X_test_tensor)\n",
        "        y_pred = y_pred.cpu().numpy()\n",
        "        y_pred_original = scaler.inverse_transform(y_pred)\n",
        "        y_test_original = scaler.inverse_transform(y_test_tensor.cpu().numpy()[:, 0, :])\n",
        "        mse = mean_squared_error(y_test_original, y_pred_original)\n",
        "        rmse = math.sqrt(mse)\n",
        "        mae = mean_absolute_error(y_test_original, y_pred_original)\n",
        "    print(f'MSE: {mse:.2f}, RMSE: {rmse:.2f}, MAE: {mae:.2f}')\n",
        "    return mse, rmse, mae\n",
        "\n",
        "models_scalers = {}\n",
        "n_steps_in, n_steps_out = 3, 1\n",
        "for cluster, cluster_df in clustered_dataframes.items():\n",
        "    X_train_tensor, y_train_tensor, X_test_tensor, y_test_tensor, scaler = preprocess_data(cluster_df, n_steps_in, n_steps_out)\n",
        "    model = LSTMModel(input_size=X_train_tensor.shape[2], hidden_layer_size=50, output_size=y_train_tensor.shape[2])\n",
        "    optimizer = optim.Adam(model.parameters(), lr=0.001)\n",
        "    loss_function = nn.MSELoss()\n",
        "    train_model(model, X_train_tensor, y_train_tensor, epochs=100, optimizer=optimizer, loss_function=loss_function)\n",
        "    mse, rmse, mae = evaluate_model(model, X_test_tensor, y_test_tensor, scaler)\n",
        "    models_scalers[cluster] = {'model': model, 'scaler': scaler, 'metrics': (mse, rmse, mae)}\n",
        "\n",
        "# Save the model and scaler if needed\n",
        "torch.save(models_scalers, 'models_scalers.pth')\n"
      ]
    },
    {
      "cell_type": "code",
      "execution_count": 103,
      "metadata": {},
      "outputs": [],
      "source": [
        "# Evaluation dataset is used here to predict the next time step\n",
        "eval_df = convert_df(\"HA\", \"val\")\n"
      ]
    },
    {
      "cell_type": "code",
      "execution_count": 31,
      "metadata": {},
      "outputs": [
        {
          "name": "stdout",
          "output_type": "stream",
          "text": [
            "时间步 1 的预测车辆位置为：0.41017335653305054 米\n",
            "时间步 2 的预测车辆位置为：0.41017335653305054 米\n"
          ]
        }
      ],
      "source": [
        "input_data = np.array([[20, 3],   # 时间步1：速度=20m/s，加速度=3m/s^2\n",
        "                       [22, 2],   # 时间步2：速度=22m/s，加速度=2m/s^2\n",
        "                       [24, 2.5], # 时间步3：速度=24m/s，加速度=2.5m/s^2\n",
        "                       [25, 1.5], # 时间步4：速度=25m/s，加速度=1.5m/s^2\n",
        "                       [26, 1]])  # 时间步5：速度=26m/s，加速度=1m/s^2\n",
        "\n",
        "input_tensor = torch.tensor(input_data, dtype=torch.float32)\n",
        "\n",
        "with torch.no_grad():\n",
        "    model.eval()  # 设置模型为评估模式\n",
        "    output = model(input_tensor.unsqueeze(0))\n",
        "\n",
        "output_array = output.numpy()\n",
        "\n",
        "predicted_positions = [output_array[0, 0] for timestep in range(output_array.shape[1])]\n",
        "\n",
        "\n",
        "for timestep, position in enumerate(predicted_positions, start=1):\n",
        "    print(f\"时间步 {timestep} 的预测车辆位置为：{position} 米\")"
      ]
    },
    {
      "cell_type": "code",
      "execution_count": null,
      "metadata": {},
      "outputs": [
        {
          "data": {
            "text/html": [
              "<div>\n",
              "<style scoped>\n",
              "    .dataframe tbody tr th:only-of-type {\n",
              "        vertical-align: middle;\n",
              "    }\n",
              "\n",
              "    .dataframe tbody tr th {\n",
              "        vertical-align: top;\n",
              "    }\n",
              "\n",
              "    .dataframe thead th {\n",
              "        text-align: right;\n",
              "    }\n",
              "</style>\n",
              "<table border=\"1\" class=\"dataframe\">\n",
              "  <thead>\n",
              "    <tr style=\"text-align: right;\">\n",
              "      <th></th>\n",
              "      <th>delta_velocity</th>\n",
              "      <th>v_follower</th>\n",
              "      <th>delta_acceleration</th>\n",
              "      <th>a_follower</th>\n",
              "      <th>jerk_follower</th>\n",
              "      <th>time_headway</th>\n",
              "      <th>delta_position</th>\n",
              "      <th>TTC</th>\n",
              "      <th>TTC_min</th>\n",
              "    </tr>\n",
              "  </thead>\n",
              "  <tbody>\n",
              "    <tr>\n",
              "      <th>0</th>\n",
              "      <td>-0.112306</td>\n",
              "      <td>13.972906</td>\n",
              "      <td>-0.040953</td>\n",
              "      <td>0.913186</td>\n",
              "      <td>0.013031</td>\n",
              "      <td>2.296439</td>\n",
              "      <td>22.095424</td>\n",
              "      <td>124.803687</td>\n",
              "      <td>11.794680</td>\n",
              "    </tr>\n",
              "    <tr>\n",
              "      <th>1</th>\n",
              "      <td>1.577983</td>\n",
              "      <td>12.061164</td>\n",
              "      <td>-0.035401</td>\n",
              "      <td>0.162992</td>\n",
              "      <td>0.013574</td>\n",
              "      <td>3.225179</td>\n",
              "      <td>8.866747</td>\n",
              "      <td>18.864220</td>\n",
              "      <td>3.197740</td>\n",
              "    </tr>\n",
              "    <tr>\n",
              "      <th>2</th>\n",
              "      <td>-0.274519</td>\n",
              "      <td>12.536280</td>\n",
              "      <td>-0.004253</td>\n",
              "      <td>3.739273</td>\n",
              "      <td>-0.047253</td>\n",
              "      <td>1.156909</td>\n",
              "      <td>9.121510</td>\n",
              "      <td>85.516191</td>\n",
              "      <td>7.427292</td>\n",
              "    </tr>\n",
              "  </tbody>\n",
              "</table>\n",
              "</div>"
            ],
            "text/plain": [
              "   delta_velocity  v_follower  delta_acceleration  a_follower  jerk_follower  \\\n",
              "0       -0.112306   13.972906           -0.040953    0.913186       0.013031   \n",
              "1        1.577983   12.061164           -0.035401    0.162992       0.013574   \n",
              "2       -0.274519   12.536280           -0.004253    3.739273      -0.047253   \n",
              "\n",
              "   time_headway  delta_position         TTC    TTC_min  \n",
              "0      2.296439       22.095424  124.803687  11.794680  \n",
              "1      3.225179        8.866747   18.864220   3.197740  \n",
              "2      1.156909        9.121510   85.516191   7.427292  "
            ]
          },
          "execution_count": 104,
          "metadata": {},
          "output_type": "execute_result"
        }
      ],
      "source": [
        "# this is the initial input for the model, the minimum sequence length is 3 so at least 3 rows are needed\n",
        "eval_df = eval_df.head(3)\n",
        "eval_df = eval_df.drop(columns=['case_id'])\n",
        "\n",
        "eval_df\n"
      ]
    },
    {
      "cell_type": "code",
      "execution_count": 106,
      "metadata": {},
      "outputs": [
        {
          "name": "stderr",
          "output_type": "stream",
          "text": [
            "/Users/ykong/.local/share/virtualenvs/car-following-project--ZycwsGt/lib/python3.11/site-packages/sklearn/base.py:465: UserWarning: X does not have valid feature names, but StandardScaler was fitted with feature names\n",
            "  warnings.warn(\n"
          ]
        },
        {
          "data": {
            "text/plain": [
              "array([0.00502765], dtype=float32)"
            ]
          },
          "execution_count": 106,
          "metadata": {},
          "output_type": "execute_result"
        }
      ],
      "source": [
        "import torch\n",
        "import pandas as pd\n",
        "import numpy as np\n",
        "from sklearn.preprocessing import StandardScaler\n",
        "\n",
        "def predict_delta_acceleration(eval_df, models_scalers, cluster_number=1, n_steps_in=3, delta_acceleration_index=2):\n",
        "    \"\"\"\n",
        "    Predicts the delta acceleration of a car using an LSTM model trained on car-following data.\n",
        "\n",
        "    Parameters:\n",
        "    eval_df (pandas.DataFrame): The input data to predict on.\n",
        "    models_scalers (dict): A dictionary containing the trained models and scalers for each cluster.\n",
        "    cluster_number (int): The cluster number to use for prediction.\n",
        "    n_steps_in (int): The number of time steps to use as input for the LSTM model.\n",
        "    delta_acceleration_index (int): The index of the delta acceleration column in the output.\n",
        "\n",
        "    Returns:\n",
        "    float: The predicted delta acceleration.\n",
        "    \"\"\"\n",
        "    \n",
        "\n",
        "    # Load the scaler for the cluster\n",
        "    scaler = models_scalers[cluster_number]['scaler']\n",
        "\n",
        "    # Prepare the input data for prediction\n",
        "    X_new_prepared = preprocess_new_data(eval_df.values, scaler, n_steps_in)\n",
        "    X_new_tensor = torch.tensor(X_new_prepared, dtype=torch.float32)\n",
        "\n",
        "    # Load the model for the cluster\n",
        "    model = models_scalers[cluster_number]['model']\n",
        "\n",
        "    # Predict using the model\n",
        "    model.eval()\n",
        "    with torch.no_grad():\n",
        "        y_new_pred_tensor = model(X_new_tensor)\n",
        "        y_new_pred = y_new_pred_tensor.numpy()\n",
        "\n",
        "    # Inverse transform the predictions to the original scale\n",
        "    y_new_pred_original = scaler.inverse_transform(y_new_pred)\n",
        "\n",
        "    # Extract the denormalized delta_acceleration values\n",
        "    delta_acceleration_pred_original = y_new_pred_original[:, delta_acceleration_index]\n",
        "\n",
        "    # Return the predicted delta acceleration\n",
        "    return delta_acceleration_pred_original\n",
        "\n",
        "# Load the model from the saved models_cales.pth file\n",
        "models_scalers = torch.load('models_scalers.pth')\n",
        "\n",
        "# Predict the delta acceleration for the eval_df dataframe\n",
        "cluster_number = 1\n",
        "delta_acceleration_pred = predict_delta_acceleration(eval_df, models_scalers, cluster_number)\n",
        "delta_acceleration_pred"
      ]
    }
  ],
  "metadata": {
    "kernelspec": {
      "display_name": "car-following-project--ZycwsGt",
      "language": "python",
      "name": "python3"
    },
    "language_info": {
      "codemirror_mode": {
        "name": "ipython",
        "version": 3
      },
      "file_extension": ".py",
      "mimetype": "text/x-python",
      "name": "python",
      "nbconvert_exporter": "python",
      "pygments_lexer": "ipython3",
      "version": "3.11.4"
    }
  },
  "nbformat": 4,
  "nbformat_minor": 2
}
