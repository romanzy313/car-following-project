{
 "cells": [
  {
   "cell_type": "code",
   "execution_count": 9,
   "metadata": {},
   "outputs": [],
   "source": [
    "import pandas as pd\n",
    "from read_data import read_data\n",
    "import numpy as np\n",
    "\n",
    "def compute_delta_metrics(data):\n",
    "    \"\"\"\n",
    "    Computes additional metrics for the dataset:\n",
    "    - Delta Position: Leader's position minus Follower's position.\n",
    "    - Delta Velocity: Leader's velocity minus Follower's velocity.\n",
    "    - Delta Acceleration: Leader's acceleration minus Follower's acceleration.\n",
    "    - Time-To-Collision (TTC): Delta Position divided by Delta Velocity.\n",
    "    \"\"\"\n",
    "    data[\"delta_position\"] = data[\"x_leader\"] - data[\"x_follower\"]\n",
    "    data[\"delta_velocity\"] = data[\"v_follower\"] - data[\"v_leader\"]\n",
    "    data[\"delta_acceleration\"] = data[\"a_follower\"] - data[\"a_leader\"]\n",
    "    data[\"TTC\"] = data[\"delta_position\"] / data[\"delta_velocity\"]\n",
    "    data.loc[data[\"TTC\"] < 0, \"TTC\"] = np.nan\n",
    "    data['time_headway'] = data['delta_position'] / data['v_follower']\n",
    "    data['TTC_min'] = data['TTC']\n",
    "\n",
    "    # Calculate jerk for the follower vehicle\n",
    "    data['jerk_follower'] = np.gradient(data['a_follower'], data['time'])\n",
    "    return data\n",
    "\n",
    "def aggregate_data_by_case(data):\n",
    "    \"\"\"\n",
    "    Aggregates the dataset by 'case_id' to find the max and min \n",
    "    of each delta metric and TTC for each case.\n",
    "    Renames columns for clarity and adds case_id as a column.\n",
    "    \"\"\"\n",
    "    aggr_data = data.groupby('case_id').agg({'delta_velocity':'mean',\n",
    "                           'v_follower':'max',\n",
    "                           'delta_acceleration':'mean',\n",
    "                           'a_follower':'max',\n",
    "                           'jerk_follower':'mean',\n",
    "                           'time_headway':'median',\n",
    "                           'delta_position':'min',\n",
    "                           'TTC':'median',\n",
    "                           'TTC_min':'min'}).reset_index()\n",
    "\n",
    "    return aggr_data\n",
    "\n",
    "def adjust_ttc_sign(aggregated_data):\n",
    "    \"\"\"\n",
    "    Ensures TTC (Time-To-Collision) is non-negative by taking the absolute value.\n",
    "    \"\"\"\n",
    "    aggregated_data[\"TTC\"] = aggregated_data[\"TTC\"].abs()\n",
    "    aggregated_data[\"TTC_min\"] = aggregated_data[\"TTC_min\"].abs()\n",
    "    return aggregated_data\n",
    "\n",
    "def convert_df(dataset: str, mode: str):\n",
    "    \"\"\"\n",
    "    Main function that utilizes the above helper functions to preprocess the data.\n",
    "    Returns a DataFrame grouped by 'case_id' with max and min values of\n",
    "    delta position, delta velocity, delta acceleration, and TTC (Time-To-Collision).\n",
    "    \"\"\"\n",
    "    data = read_data(dataset, mode)\n",
    "    data = compute_delta_metrics(data)\n",
    "    aggregated_data = aggregate_data_by_case(data)\n",
    "    aggregated_data = adjust_ttc_sign(aggregated_data)\n",
    "    return aggregated_data\n"
   ]
  },
  {
   "cell_type": "code",
   "execution_count": 10,
   "metadata": {},
   "outputs": [
    {
      "cell_type": "code",
      "execution_count": 1,
      "metadata": {},
      "outputs": [],
      "source": [
        "import pandas as pd\n",
        "from read_data import read_data\n",
        "import numpy as np\n",
        "\n",
        "def compute_delta_metrics(data):\n",
        "    \"\"\"\n",
        "    Computes additional metrics for the dataset:\n",
        "    - Delta Position: Leader's position minus Follower's position.\n",
        "    - Delta Velocity: Leader's velocity minus Follower's velocity.\n",
        "    - Delta Acceleration: Leader's acceleration minus Follower's acceleration.\n",
        "    - Time-To-Collision (TTC): Delta Position divided by Delta Velocity.\n",
        "    \"\"\"\n",
        "    data[\"delta_position\"] = data[\"x_leader\"] - data[\"x_follower\"]\n",
        "    data[\"delta_velocity\"] = data[\"v_follower\"] - data[\"v_leader\"]\n",
        "    data[\"delta_acceleration\"] = data[\"a_follower\"] - data[\"a_leader\"]\n",
        "    data[\"TTC\"] = data[\"delta_position\"] / data[\"delta_velocity\"]\n",
        "    data.loc[data[\"TTC\"] < 0, \"TTC\"] = np.nan\n",
        "    data['time_headway'] = data['delta_position'] / data['v_follower']\n",
        "    data['TTC_min'] = data['TTC']\n",
        "\n",
        "    # Calculate jerk for the follower vehicle\n",
        "    data['jerk_follower'] = np.gradient(data['a_follower'], data['time'])\n",
        "    return data\n",
        "\n",
        "def aggregate_data_by_case(data):\n",
        "    \"\"\"\n",
        "    Aggregates the dataset by 'case_id' to find the max and min \n",
        "    of each delta metric and TTC for each case.\n",
        "    Renames columns for clarity and adds case_id as a column.\n",
        "    \"\"\"\n",
        "    aggr_data = data.groupby('case_id').agg({'delta_velocity':'mean',\n",
        "                           'v_follower':'max',\n",
        "                           'delta_acceleration':'mean',\n",
        "                           'a_follower':'max',\n",
        "                           'jerk_follower':'mean',\n",
        "                           'time_headway':'median',\n",
        "                           'delta_position':'min',\n",
        "                           'TTC':'median',\n",
        "                           'TTC_min':'min'}).reset_index()\n",
        "\n",
        "    return aggr_data\n",
        "\n",
        "def adjust_ttc_sign(aggregated_data):\n",
        "    \"\"\"\n",
        "    Ensures TTC (Time-To-Collision) is non-negative by taking the absolute value.\n",
        "    \"\"\"\n",
        "    aggregated_data[\"TTC\"] = aggregated_data[\"TTC\"].abs()\n",
        "    aggregated_data[\"TTC_min\"] = aggregated_data[\"TTC_min\"].abs()\n",
        "    return aggregated_data\n",
        "\n",
        "def convert_df(dataset: str, mode: str):\n",
        "    \"\"\"\n",
        "    Main function that utilizes the above helper functions to preprocess the data.\n",
        "    Returns a DataFrame grouped by 'case_id' with max and min values of\n",
        "    delta position, delta velocity, delta acceleration, and TTC (Time-To-Collision).\n",
        "    \"\"\"\n",
        "    data = read_data(dataset, mode)\n",
        "    data = compute_delta_metrics(data)\n",
        "    aggregated_data = aggregate_data_by_case(data)\n",
        "    aggregated_data = adjust_ttc_sign(aggregated_data)\n",
        "    return aggregated_data\n"
      ]
    },
    {
      "cell_type": "code",
      "execution_count": 37,
      "metadata": {},
      "outputs": [
        {
          "data": {
            "text/html": [
              "<div>\n",
              "<style scoped>\n",
              "    .dataframe tbody tr th:only-of-type {\n",
              "        vertical-align: middle;\n",
              "    }\n",
              "\n",
              "    .dataframe tbody tr th {\n",
              "        vertical-align: top;\n",
              "    }\n",
              "\n",
              "    .dataframe thead th {\n",
              "        text-align: right;\n",
              "    }\n",
              "</style>\n",
              "<table border=\"1\" class=\"dataframe\">\n",
              "  <thead>\n",
              "    <tr style=\"text-align: right;\">\n",
              "      <th></th>\n",
              "      <th>case_id</th>\n",
              "      <th>delta_velocity</th>\n",
              "      <th>v_follower</th>\n",
              "      <th>delta_acceleration</th>\n",
              "      <th>a_follower</th>\n",
              "      <th>jerk_follower</th>\n",
              "      <th>time_headway</th>\n",
              "      <th>delta_position</th>\n",
              "      <th>TTC</th>\n",
              "      <th>TTC_min</th>\n",
              "    </tr>\n",
              "  </thead>\n",
              "  <tbody>\n",
              "    <tr>\n",
              "      <th>0</th>\n",
              "      <td>0</td>\n",
              "      <td>-0.585128</td>\n",
              "      <td>11.712142</td>\n",
              "      <td>0.047007</td>\n",
              "      <td>2.369844</td>\n",
              "      <td>-0.028677</td>\n",
              "      <td>1.697374</td>\n",
              "      <td>9.428864</td>\n",
              "      <td>61.144338</td>\n",
              "      <td>16.595543</td>\n",
              "    </tr>\n",
              "    <tr>\n",
              "      <th>1</th>\n",
              "      <td>1</td>\n",
              "      <td>-0.109332</td>\n",
              "      <td>14.526137</td>\n",
              "      <td>0.039523</td>\n",
              "      <td>0.837482</td>\n",
              "      <td>-0.022997</td>\n",
              "      <td>1.499226</td>\n",
              "      <td>18.421163</td>\n",
              "      <td>80.305906</td>\n",
              "      <td>20.562361</td>\n",
              "    </tr>\n",
              "    <tr>\n",
              "      <th>2</th>\n",
              "      <td>2</td>\n",
              "      <td>-0.717295</td>\n",
              "      <td>13.135771</td>\n",
              "      <td>-0.140948</td>\n",
              "      <td>1.012260</td>\n",
              "      <td>0.010870</td>\n",
              "      <td>3.379581</td>\n",
              "      <td>16.096035</td>\n",
              "      <td>7.636726</td>\n",
              "      <td>5.728496</td>\n",
              "    </tr>\n",
              "    <tr>\n",
              "      <th>3</th>\n",
              "      <td>3</td>\n",
              "      <td>1.121150</td>\n",
              "      <td>15.083161</td>\n",
              "      <td>0.026782</td>\n",
              "      <td>0.394586</td>\n",
              "      <td>-0.018426</td>\n",
              "      <td>1.937762</td>\n",
              "      <td>22.154348</td>\n",
              "      <td>25.245706</td>\n",
              "      <td>18.166619</td>\n",
              "    </tr>\n",
              "    <tr>\n",
              "      <th>4</th>\n",
              "      <td>4</td>\n",
              "      <td>0.587793</td>\n",
              "      <td>14.517350</td>\n",
              "      <td>-0.022323</td>\n",
              "      <td>0.667001</td>\n",
              "      <td>-0.018814</td>\n",
              "      <td>2.044764</td>\n",
              "      <td>14.362037</td>\n",
              "      <td>36.424020</td>\n",
              "      <td>7.093686</td>\n",
              "    </tr>\n",
              "    <tr>\n",
              "      <th>...</th>\n",
              "      <td>...</td>\n",
              "      <td>...</td>\n",
              "      <td>...</td>\n",
              "      <td>...</td>\n",
              "      <td>...</td>\n",
              "      <td>...</td>\n",
              "      <td>...</td>\n",
              "      <td>...</td>\n",
              "      <td>...</td>\n",
              "      <td>...</td>\n",
              "    </tr>\n",
              "    <tr>\n",
              "      <th>495</th>\n",
              "      <td>495</td>\n",
              "      <td>0.197079</td>\n",
              "      <td>14.385285</td>\n",
              "      <td>-0.088729</td>\n",
              "      <td>0.305779</td>\n",
              "      <td>-0.006375</td>\n",
              "      <td>2.179975</td>\n",
              "      <td>27.189289</td>\n",
              "      <td>59.974457</td>\n",
              "      <td>29.818995</td>\n",
              "    </tr>\n",
              "    <tr>\n",
              "      <th>496</th>\n",
              "      <td>496</td>\n",
              "      <td>1.227572</td>\n",
              "      <td>12.163433</td>\n",
              "      <td>-0.068099</td>\n",
              "      <td>0.397671</td>\n",
              "      <td>0.018117</td>\n",
              "      <td>2.446065</td>\n",
              "      <td>6.359919</td>\n",
              "      <td>11.324800</td>\n",
              "      <td>3.282347</td>\n",
              "    </tr>\n",
              "    <tr>\n",
              "      <th>497</th>\n",
              "      <td>497</td>\n",
              "      <td>0.317125</td>\n",
              "      <td>14.519390</td>\n",
              "      <td>-0.096140</td>\n",
              "      <td>1.157213</td>\n",
              "      <td>-0.019941</td>\n",
              "      <td>1.829167</td>\n",
              "      <td>17.585190</td>\n",
              "      <td>29.175127</td>\n",
              "      <td>7.392851</td>\n",
              "    </tr>\n",
              "    <tr>\n",
              "      <th>498</th>\n",
              "      <td>498</td>\n",
              "      <td>0.278913</td>\n",
              "      <td>14.095021</td>\n",
              "      <td>-0.065379</td>\n",
              "      <td>0.344991</td>\n",
              "      <td>-0.036504</td>\n",
              "      <td>1.402545</td>\n",
              "      <td>15.717958</td>\n",
              "      <td>33.327711</td>\n",
              "      <td>16.101418</td>\n",
              "    </tr>\n",
              "    <tr>\n",
              "      <th>499</th>\n",
              "      <td>499</td>\n",
              "      <td>0.248270</td>\n",
              "      <td>10.806744</td>\n",
              "      <td>0.091435</td>\n",
              "      <td>1.267526</td>\n",
              "      <td>-0.038707</td>\n",
              "      <td>2.446420</td>\n",
              "      <td>14.270447</td>\n",
              "      <td>16.262830</td>\n",
              "      <td>6.070137</td>\n",
              "    </tr>\n",
              "  </tbody>\n",
              "</table>\n",
              "<p>500 rows × 10 columns</p>\n",
              "</div>"
            ],
            "text/plain": [
              "     case_id  delta_velocity  v_follower  delta_acceleration  a_follower  \\\n",
              "0          0       -0.585128   11.712142            0.047007    2.369844   \n",
              "1          1       -0.109332   14.526137            0.039523    0.837482   \n",
              "2          2       -0.717295   13.135771           -0.140948    1.012260   \n",
              "3          3        1.121150   15.083161            0.026782    0.394586   \n",
              "4          4        0.587793   14.517350           -0.022323    0.667001   \n",
              "..       ...             ...         ...                 ...         ...   \n",
              "495      495        0.197079   14.385285           -0.088729    0.305779   \n",
              "496      496        1.227572   12.163433           -0.068099    0.397671   \n",
              "497      497        0.317125   14.519390           -0.096140    1.157213   \n",
              "498      498        0.278913   14.095021           -0.065379    0.344991   \n",
              "499      499        0.248270   10.806744            0.091435    1.267526   \n",
              "\n",
              "     jerk_follower  time_headway  delta_position        TTC    TTC_min  \n",
              "0        -0.028677      1.697374        9.428864  61.144338  16.595543  \n",
              "1        -0.022997      1.499226       18.421163  80.305906  20.562361  \n",
              "2         0.010870      3.379581       16.096035   7.636726   5.728496  \n",
              "3        -0.018426      1.937762       22.154348  25.245706  18.166619  \n",
              "4        -0.018814      2.044764       14.362037  36.424020   7.093686  \n",
              "..             ...           ...             ...        ...        ...  \n",
              "495      -0.006375      2.179975       27.189289  59.974457  29.818995  \n",
              "496       0.018117      2.446065        6.359919  11.324800   3.282347  \n",
              "497      -0.019941      1.829167       17.585190  29.175127   7.392851  \n",
              "498      -0.036504      1.402545       15.717958  33.327711  16.101418  \n",
              "499      -0.038707      2.446420       14.270447  16.262830   6.070137  \n",
              "\n",
              "[500 rows x 10 columns]"
            ]
          },
          "execution_count": 37,
          "metadata": {},
          "output_type": "execute_result"
        }
      ],
      "source": [
        "trainHA = convert_df(\"HA\", \"train\")\n",
        "trainHA.head(500)"
      ]
    },
    {
      "cell_type": "code",
      "execution_count": 36,
      "metadata": {},
      "outputs": [
        {
          "data": {
            "text/html": [
              "<div>\n",
              "<style scoped>\n",
              "    .dataframe tbody tr th:only-of-type {\n",
              "        vertical-align: middle;\n",
              "    }\n",
              "\n",
              "    .dataframe tbody tr th {\n",
              "        vertical-align: top;\n",
              "    }\n",
              "\n",
              "    .dataframe thead th {\n",
              "        text-align: right;\n",
              "    }\n",
              "</style>\n",
              "<table border=\"1\" class=\"dataframe\">\n",
              "  <thead>\n",
              "    <tr style=\"text-align: right;\">\n",
              "      <th></th>\n",
              "      <th>case_id</th>\n",
              "      <th>delta_velocity</th>\n",
              "      <th>v_follower</th>\n",
              "      <th>delta_acceleration</th>\n",
              "      <th>a_follower</th>\n",
              "      <th>jerk_follower</th>\n",
              "      <th>time_headway</th>\n",
              "      <th>delta_position</th>\n",
              "      <th>TTC</th>\n",
              "      <th>TTC_min</th>\n",
              "    </tr>\n",
              "  </thead>\n",
              "  <tbody>\n",
              "    <tr>\n",
              "      <th>count</th>\n",
              "      <td>500.000000</td>\n",
              "      <td>500.000000</td>\n",
              "      <td>500.000000</td>\n",
              "      <td>500.000000</td>\n",
              "      <td>500.000000</td>\n",
              "      <td>500.000000</td>\n",
              "      <td>500.000000</td>\n",
              "      <td>500.000000</td>\n",
              "      <td>469.000000</td>\n",
              "      <td>469.000000</td>\n",
              "    </tr>\n",
              "    <tr>\n",
              "      <th>mean</th>\n",
              "      <td>249.500000</td>\n",
              "      <td>-0.226585</td>\n",
              "      <td>13.636430</td>\n",
              "      <td>-0.066888</td>\n",
              "      <td>1.629852</td>\n",
              "      <td>0.007949</td>\n",
              "      <td>3.225744</td>\n",
              "      <td>15.719815</td>\n",
              "      <td>230.513177</td>\n",
              "      <td>66.448904</td>\n",
              "    </tr>\n",
              "    <tr>\n",
              "      <th>std</th>\n",
              "      <td>144.481833</td>\n",
              "      <td>1.104510</td>\n",
              "      <td>3.904978</td>\n",
              "      <td>0.167013</td>\n",
              "      <td>1.199862</td>\n",
              "      <td>0.077993</td>\n",
              "      <td>3.086860</td>\n",
              "      <td>10.425921</td>\n",
              "      <td>578.599987</td>\n",
              "      <td>205.743465</td>\n",
              "    </tr>\n",
              "    <tr>\n",
              "      <th>min</th>\n",
              "      <td>0.000000</td>\n",
              "      <td>-4.089614</td>\n",
              "      <td>2.471401</td>\n",
              "      <td>-0.885203</td>\n",
              "      <td>-0.232423</td>\n",
              "      <td>-0.643237</td>\n",
              "      <td>-31.161604</td>\n",
              "      <td>0.438666</td>\n",
              "      <td>2.947014</td>\n",
              "      <td>1.459213</td>\n",
              "    </tr>\n",
              "    <tr>\n",
              "      <th>25%</th>\n",
              "      <td>124.750000</td>\n",
              "      <td>-0.816879</td>\n",
              "      <td>11.100482</td>\n",
              "      <td>-0.117451</td>\n",
              "      <td>0.787625</td>\n",
              "      <td>-0.021250</td>\n",
              "      <td>1.807076</td>\n",
              "      <td>8.256415</td>\n",
              "      <td>18.962959</td>\n",
              "      <td>5.923284</td>\n",
              "    </tr>\n",
              "    <tr>\n",
              "      <th>50%</th>\n",
              "      <td>249.500000</td>\n",
              "      <td>-0.233178</td>\n",
              "      <td>14.297869</td>\n",
              "      <td>-0.036232</td>\n",
              "      <td>1.556521</td>\n",
              "      <td>0.007751</td>\n",
              "      <td>2.508794</td>\n",
              "      <td>12.395482</td>\n",
              "      <td>42.088888</td>\n",
              "      <td>14.119027</td>\n",
              "    </tr>\n",
              "    <tr>\n",
              "      <th>75%</th>\n",
              "      <td>374.250000</td>\n",
              "      <td>0.337267</td>\n",
              "      <td>16.808444</td>\n",
              "      <td>0.023698</td>\n",
              "      <td>2.202544</td>\n",
              "      <td>0.043173</td>\n",
              "      <td>3.814100</td>\n",
              "      <td>19.643879</td>\n",
              "      <td>138.531834</td>\n",
              "      <td>33.883607</td>\n",
              "    </tr>\n",
              "    <tr>\n",
              "      <th>max</th>\n",
              "      <td>499.000000</td>\n",
              "      <td>3.537141</td>\n",
              "      <td>21.404362</td>\n",
              "      <td>0.476264</td>\n",
              "      <td>9.381810</td>\n",
              "      <td>0.304345</td>\n",
              "      <td>24.174202</td>\n",
              "      <td>74.709138</td>\n",
              "      <td>5835.453087</td>\n",
              "      <td>3207.348369</td>\n",
              "    </tr>\n",
              "  </tbody>\n",
              "</table>\n",
              "</div>"
            ],
            "text/plain": [
              "          case_id  delta_velocity  v_follower  delta_acceleration  a_follower  \\\n",
              "count  500.000000      500.000000  500.000000          500.000000  500.000000   \n",
              "mean   249.500000       -0.226585   13.636430           -0.066888    1.629852   \n",
              "std    144.481833        1.104510    3.904978            0.167013    1.199862   \n",
              "min      0.000000       -4.089614    2.471401           -0.885203   -0.232423   \n",
              "25%    124.750000       -0.816879   11.100482           -0.117451    0.787625   \n",
              "50%    249.500000       -0.233178   14.297869           -0.036232    1.556521   \n",
              "75%    374.250000        0.337267   16.808444            0.023698    2.202544   \n",
              "max    499.000000        3.537141   21.404362            0.476264    9.381810   \n",
              "\n",
              "       jerk_follower  time_headway  delta_position          TTC      TTC_min  \n",
              "count     500.000000    500.000000      500.000000   469.000000   469.000000  \n",
              "mean        0.007949      3.225744       15.719815   230.513177    66.448904  \n",
              "std         0.077993      3.086860       10.425921   578.599987   205.743465  \n",
              "min        -0.643237    -31.161604        0.438666     2.947014     1.459213  \n",
              "25%        -0.021250      1.807076        8.256415    18.962959     5.923284  \n",
              "50%         0.007751      2.508794       12.395482    42.088888    14.119027  \n",
              "75%         0.043173      3.814100       19.643879   138.531834    33.883607  \n",
              "max         0.304345     24.174202       74.709138  5835.453087  3207.348369  "
            ]
          },
          "execution_count": 36,
          "metadata": {},
          "output_type": "execute_result"
        }
      ],
      "source": [
        "trainHH = convert_df(\"HH\", \"train\")\n",
        "trainHH.head(500).describe()"
      ]
    },
    {
      "cell_type": "code",
      "execution_count": null,
      "metadata": {},
      "outputs": [],
      "source": []
    },
    {
      "cell_type": "code",
      "execution_count": 3,
      "metadata": {},
      "outputs": [],
      "source": [
        "selected_features = trainHA\n"
      ]
    },
    {
      "cell_type": "code",
      "execution_count": 4,
      "metadata": {},
      "outputs": [
        {
          "name": "stderr",
          "output_type": "stream",
          "text": [
            "c:\\Users\\zhang\\anaconda3\\Lib\\site-packages\\sklearn\\cluster\\_kmeans.py:1412: FutureWarning: The default value of `n_init` will change from 10 to 'auto' in 1.4. Set the value of `n_init` explicitly to suppress the warning\n",
            "  super()._check_params_vs_input(X, default_n_init=10)\n",
            "c:\\Users\\zhang\\anaconda3\\Lib\\site-packages\\joblib\\externals\\loky\\backend\\context.py:110: UserWarning: Could not find the number of physical cores for the following reason:\n",
            "found 0 physical cores < 1\n",
            "Returning the number of logical cores instead. You can silence this warning by setting LOKY_MAX_CPU_COUNT to the number of cores you want to use.\n",
            "  warnings.warn(\n",
            "  File \"c:\\Users\\zhang\\anaconda3\\Lib\\site-packages\\joblib\\externals\\loky\\backend\\context.py\", line 217, in _count_physical_cores\n",
            "    raise ValueError(\n"
          ]
        },
        {
          "data": {
            "image/png": "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",
            "text/plain": [
              "<Figure size 1500x700 with 1 Axes>"
            ]
          },
          "metadata": {},
          "output_type": "display_data"
        }
      ],
      "source": [
        "from sklearn.preprocessing import StandardScaler\n",
        "from sklearn.cluster import KMeans\n",
        "import matplotlib.pyplot as plt\n",
        "import numpy as np\n",
        "\n",
        "\n",
        "\n",
        "def normalize_data(features):\n",
        "    \"\"\"\n",
        "    Normalize the given feature dataframe using StandardScaler.\n",
        "    \n",
        "    Args:\n",
        "    - features (pd.DataFrame): The dataframe to normalize.\n",
        "    \n",
        "    Returns:\n",
        "    - np.array: The normalized data.\n",
        "    \"\"\"\n",
        "    features.dropna(inplace=True)\n",
        "    scaler = StandardScaler()\n",
        "    return scaler.fit_transform(features.drop(['case_id'], axis=1))\n",
        "\n",
        "def perform_kmeans_clustering(data, n_clusters=3):\n",
        "    \"\"\"\n",
        "    Perform KMeans clustering on the data.\n",
        "    \n",
        "    Args:\n",
        "    - data (np.array): The data to cluster.\n",
        "    - n_clusters (int, optional): Number of clusters. Default is 3.\n",
        "    \n",
        "    Returns:\n",
        "    - np.array: The cluster labels.\n",
        "    \"\"\"\n",
        "    kmeans = KMeans(n_clusters=n_clusters, random_state=42)\n",
        "    return kmeans.fit_predict(data)\n",
        "\n",
        "def plot_kmeans_results(features, labels):\n",
        "    \"\"\"\n",
        "    Plot the results of the KMeans clustering.\n",
        "    \n",
        "    Args:\n",
        "    - features (pd.DataFrame): The feature dataframe.\n",
        "    - labels (np.array): The cluster labels.\n",
        "    \"\"\"\n",
        "    fig = plt.figure(figsize=(15, 7))\n",
        "\n",
        "    ax1 = fig.add_subplot(121, projection='3d')\n",
        "    scatter1 = ax1.scatter(features['TTC'], \n",
        "                           features['time_headway'], \n",
        "                           features['delta_velocity'], \n",
        "                           c=labels, \n",
        "                           cmap='viridis', \n",
        "                           s=50)\n",
        "\n",
        "    ax1.set_xlabel('Relative Distance')\n",
        "    ax1.set_ylabel('Absolute Acceleration')\n",
        "    ax1.set_zlabel('Relative Velocity')\n",
        "    ax1.set_title('K-Means Clustering Results')\n",
        "    legend1 = ax1.legend(*scatter1.legend_elements(), title=\"Clusters\")\n",
        "    ax1.add_artist(legend1)\n",
        "    plt.show()\n",
        "\n",
        "# Usage\n",
        "scaled_data = normalize_data(selected_features)\n",
        "selected_features['cluster'] = perform_kmeans_clustering(scaled_data)\n",
        "plot_kmeans_results(selected_features, selected_features['cluster'])\n"
      ]
    },
    {
      "cell_type": "code",
      "execution_count": 5,
      "metadata": {},
      "outputs": [
        {
          "name": "stderr",
          "output_type": "stream",
          "text": [
            "c:\\Users\\zhang\\anaconda3\\Lib\\site-packages\\sklearn\\cluster\\_kmeans.py:1412: FutureWarning: The default value of `n_init` will change from 10 to 'auto' in 1.4. Set the value of `n_init` explicitly to suppress the warning\n",
            "  super()._check_params_vs_input(X, default_n_init=10)\n",
            "c:\\Users\\zhang\\anaconda3\\Lib\\site-packages\\sklearn\\cluster\\_kmeans.py:1412: FutureWarning: The default value of `n_init` will change from 10 to 'auto' in 1.4. Set the value of `n_init` explicitly to suppress the warning\n",
            "  super()._check_params_vs_input(X, default_n_init=10)\n",
            "c:\\Users\\zhang\\anaconda3\\Lib\\site-packages\\sklearn\\cluster\\_kmeans.py:1412: FutureWarning: The default value of `n_init` will change from 10 to 'auto' in 1.4. Set the value of `n_init` explicitly to suppress the warning\n",
            "  super()._check_params_vs_input(X, default_n_init=10)\n",
            "c:\\Users\\zhang\\anaconda3\\Lib\\site-packages\\sklearn\\cluster\\_kmeans.py:1412: FutureWarning: The default value of `n_init` will change from 10 to 'auto' in 1.4. Set the value of `n_init` explicitly to suppress the warning\n",
            "  super()._check_params_vs_input(X, default_n_init=10)\n",
            "c:\\Users\\zhang\\anaconda3\\Lib\\site-packages\\sklearn\\cluster\\_kmeans.py:1412: FutureWarning: The default value of `n_init` will change from 10 to 'auto' in 1.4. Set the value of `n_init` explicitly to suppress the warning\n",
            "  super()._check_params_vs_input(X, default_n_init=10)\n",
            "c:\\Users\\zhang\\anaconda3\\Lib\\site-packages\\sklearn\\cluster\\_kmeans.py:1412: FutureWarning: The default value of `n_init` will change from 10 to 'auto' in 1.4. Set the value of `n_init` explicitly to suppress the warning\n",
            "  super()._check_params_vs_input(X, default_n_init=10)\n",
            "c:\\Users\\zhang\\anaconda3\\Lib\\site-packages\\sklearn\\cluster\\_kmeans.py:1412: FutureWarning: The default value of `n_init` will change from 10 to 'auto' in 1.4. Set the value of `n_init` explicitly to suppress the warning\n",
            "  super()._check_params_vs_input(X, default_n_init=10)\n",
            "c:\\Users\\zhang\\anaconda3\\Lib\\site-packages\\sklearn\\cluster\\_kmeans.py:1412: FutureWarning: The default value of `n_init` will change from 10 to 'auto' in 1.4. Set the value of `n_init` explicitly to suppress the warning\n",
            "  super()._check_params_vs_input(X, default_n_init=10)\n",
            "c:\\Users\\zhang\\anaconda3\\Lib\\site-packages\\sklearn\\cluster\\_kmeans.py:1412: FutureWarning: The default value of `n_init` will change from 10 to 'auto' in 1.4. Set the value of `n_init` explicitly to suppress the warning\n",
            "  super()._check_params_vs_input(X, default_n_init=10)\n",
            "c:\\Users\\zhang\\anaconda3\\Lib\\site-packages\\sklearn\\cluster\\_kmeans.py:1412: FutureWarning: The default value of `n_init` will change from 10 to 'auto' in 1.4. Set the value of `n_init` explicitly to suppress the warning\n",
            "  super()._check_params_vs_input(X, default_n_init=10)\n"
          ]
        },
        {
          "data": {
            "image/png": "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",
            "text/plain": [
              "<Figure size 640x480 with 1 Axes>"
            ]
          },
          "metadata": {},
          "output_type": "display_data"
        },
        {
          "name": "stderr",
          "output_type": "stream",
          "text": [
            "c:\\Users\\zhang\\anaconda3\\Lib\\site-packages\\sklearn\\cluster\\_kmeans.py:1412: FutureWarning: The default value of `n_init` will change from 10 to 'auto' in 1.4. Set the value of `n_init` explicitly to suppress the warning\n",
            "  super()._check_params_vs_input(X, default_n_init=10)\n"
          ]
        },
        {
          "data": {
            "image/png": "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",
            "text/plain": [
              "<Figure size 640x480 with 1 Axes>"
            ]
          },
          "metadata": {},
          "output_type": "display_data"
        },
        {
          "name": "stdout",
          "output_type": "stream",
          "text": [
            "The average silhouette_score is: 0.38771479761364597\n"
          ]
        }
      ],
      "source": [
        "selected_features = trainHA\n",
        "#print selected_features length\n",
        "print(len(selected_features))\n",
        "\n",
        "\n",
        "\n"
      ]
    },
    {
      "cell_type": "code",
      "execution_count": 6,
      "metadata": {},
      "outputs": [
        {
          "name": "stderr",
          "output_type": "stream",
          "text": [
            "  3%|▎         | 3/100 [00:00<00:07, 12.83it/s]"
          ]
        },
        {
          "name": "stdout",
          "output_type": "stream",
          "text": [
            "epoch: 0 loss: 0.49184984\n"
          ]
        },
        {
          "name": "stderr",
          "output_type": "stream",
          "text": [
            " 13%|█▎        | 13/100 [00:00<00:04, 17.71it/s]"
          ]
        },
        {
          "name": "stdout",
          "output_type": "stream",
          "text": [
            "epoch: 10 loss: 0.37886670\n"
          ]
        },
        {
          "name": "stderr",
          "output_type": "stream",
          "text": [
            " 25%|██▌       | 25/100 [00:01<00:04, 18.53it/s]"
          ]
        },
        {
          "name": "stdout",
          "output_type": "stream",
          "text": [
            "epoch: 20 loss: 0.25835168\n"
          ]
        },
        {
          "name": "stderr",
          "output_type": "stream",
          "text": [
            "Training Epochs:  32%|███▏      | 32/100 [00:02<00:06, 11.32it/s]"
          ]
        },
        {
          "name": "stdout",
          "output_type": "stream",
          "text": [
            "epoch: 30 loss: 0.12135606\n"
          ]
        },
        {
          "name": "stderr",
          "output_type": "stream",
          "text": [
            " 43%|████▎     | 43/100 [00:02<00:03, 18.08it/s]"
          ]
        },
        {
          "name": "stdout",
          "output_type": "stream",
          "text": [
            "epoch: 40 loss: 0.01635828\n"
          ]
        },
        {
          "name": "stderr",
          "output_type": "stream",
          "text": [
            " 53%|█████▎    | 53/100 [00:02<00:02, 18.81it/s]"
          ]
        },
        {
          "name": "stdout",
          "output_type": "stream",
          "text": [
            "epoch: 50 loss: 0.01880449\n"
          ]
        },
        {
          "name": "stderr",
          "output_type": "stream",
          "text": [
            " 63%|██████▎   | 63/100 [00:03<00:01, 18.78it/s]"
          ]
        },
        {
          "name": "stdout",
          "output_type": "stream",
          "text": [
            "epoch: 60 loss: 0.00910891\n"
          ]
        },
        {
          "name": "stderr",
          "output_type": "stream",
          "text": [
            " 75%|███████▌  | 75/100 [00:04<00:01, 18.83it/s]"
          ]
        },
        {
          "name": "stdout",
          "output_type": "stream",
          "text": [
            "epoch: 70 loss: 0.00921072\n"
          ]
        },
        {
          "name": "stderr",
          "output_type": "stream",
          "text": [
            " 85%|████████▌ | 85/100 [00:04<00:00, 18.75it/s]"
          ]
        },
        {
          "name": "stdout",
          "output_type": "stream",
          "text": [
            "epoch: 80 loss: 0.00829466\n"
          ]
        },
        {
          "name": "stderr",
          "output_type": "stream",
          "text": [
            " 93%|█████████▎| 93/100 [00:05<00:00, 19.48it/s]"
          ]
        },
        {
          "name": "stdout",
          "output_type": "stream",
          "text": [
            "epoch: 90 loss: 0.00814588\n"
          ]
        },
        {
          "name": "stderr",
          "output_type": "stream",
          "text": [
            "100%|██████████| 100/100 [00:05<00:00, 18.12it/s]\n"
          ]
        },
        {
          "name": "stdout",
          "output_type": "stream",
          "text": [
            "Mean Squared Error (MSE): 0.57\n",
            "Root Mean Squared Error (RMSE): 0.76\n",
            "Mean Absolute Error (MAE): 0.54\n"
          ]
        },
        {
          "name": "stderr",
          "output_type": "stream",
          "text": [
            "  3%|▎         | 3/100 [00:00<00:03, 25.45it/s]"
          ]
        },
        {
          "name": "stdout",
          "output_type": "stream",
          "text": [
            "epoch: 0 loss: 0.26303762\n"
          ]
        },
        {
          "name": "stderr",
          "output_type": "stream",
          "text": [
            " 15%|█▌        | 15/100 [00:00<00:03, 27.64it/s]"
          ]
        },
        {
          "name": "stdout",
          "output_type": "stream",
          "text": [
            "epoch: 10 loss: 0.19429857\n"
          ]
        },
        {
          "name": "stderr",
          "output_type": "stream",
          "text": [
            " 24%|██▍       | 24/100 [00:00<00:02, 26.02it/s]"
          ]
        },
        {
          "name": "stdout",
          "output_type": "stream",
          "text": [
            "epoch: 20 loss: 0.12422454\n"
          ]
        },
        {
          "name": "stderr",
          "output_type": "stream",
          "text": [
            " 36%|███▌      | 36/100 [00:01<00:02, 27.52it/s]"
          ]
        },
        {
          "name": "stdout",
          "output_type": "stream",
          "text": [
            "epoch: 30 loss: 0.05124555\n"
          ]
        },
        {
          "name": "stderr",
          "output_type": "stream",
          "text": [
            " 45%|████▌     | 45/100 [00:01<00:02, 26.97it/s]"
          ]
        },
        {
          "name": "stdout",
          "output_type": "stream",
          "text": [
            "epoch: 40 loss: 0.00543044\n"
          ]
        },
        {
          "name": "stderr",
          "output_type": "stream",
          "text": [
            " 54%|█████▍    | 54/100 [00:02<00:01, 26.76it/s]"
          ]
        },
        {
          "name": "stdout",
          "output_type": "stream",
          "text": [
            "epoch: 50 loss: 0.00998564\n"
          ]
        },
        {
          "name": "stderr",
          "output_type": "stream",
          "text": [
            " 66%|██████▌   | 66/100 [00:02<00:01, 27.41it/s]"
          ]
        },
        {
          "name": "stdout",
          "output_type": "stream",
          "text": [
            "epoch: 60 loss: 0.00432211\n"
          ]
        },
        {
          "name": "stderr",
          "output_type": "stream",
          "text": [
            " 75%|███████▌  | 75/100 [00:02<00:00, 25.89it/s]"
          ]
        },
        {
          "name": "stdout",
          "output_type": "stream",
          "text": [
            "epoch: 70 loss: 0.00483109\n"
          ]
        },
        {
          "name": "stderr",
          "output_type": "stream",
          "text": [
            " 84%|████████▍ | 84/100 [00:03<00:00, 25.57it/s]"
          ]
        },
        {
          "name": "stdout",
          "output_type": "stream",
          "text": [
            "epoch: 80 loss: 0.00423230\n"
          ]
        },
        {
          "name": "stderr",
          "output_type": "stream",
          "text": [
            " 96%|█████████▌| 96/100 [00:03<00:00, 26.59it/s]"
          ]
        },
        {
          "name": "stdout",
          "output_type": "stream",
          "text": [
            "epoch: 90 loss: 0.00424132\n"
          ]
        },
        {
          "name": "stderr",
          "output_type": "stream",
          "text": [
            "100%|██████████| 100/100 [00:03<00:00, 26.59it/s]\n"
          ]
        },
        {
          "name": "stdout",
          "output_type": "stream",
          "text": [
            "Mean Squared Error (MSE): 0.63\n",
            "Root Mean Squared Error (RMSE): 0.79\n",
            "Mean Absolute Error (MAE): 0.61\n"
          ]
        },
        {
          "name": "stderr",
          "output_type": "stream",
          "text": [
            " 16%|█▌        | 16/100 [00:00<00:00, 156.55it/s]"
          ]
        },
        {
          "name": "stdout",
          "output_type": "stream",
          "text": [
            "epoch: 0 loss: 0.05946311\n",
            "epoch: 10 loss: 0.03647152\n",
            "epoch: 20 loss: 0.02422940\n"
          ]
        },
        {
          "name": "stderr",
          "output_type": "stream",
          "text": [
            " 48%|████▊     | 48/100 [00:00<00:00, 138.74it/s]"
          ]
        },
        {
          "name": "stdout",
          "output_type": "stream",
          "text": [
            "epoch: 30 loss: 0.02013387\n",
            "epoch: 40 loss: 0.02052322\n",
            "epoch: 50 loss: 0.02018879\n"
          ]
        },
        {
          "name": "stderr",
          "output_type": "stream",
          "text": [
            " 78%|███████▊  | 78/100 [00:00<00:00, 143.43it/s]"
          ]
        },
        {
          "name": "stdout",
          "output_type": "stream",
          "text": [
            "epoch: 60 loss: 0.02008117\n",
            "epoch: 70 loss: 0.02009696\n",
            "epoch: 80 loss: 0.02006897\n"
          ]
        },
        {
          "name": "stderr",
          "output_type": "stream",
          "text": [
            "100%|██████████| 100/100 [00:00<00:00, 144.79it/s]"
          ]
        },
        {
          "name": "stdout",
          "output_type": "stream",
          "text": [
            "epoch: 90 loss: 0.02006951\n",
            "Mean Squared Error (MSE): 1.79\n",
            "Root Mean Squared Error (RMSE): 1.34\n",
            "Mean Absolute Error (MAE): 1.05\n"
          ]
        },
        {
          "name": "stderr",
          "output_type": "stream",
          "text": [
            "\n"
          ]
        }
      ],
      "source": [
        "import torch\n",
        "import torch.nn as nn\n",
        "import torch.optim as optim\n",
        "import numpy as np\n",
        "import pandas as pd\n",
        "from sklearn.model_selection import train_test_split\n",
        "from sklearn.preprocessing import StandardScaler\n",
        "from sklearn.metrics import mean_squared_error, mean_absolute_error\n",
        "from tqdm import tqdm\n",
        "import math\n",
        "\n",
        "class LSTMModel(nn.Module):\n",
        "    def __init__(self, input_size=1, hidden_layer_size=100, output_size=1):\n",
        "        super().__init__()\n",
        "        self.lstm = nn.LSTM(input_size, hidden_layer_size, batch_first=True)\n",
        "        self.linear = nn.Linear(hidden_layer_size, output_size)\n",
        "    \n",
        "    def forward(self, input_seq):\n",
        "        lstm_out, _ = self.lstm(input_seq)\n",
        "        predictions = self.linear(lstm_out[:, -1, :])\n",
        "        return predictions\n",
        "\n",
        "\n",
        "clustered_dataframes = {}\n",
        "for cluster_number in clustered_data['cluster'].unique():\n",
        "    clustered_dataframes[cluster_number] = clustered_data[clustered_data['cluster'] == cluster_number].drop(columns=['cluster', 'case_id'])\n",
        "\n",
        "def preprocess_data(df, n_steps_in, n_steps_out, test_size=0.2):\n",
        "    scaler = StandardScaler()\n",
        "    data_normalized = scaler.fit_transform(df)\n",
        "    X, y = create_sequences(data_normalized, n_steps_in, n_steps_out)\n",
        "    X_train, X_test, y_train, y_test = train_test_split(X, y, test_size=test_size, random_state=42)\n",
        "    return (\n",
        "        torch.tensor(X_train, dtype=torch.float32), torch.tensor(y_train, dtype=torch.float32),\n",
        "        torch.tensor(X_test, dtype=torch.float32), torch.tensor(y_test, dtype=torch.float32),\n",
        "        scaler\n",
        "    )\n",
        "\n",
        "def create_sequences(data, n_steps_in, n_steps_out):\n",
        "    X, y = [], []\n",
        "    for i in range(len(data)):\n",
        "        end_ix = i + n_steps_in\n",
        "        out_end_ix = end_ix + n_steps_out\n",
        "        if out_end_ix > len(data):\n",
        "            break\n",
        "        seq_x, seq_y = data[i:end_ix, :], data[end_ix:out_end_ix, :]\n",
        "        X.append(seq_x)\n",
        "        y.append(seq_y)\n",
        "    return np.array(X), np.array(y)\n",
        "\n",
        "def train_model(model, X_train_tensor, y_train_tensor, epochs, optimizer, loss_function):\n",
        "    for epoch in tqdm(range(epochs), desc='Training Epochs'):\n",
        "        model.train()\n",
        "        optimizer.zero_grad()\n",
        "        y_pred = model(X_train_tensor)\n",
        "        loss = loss_function(y_pred, y_train_tensor[:, 0, :])\n",
        "        loss.backward()\n",
        "        optimizer.step()\n",
        "        if epoch % 10 == 0:\n",
        "            tqdm.write(f'Epoch: {epoch} Loss: {loss.item():.4f}')\n",
        "\n",
        "def evaluate_model(model, X_test_tensor, y_test_tensor, scaler):\n",
        "    model.eval()\n",
        "    with torch.no_grad():\n",
        "        y_pred = model(X_test_tensor)\n",
        "        y_pred = y_pred.cpu().numpy()\n",
        "        y_pred_original = scaler.inverse_transform(y_pred)\n",
        "        y_test_original = scaler.inverse_transform(y_test_tensor.cpu().numpy()[:, 0, :])\n",
        "        mse = mean_squared_error(y_test_original, y_pred_original)\n",
        "        rmse = math.sqrt(mse)\n",
        "        mae = mean_absolute_error(y_test_original, y_pred_original)\n",
        "    print(f'MSE: {mse:.2f}, RMSE: {rmse:.2f}, MAE: {mae:.2f}')\n",
        "    return mse, rmse, mae\n",
        "\n",
        "models_scalers = {}\n",
        "n_steps_in, n_steps_out = 3, 1\n",
        "for cluster, cluster_df in clustered_dataframes.items():\n",
        "    X_train_tensor, y_train_tensor, X_test_tensor, y_test_tensor, scaler = preprocess_data(cluster_df, n_steps_in, n_steps_out)\n",
        "    model = LSTMModel(input_size=X_train_tensor.shape[2], hidden_layer_size=50, output_size=y_train_tensor.shape[2])\n",
        "    optimizer = optim.Adam(model.parameters(), lr=0.001)\n",
        "    loss_function = nn.MSELoss()\n",
        "    train_model(model, X_train_tensor, y_train_tensor, epochs=100, optimizer=optimizer, loss_function=loss_function)\n",
        "    mse, rmse, mae = evaluate_model(model, X_test_tensor, y_test_tensor, scaler)\n",
        "    models_scalers[cluster] = {'model': model, 'scaler': scaler, 'metrics': (mse, rmse, mae)}\n",
        "\n",
        "# Save the model and scaler if needed\n",
        "torch.save(models_scalers, 'models_scalers.pth')\n"
      ]
    },
    {
      "cell_type": "code",
      "execution_count": 103,
      "metadata": {},
      "outputs": [],
      "source": [
        "# Evaluation dataset is used here to predict the next time step\n",
        "eval_df = convert_df(\"HA\", \"val\")\n"
      ]
    },
    {
      "cell_type": "code",
      "execution_count": 31,
      "metadata": {},
      "outputs": [
        {
          "name": "stdout",
          "output_type": "stream",
          "text": [
            "时间步 1 的预测车辆位置为：0.41017335653305054 米\n",
            "时间步 2 的预测车辆位置为：0.41017335653305054 米\n"
          ]
        }
      ],
      "source": [
        "input_data = np.array([[20, 3],   # 时间步1：速度=20m/s，加速度=3m/s^2\n",
        "                       [22, 2],   # 时间步2：速度=22m/s，加速度=2m/s^2\n",
        "                       [24, 2.5], # 时间步3：速度=24m/s，加速度=2.5m/s^2\n",
        "                       [25, 1.5], # 时间步4：速度=25m/s，加速度=1.5m/s^2\n",
        "                       [26, 1]])  # 时间步5：速度=26m/s，加速度=1m/s^2\n",
        "\n",
        "input_tensor = torch.tensor(input_data, dtype=torch.float32)\n",
        "\n",
        "with torch.no_grad():\n",
        "    model.eval()  # 设置模型为评估模式\n",
        "    output = model(input_tensor.unsqueeze(0))\n",
        "\n",
        "output_array = output.numpy()\n",
        "\n",
        "predicted_positions = [output_array[0, 0] for timestep in range(output_array.shape[1])]\n",
        "\n",
        "\n",
        "for timestep, position in enumerate(predicted_positions, start=1):\n",
        "    print(f\"时间步 {timestep} 的预测车辆位置为：{position} 米\")"
      ]
    },
    {
      "cell_type": "code",
      "execution_count": null,
      "metadata": {},
      "outputs": [
        {
          "data": {
            "text/html": [
              "<div>\n",
              "<style scoped>\n",
              "    .dataframe tbody tr th:only-of-type {\n",
              "        vertical-align: middle;\n",
              "    }\n",
              "\n",
              "    .dataframe tbody tr th {\n",
              "        vertical-align: top;\n",
              "    }\n",
              "\n",
              "    .dataframe thead th {\n",
              "        text-align: right;\n",
              "    }\n",
              "</style>\n",
              "<table border=\"1\" class=\"dataframe\">\n",
              "  <thead>\n",
              "    <tr style=\"text-align: right;\">\n",
              "      <th></th>\n",
              "      <th>delta_velocity</th>\n",
              "      <th>v_follower</th>\n",
              "      <th>delta_acceleration</th>\n",
              "      <th>a_follower</th>\n",
              "      <th>jerk_follower</th>\n",
              "      <th>time_headway</th>\n",
              "      <th>delta_position</th>\n",
              "      <th>TTC</th>\n",
              "      <th>TTC_min</th>\n",
              "    </tr>\n",
              "  </thead>\n",
              "  <tbody>\n",
              "    <tr>\n",
              "      <th>0</th>\n",
              "      <td>-0.112306</td>\n",
              "      <td>13.972906</td>\n",
              "      <td>-0.040953</td>\n",
              "      <td>0.913186</td>\n",
              "      <td>0.013031</td>\n",
              "      <td>2.296439</td>\n",
              "      <td>22.095424</td>\n",
              "      <td>124.803687</td>\n",
              "      <td>11.794680</td>\n",
              "    </tr>\n",
              "    <tr>\n",
              "      <th>1</th>\n",
              "      <td>1.577983</td>\n",
              "      <td>12.061164</td>\n",
              "      <td>-0.035401</td>\n",
              "      <td>0.162992</td>\n",
              "      <td>0.013574</td>\n",
              "      <td>3.225179</td>\n",
              "      <td>8.866747</td>\n",
              "      <td>18.864220</td>\n",
              "      <td>3.197740</td>\n",
              "    </tr>\n",
              "    <tr>\n",
              "      <th>2</th>\n",
              "      <td>-0.274519</td>\n",
              "      <td>12.536280</td>\n",
              "      <td>-0.004253</td>\n",
              "      <td>3.739273</td>\n",
              "      <td>-0.047253</td>\n",
              "      <td>1.156909</td>\n",
              "      <td>9.121510</td>\n",
              "      <td>85.516191</td>\n",
              "      <td>7.427292</td>\n",
              "    </tr>\n",
              "  </tbody>\n",
              "</table>\n",
              "</div>"
            ],
            "text/plain": [
              "   delta_velocity  v_follower  delta_acceleration  a_follower  jerk_follower  \\\n",
              "0       -0.112306   13.972906           -0.040953    0.913186       0.013031   \n",
              "1        1.577983   12.061164           -0.035401    0.162992       0.013574   \n",
              "2       -0.274519   12.536280           -0.004253    3.739273      -0.047253   \n",
              "\n",
              "   time_headway  delta_position         TTC    TTC_min  \n",
              "0      2.296439       22.095424  124.803687  11.794680  \n",
              "1      3.225179        8.866747   18.864220   3.197740  \n",
              "2      1.156909        9.121510   85.516191   7.427292  "
            ]
          },
          "execution_count": 104,
          "metadata": {},
          "output_type": "execute_result"
        }
      ],
      "source": [
        "# this is the initial input for the model, the minimum sequence length is 3 so at least 3 rows are needed\n",
        "eval_df = eval_df.head(3)\n",
        "eval_df = eval_df.drop(columns=['case_id'])\n",
        "\n",
        "eval_df\n"
      ]
    },
    {
      "cell_type": "code",
      "execution_count": 106,
      "metadata": {},
      "outputs": [
        {
          "name": "stderr",
          "output_type": "stream",
          "text": [
            "/Users/ykong/.local/share/virtualenvs/car-following-project--ZycwsGt/lib/python3.11/site-packages/sklearn/base.py:465: UserWarning: X does not have valid feature names, but StandardScaler was fitted with feature names\n",
            "  warnings.warn(\n"
          ]
        },
        {
          "data": {
            "text/plain": [
              "array([0.00502765], dtype=float32)"
            ]
          },
          "execution_count": 106,
          "metadata": {},
          "output_type": "execute_result"
        }
      ],
      "source": [
        "import torch\n",
        "import pandas as pd\n",
        "import numpy as np\n",
        "from sklearn.preprocessing import StandardScaler\n",
        "\n",
        "def predict_delta_acceleration(eval_df, models_scalers, cluster_number=1, n_steps_in=3, delta_acceleration_index=2):\n",
        "    \"\"\"\n",
        "    Predicts the delta acceleration of a car using an LSTM model trained on car-following data.\n",
        "\n",
        "    Parameters:\n",
        "    eval_df (pandas.DataFrame): The input data to predict on.\n",
        "    models_scalers (dict): A dictionary containing the trained models and scalers for each cluster.\n",
        "    cluster_number (int): The cluster number to use for prediction.\n",
        "    n_steps_in (int): The number of time steps to use as input for the LSTM model.\n",
        "    delta_acceleration_index (int): The index of the delta acceleration column in the output.\n",
        "\n",
        "    Returns:\n",
        "    float: The predicted delta acceleration.\n",
        "    \"\"\"\n",
        "    \n",
        "\n",
        "    # Load the scaler for the cluster\n",
        "    scaler = models_scalers[cluster_number]['scaler']\n",
        "\n",
        "    # Prepare the input data for prediction\n",
        "    X_new_prepared = preprocess_new_data(eval_df.values, scaler, n_steps_in)\n",
        "    X_new_tensor = torch.tensor(X_new_prepared, dtype=torch.float32)\n",
        "\n",
        "    # Load the model for the cluster\n",
        "    model = models_scalers[cluster_number]['model']\n",
        "\n",
        "    # Predict using the model\n",
        "    model.eval()\n",
        "    with torch.no_grad():\n",
        "        y_new_pred_tensor = model(X_new_tensor)\n",
        "        y_new_pred = y_new_pred_tensor.numpy()\n",
        "\n",
        "    # Inverse transform the predictions to the original scale\n",
        "    y_new_pred_original = scaler.inverse_transform(y_new_pred)\n",
        "\n",
        "    # Extract the denormalized delta_acceleration values\n",
        "    delta_acceleration_pred_original = y_new_pred_original[:, delta_acceleration_index]\n",
        "\n",
        "    # Return the predicted delta acceleration\n",
        "    return delta_acceleration_pred_original\n",
        "\n",
        "# Load the model from the saved models_cales.pth file\n",
        "models_scalers = torch.load('models_scalers.pth')\n",
        "\n",
        "# Predict the delta acceleration for the eval_df dataframe\n",
        "cluster_number = 1\n",
        "delta_acceleration_pred = predict_delta_acceleration(eval_df, models_scalers, cluster_number)\n",
        "delta_acceleration_pred"
      ]
     },
     "execution_count": 10,
     "metadata": {},
     "output_type": "execute_result"
    }
   ],
   "source": [
    "trainHA = convert_df(\"HA\", \"train\")\n",
    "trainHA.head(500)"
   ]
  },
  {
   "cell_type": "code",
   "execution_count": 29,
   "metadata": {},
   "outputs": [
    {
     "name": "stdout",
     "output_type": "stream",
     "text": [
      "26394\n"
     ]
    }
   ],
   "source": [
    "selected_features = trainHA\n",
    "#print selected_features length\n",
    "print(len(selected_features))\n",
    "\n",
    "\n",
    "\n"
   ]
  },
  {
   "cell_type": "code",
   "execution_count": 34,
   "metadata": {},
   "outputs": [
    {
     "name": "stderr",
     "output_type": "stream",
     "text": [
      "/Users/ykong/.local/share/virtualenvs/car-following-project--ZycwsGt/lib/python3.11/site-packages/sklearn/cluster/_kmeans.py:1416: FutureWarning: The default value of `n_init` will change from 10 to 'auto' in 1.4. Set the value of `n_init` explicitly to suppress the warning\n",
      "  super()._check_params_vs_input(X, default_n_init=10)\n",
      "/Users/ykong/.local/share/virtualenvs/car-following-project--ZycwsGt/lib/python3.11/site-packages/sklearn/cluster/_kmeans.py:1416: FutureWarning: The default value of `n_init` will change from 10 to 'auto' in 1.4. Set the value of `n_init` explicitly to suppress the warning\n",
      "  super()._check_params_vs_input(X, default_n_init=10)\n",
      "/Users/ykong/.local/share/virtualenvs/car-following-project--ZycwsGt/lib/python3.11/site-packages/sklearn/cluster/_kmeans.py:1416: FutureWarning: The default value of `n_init` will change from 10 to 'auto' in 1.4. Set the value of `n_init` explicitly to suppress the warning\n",
      "  super()._check_params_vs_input(X, default_n_init=10)\n",
      "/Users/ykong/.local/share/virtualenvs/car-following-project--ZycwsGt/lib/python3.11/site-packages/sklearn/cluster/_kmeans.py:1416: FutureWarning: The default value of `n_init` will change from 10 to 'auto' in 1.4. Set the value of `n_init` explicitly to suppress the warning\n",
      "  super()._check_params_vs_input(X, default_n_init=10)\n",
      "/Users/ykong/.local/share/virtualenvs/car-following-project--ZycwsGt/lib/python3.11/site-packages/sklearn/cluster/_kmeans.py:1416: FutureWarning: The default value of `n_init` will change from 10 to 'auto' in 1.4. Set the value of `n_init` explicitly to suppress the warning\n",
      "  super()._check_params_vs_input(X, default_n_init=10)\n",
      "/Users/ykong/.local/share/virtualenvs/car-following-project--ZycwsGt/lib/python3.11/site-packages/sklearn/cluster/_kmeans.py:1416: FutureWarning: The default value of `n_init` will change from 10 to 'auto' in 1.4. Set the value of `n_init` explicitly to suppress the warning\n",
      "  super()._check_params_vs_input(X, default_n_init=10)\n",
      "/Users/ykong/.local/share/virtualenvs/car-following-project--ZycwsGt/lib/python3.11/site-packages/sklearn/cluster/_kmeans.py:1416: FutureWarning: The default value of `n_init` will change from 10 to 'auto' in 1.4. Set the value of `n_init` explicitly to suppress the warning\n",
      "  super()._check_params_vs_input(X, default_n_init=10)\n",
      "/Users/ykong/.local/share/virtualenvs/car-following-project--ZycwsGt/lib/python3.11/site-packages/sklearn/cluster/_kmeans.py:1416: FutureWarning: The default value of `n_init` will change from 10 to 'auto' in 1.4. Set the value of `n_init` explicitly to suppress the warning\n",
      "  super()._check_params_vs_input(X, default_n_init=10)\n",
      "/Users/ykong/.local/share/virtualenvs/car-following-project--ZycwsGt/lib/python3.11/site-packages/sklearn/cluster/_kmeans.py:1416: FutureWarning: The default value of `n_init` will change from 10 to 'auto' in 1.4. Set the value of `n_init` explicitly to suppress the warning\n",
      "  super()._check_params_vs_input(X, default_n_init=10)\n",
      "/Users/ykong/.local/share/virtualenvs/car-following-project--ZycwsGt/lib/python3.11/site-packages/sklearn/cluster/_kmeans.py:1416: FutureWarning: The default value of `n_init` will change from 10 to 'auto' in 1.4. Set the value of `n_init` explicitly to suppress the warning\n",
      "  super()._check_params_vs_input(X, default_n_init=10)\n"
     ]
    },
    {
     "data": {
      "image/png": "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",
      "text/plain": [
       "<Figure size 640x480 with 1 Axes>"
      ]
     },
     "metadata": {},
     "output_type": "display_data"
    },
    {
     "data": {
      "image/png": "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",
      "text/plain": [
       "<Figure size 640x480 with 1 Axes>"
      ]
     },
     "metadata": {},
     "output_type": "display_data"
    },
    {
     "name": "stderr",
     "output_type": "stream",
     "text": [
      "/Users/ykong/.local/share/virtualenvs/car-following-project--ZycwsGt/lib/python3.11/site-packages/sklearn/cluster/_kmeans.py:1416: FutureWarning: The default value of `n_init` will change from 10 to 'auto' in 1.4. Set the value of `n_init` explicitly to suppress the warning\n",
      "  super()._check_params_vs_input(X, default_n_init=10)\n"
     ]
    },
    {
     "data": {
      "image/png": "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",
      "text/plain": [
       "<Figure size 640x480 with 1 Axes>"
      ]
     },
     "metadata": {},
     "output_type": "display_data"
    },
    {
     "name": "stdout",
     "output_type": "stream",
     "text": [
      "The average silhouette_score is: 0.6774392930539462\n"
     ]
    }
   ],
   "source": [
    "import numpy as np\n",
    "import pandas as pd\n",
    "from sklearn.preprocessing import StandardScaler\n",
    "from sklearn.cluster import KMeans\n",
    "from sklearn.decomposition import PCA\n",
    "from sklearn.metrics import silhouette_score\n",
    "import matplotlib.pyplot as plt\n",
    "from mpl_toolkits.mplot3d import Axes3D\n",
    "\n",
    "def normalize_and_cluster(features, n_clusters=3, apply_pca=False):\n",
    "    \"\"\"\n",
    "    Normalize the given feature dataframe, apply PCA if requested,\n",
    "    and perform KMeans clustering on the data.\n",
    "    \n",
    "    Args:\n",
    "    - features (pd.DataFrame): The dataframe to normalize and cluster.\n",
    "    - n_clusters (int): Number of clusters.\n",
    "    - apply_pca (bool): Apply PCA if True.\n",
    "    \n",
    "    Returns:\n",
    "    - tuple: The normalized data, PCA applied data (if requested), and cluster labels.\n",
    "    \"\"\"\n",
    "    # Normalize data\n",
    "    scaler = StandardScaler()\n",
    "    features_numeric = features.select_dtypes(include=np.number).dropna()\n",
    "    normalized_data = scaler.fit_transform(features_numeric)\n",
    "    \n",
    "    # Apply PCA\n",
    "    pca_data = None\n",
    "    if apply_pca:\n",
    "        pca = PCA(n_components=2)\n",
    "        pca_data = pca.fit_transform(normalized_data)\n",
    "        data_to_cluster = pca_data\n",
    "    else:\n",
    "        data_to_cluster = normalized_data\n",
    "    \n",
    "    # Perform KMeans Clustering\n",
    "    kmeans = KMeans(n_clusters=n_clusters, random_state=42)\n",
    "    labels = kmeans.fit_predict(data_to_cluster)\n",
    "    features_numeric['cluster'] = labels\n",
    "    \n",
    "    return normalized_data, pca_data, labels, features_numeric\n",
    "\n",
    "def plot_results(features, labels, pca_data=None):\n",
    "    \"\"\"\n",
    "    Plot the results of the KMeans clustering, using PCA data if provided.\n",
    "    \n",
    "    Args:\n",
    "    - features (pd.DataFrame): The feature dataframe.\n",
    "    - labels (np.array): The cluster labels.\n",
    "    - pca_data (np.array): The PCA applied data (if PCA was applied).\n",
    "    \"\"\"\n",
    "    if pca_data is not None:\n",
    "        plt.scatter(pca_data[:, 0], pca_data[:, 1], c=labels, cmap='viridis')\n",
    "        plt.xlabel('PCA 1')\n",
    "        plt.ylabel('PCA 2')\n",
    "        plt.title('K-Means Clustering with PCA')\n",
    "    else:\n",
    "        fig = plt.figure(figsize=(15, 7))\n",
    "        ax1 = fig.add_subplot(121, projection='3d')\n",
    "        scatter1 = ax1.scatter(features['TTC'], \n",
    "                               features['time_headway'], \n",
    "                               features['delta_velocity'], \n",
    "                               c=labels, \n",
    "                               cmap='viridis', \n",
    "                               s=50)\n",
    "        ax1.set_xlabel('TTC')\n",
    "        ax1.set_ylabel('Time Headway')\n",
    "        ax1.set_zlabel('Delta Velocity')\n",
    "        ax1.set_title('K-Means Clustering Results')\n",
    "        legend1 = ax1.legend(*scatter1.legend_elements(), title=\"Clusters\")\n",
    "        ax1.add_artist(legend1)\n",
    "    \n",
    "    plt.show()\n",
    "\n",
    "def find_optimal_clusters(data, max_clusters=10):\n",
    "    \"\"\"\n",
    "    Find the optimal number of clusters using the elbow method and silhouette score.\n",
    "    \n",
    "    Args:\n",
    "    - data (np.array): The data to find the optimal clusters for.\n",
    "    - max_clusters (int): The maximum number of clusters to test.\n",
    "    \n",
    "    Returns:\n",
    "    - int: The optimal number of clusters based on the elbow method and silhouette score.\n",
    "    \"\"\"\n",
    "    inertia_list = []\n",
    "    silhouette_scores = []\n",
    "    for n_clusters in range(2, max_clusters+1):\n",
    "        kmeans = KMeans(n_clusters=n_clusters, random_state=42)\n",
    "        labels = kmeans.fit_predict(data)\n",
    "        inertia_list.append(kmeans.inertia_)\n",
    "        silhouette_scores.append(silhouette_score(data, labels))\n",
    "\n",
    "    # Elbow Method Plot\n",
    "    plt.plot(range(2, max_clusters+1), inertia_list, 'o-')\n",
    "    plt.xlabel('Number of Clusters')\n",
    "    plt.ylabel('Inertia')\n",
    "    plt.title('Elbow Method')\n",
    "    plt.show()\n",
    "    \n",
    "    # Silhouette Score Plot\n",
    "    plt.plot(range(2, max_clusters+1), silhouette_scores, 'o-')\n",
    "    plt.xlabel('Number of Clusters')\n",
    "    plt.ylabel('Silhouette Score')\n",
    "    plt.title('Silhouette Scores for Various Clusters')\n",
    "    plt.show()\n",
    "    \n",
    "    # Assuming the elbow is at the cluster number with the highest silhouette score\n",
    "    optimal_clusters = np.argmax(silhouette_scores) + 2  # +2 because range starts from 2\n",
    "    \n",
    "    return optimal_clusters\n",
    "\n",
    "# Usage\n",
    "selected_features = trainHA  # assuming this is a predefined dataframe\n",
    "\n",
    "# Finding optimal number of clusters\n",
    "normalized_data, _, _, _ = normalize_and_cluster(selected_features, apply_pca=True)\n",
    "optimal_clusters = find_optimal_clusters(normalized_data)\n",
    "\n",
    "# Clustering and plotting\n",
    "_, pca_data, labels, clustered_data = normalize_and_cluster(selected_features, n_clusters=optimal_clusters, apply_pca=True)\n",
    "plot_results(selected_features, labels, pca_data)\n",
    "\n",
    "# Computing the average silhouette score\n",
    "silhouette_avg = silhouette_score(pca_data, labels)\n",
    "print(\"The average silhouette_score is:\", silhouette_avg)\n"
   ]
  },
  {
   "cell_type": "code",
   "execution_count": 37,
   "metadata": {},
   "outputs": [
    {
     "name": "stdout",
     "output_type": "stream",
     "text": [
      "26288\n",
      "26288\n",
      "26288\n"
     ]
    },
    {
     "data": {
      "text/html": [
       "<div>\n",
       "<style scoped>\n",
       "    .dataframe tbody tr th:only-of-type {\n",
       "        vertical-align: middle;\n",
       "    }\n",
       "\n",
       "    .dataframe tbody tr th {\n",
       "        vertical-align: top;\n",
       "    }\n",
       "\n",
       "    .dataframe thead th {\n",
       "        text-align: right;\n",
       "    }\n",
       "</style>\n",
       "<table border=\"1\" class=\"dataframe\">\n",
       "  <thead>\n",
       "    <tr style=\"text-align: right;\">\n",
       "      <th></th>\n",
       "      <th>case_id</th>\n",
       "      <th>delta_velocity</th>\n",
       "      <th>v_follower</th>\n",
       "      <th>delta_acceleration</th>\n",
       "      <th>a_follower</th>\n",
       "      <th>jerk_follower</th>\n",
       "      <th>time_headway</th>\n",
       "      <th>delta_position</th>\n",
       "      <th>TTC</th>\n",
       "      <th>TTC_min</th>\n",
       "      <th>cluster</th>\n",
       "    </tr>\n",
       "  </thead>\n",
       "  <tbody>\n",
       "    <tr>\n",
       "      <th>0</th>\n",
       "      <td>0</td>\n",
       "      <td>-0.585128</td>\n",
       "      <td>11.712142</td>\n",
       "      <td>0.047007</td>\n",
       "      <td>2.369844</td>\n",
       "      <td>-0.028677</td>\n",
       "      <td>1.697374</td>\n",
       "      <td>9.428864</td>\n",
       "      <td>61.144338</td>\n",
       "      <td>16.595543</td>\n",
       "      <td>1</td>\n",
       "    </tr>\n",
       "    <tr>\n",
       "      <th>1</th>\n",
       "      <td>1</td>\n",
       "      <td>-0.109332</td>\n",
       "      <td>14.526137</td>\n",
       "      <td>0.039523</td>\n",
       "      <td>0.837482</td>\n",
       "      <td>-0.022997</td>\n",
       "      <td>1.499226</td>\n",
       "      <td>18.421163</td>\n",
       "      <td>80.305906</td>\n",
       "      <td>20.562361</td>\n",
       "      <td>1</td>\n",
       "    </tr>\n",
       "    <tr>\n",
       "      <th>2</th>\n",
       "      <td>2</td>\n",
       "      <td>-0.717295</td>\n",
       "      <td>13.135771</td>\n",
       "      <td>-0.140948</td>\n",
       "      <td>1.012260</td>\n",
       "      <td>0.010870</td>\n",
       "      <td>3.379581</td>\n",
       "      <td>16.096035</td>\n",
       "      <td>7.636726</td>\n",
       "      <td>5.728496</td>\n",
       "      <td>1</td>\n",
       "    </tr>\n",
       "    <tr>\n",
       "      <th>3</th>\n",
       "      <td>3</td>\n",
       "      <td>1.121150</td>\n",
       "      <td>15.083161</td>\n",
       "      <td>0.026782</td>\n",
       "      <td>0.394586</td>\n",
       "      <td>-0.018426</td>\n",
       "      <td>1.937762</td>\n",
       "      <td>22.154348</td>\n",
       "      <td>25.245706</td>\n",
       "      <td>18.166619</td>\n",
       "      <td>1</td>\n",
       "    </tr>\n",
       "    <tr>\n",
       "      <th>4</th>\n",
       "      <td>4</td>\n",
       "      <td>0.587793</td>\n",
       "      <td>14.517350</td>\n",
       "      <td>-0.022323</td>\n",
       "      <td>0.667001</td>\n",
       "      <td>-0.018814</td>\n",
       "      <td>2.044764</td>\n",
       "      <td>14.362037</td>\n",
       "      <td>36.424020</td>\n",
       "      <td>7.093686</td>\n",
       "      <td>1</td>\n",
       "    </tr>\n",
       "  </tbody>\n",
       "</table>\n",
       "</div>"
      ],
      "text/plain": [
       "   case_id  delta_velocity  v_follower  delta_acceleration  a_follower  \\\n",
       "0        0       -0.585128   11.712142            0.047007    2.369844   \n",
       "1        1       -0.109332   14.526137            0.039523    0.837482   \n",
       "2        2       -0.717295   13.135771           -0.140948    1.012260   \n",
       "3        3        1.121150   15.083161            0.026782    0.394586   \n",
       "4        4        0.587793   14.517350           -0.022323    0.667001   \n",
       "\n",
       "   jerk_follower  time_headway  delta_position        TTC    TTC_min  cluster  \n",
       "0      -0.028677      1.697374        9.428864  61.144338  16.595543        1  \n",
       "1      -0.022997      1.499226       18.421163  80.305906  20.562361        1  \n",
       "2       0.010870      3.379581       16.096035   7.636726   5.728496        1  \n",
       "3      -0.018426      1.937762       22.154348  25.245706  18.166619        1  \n",
       "4      -0.018814      2.044764       14.362037  36.424020   7.093686        1  "
      ]
     },
     "execution_count": 37,
     "metadata": {},
     "output_type": "execute_result"
    }
   ],
   "source": [
    "# length of the labels\n",
    "print(len(labels))# LENGTH OF THE PCA DATA    \n",
    "print(len(pca_data))\n",
    "print(len(clustered_data))\n",
    "clustered_data.head()"
   ]
  },
  {
   "cell_type": "code",
   "execution_count": 40,
   "metadata": {},
   "outputs": [
    {
     "name": "stderr",
     "output_type": "stream",
     "text": [
      "Training Epochs:   3%|▎         | 3/100 [00:00<00:10,  9.26it/s]"
     ]
    },
    {
     "name": "stdout",
     "output_type": "stream",
     "text": [
      "Epoch: 0 Loss: 1.0201\n"
     ]
    },
    {
     "name": "stderr",
     "output_type": "stream",
     "text": [
      "Training Epochs:  12%|█▏        | 12/100 [00:01<00:08, 10.60it/s]"
     ]
    },
    {
     "name": "stdout",
     "output_type": "stream",
     "text": [
      "Epoch: 10 Loss: 1.0091\n"
     ]
    },
    {
     "name": "stderr",
     "output_type": "stream",
     "text": [
      "Training Epochs:  22%|██▏       | 22/100 [00:02<00:06, 11.23it/s]"
     ]
    },
    {
     "name": "stdout",
     "output_type": "stream",
     "text": [
      "Epoch: 20 Loss: 1.0007\n"
     ]
    },
    {
     "name": "stderr",
     "output_type": "stream",
     "text": [
      "Training Epochs:  32%|███▏      | 32/100 [00:02<00:06, 11.32it/s]"
     ]
    },
    {
     "name": "stdout",
     "output_type": "stream",
     "text": [
      "Epoch: 30 Loss: 0.9935\n"
     ]
    },
    {
     "name": "stderr",
     "output_type": "stream",
     "text": [
      "Training Epochs:  42%|████▏     | 42/100 [00:03<00:05, 11.26it/s]"
     ]
    },
    {
     "name": "stdout",
     "output_type": "stream",
     "text": [
      "Epoch: 40 Loss: 0.9857\n"
     ]
    },
    {
     "name": "stderr",
     "output_type": "stream",
     "text": [
      "Training Epochs:  52%|█████▏    | 52/100 [00:04<00:04, 11.28it/s]"
     ]
    },
    {
     "name": "stdout",
     "output_type": "stream",
     "text": [
      "Epoch: 50 Loss: 0.9773\n"
     ]
    },
    {
     "name": "stderr",
     "output_type": "stream",
     "text": [
      "Training Epochs:  62%|██████▏   | 62/100 [00:05<00:03, 11.10it/s]"
     ]
    },
    {
     "name": "stdout",
     "output_type": "stream",
     "text": [
      "Epoch: 60 Loss: 0.9687\n"
     ]
    },
    {
     "name": "stderr",
     "output_type": "stream",
     "text": [
      "Training Epochs:  72%|███████▏  | 72/100 [00:06<00:02, 11.08it/s]"
     ]
    },
    {
     "name": "stdout",
     "output_type": "stream",
     "text": [
      "Epoch: 70 Loss: 0.9611\n"
     ]
    },
    {
     "name": "stderr",
     "output_type": "stream",
     "text": [
      "Training Epochs:  82%|████████▏ | 82/100 [00:07<00:01, 11.21it/s]"
     ]
    },
    {
     "name": "stdout",
     "output_type": "stream",
     "text": [
      "Epoch: 80 Loss: 0.9553\n"
     ]
    },
    {
     "name": "stderr",
     "output_type": "stream",
     "text": [
      "Training Epochs:  92%|█████████▏| 92/100 [00:08<00:00, 11.42it/s]"
     ]
    },
    {
     "name": "stdout",
     "output_type": "stream",
     "text": [
      "Epoch: 90 Loss: 0.9511\n"
     ]
    },
    {
     "name": "stderr",
     "output_type": "stream",
     "text": [
      "Training Epochs: 100%|██████████| 100/100 [00:09<00:00, 11.03it/s]\n"
     ]
    },
    {
     "name": "stdout",
     "output_type": "stream",
     "text": [
      "MSE: 9354.35, RMSE: 96.72, MAE: 16.09\n"
     ]
    },
    {
     "name": "stderr",
     "output_type": "stream",
     "text": [
      "Training Epochs:  11%|█         | 11/100 [00:00<00:00, 102.56it/s]"
     ]
    },
    {
     "name": "stdout",
     "output_type": "stream",
     "text": [
      "Epoch: 0 Loss: 1.0733\n",
      "Epoch: 10 Loss: 1.0647\n"
     ]
    },
    {
     "name": "stderr",
     "output_type": "stream",
     "text": [
      "Training Epochs:  11%|█         | 11/100 [00:00<00:00, 102.56it/s]"
     ]
    },
    {
     "name": "stdout",
     "output_type": "stream",
     "text": [
      "Epoch: 20 Loss: 1.0588\n"
     ]
    },
    {
     "name": "stderr",
     "output_type": "stream",
     "text": [
      "Training Epochs:  33%|███▎      | 33/100 [00:00<00:00, 98.70it/s] "
     ]
    },
    {
     "name": "stdout",
     "output_type": "stream",
     "text": [
      "Epoch: 30 Loss: 1.0548\n"
     ]
    },
    {
     "name": "stderr",
     "output_type": "stream",
     "text": [
      "Training Epochs:  43%|████▎     | 43/100 [00:00<00:00, 88.33it/s]"
     ]
    },
    {
     "name": "stdout",
     "output_type": "stream",
     "text": [
      "Epoch: 40 Loss: 1.0514\n"
     ]
    },
    {
     "name": "stderr",
     "output_type": "stream",
     "text": [
      "Training Epochs:  52%|█████▏    | 52/100 [00:00<00:00, 88.43it/s]"
     ]
    },
    {
     "name": "stdout",
     "output_type": "stream",
     "text": [
      "Epoch: 50 Loss: 1.0479\n"
     ]
    },
    {
     "name": "stderr",
     "output_type": "stream",
     "text": [
      "Training Epochs:  62%|██████▏   | 62/100 [00:00<00:00, 89.39it/s]"
     ]
    },
    {
     "name": "stdout",
     "output_type": "stream",
     "text": [
      "Epoch: 60 Loss: 1.0442\n"
     ]
    },
    {
     "name": "stderr",
     "output_type": "stream",
     "text": [
      "Training Epochs:  73%|███████▎  | 73/100 [00:00<00:00, 93.17it/s]"
     ]
    },
    {
     "name": "stdout",
     "output_type": "stream",
     "text": [
      "Epoch: 70 Loss: 1.0402\n",
      "Epoch: 80 Loss: 1.0356\n"
     ]
    },
    {
     "name": "stderr",
     "output_type": "stream",
     "text": [
      "Training Epochs: 100%|██████████| 100/100 [00:01<00:00, 95.06it/s]"
     ]
    },
    {
     "name": "stdout",
     "output_type": "stream",
     "text": [
      "Epoch: 90 Loss: 1.0301\n",
      "MSE: 84792.45, RMSE: 291.19, MAE: 82.88\n"
     ]
    },
    {
     "name": "stderr",
     "output_type": "stream",
     "text": [
      "\n"
     ]
    }
   ],
   "source": [
    "import torch\n",
    "import torch.nn as nn\n",
    "import torch.optim as optim\n",
    "import numpy as np\n",
    "import pandas as pd\n",
    "from sklearn.model_selection import train_test_split\n",
    "from sklearn.preprocessing import StandardScaler\n",
    "from sklearn.metrics import mean_squared_error, mean_absolute_error\n",
    "from tqdm import tqdm\n",
    "import math\n",
    "\n",
    "class LSTMModel(nn.Module):\n",
    "    def __init__(self, input_size=1, hidden_layer_size=100, output_size=1):\n",
    "        super().__init__()\n",
    "        self.lstm = nn.LSTM(input_size, hidden_layer_size, batch_first=True)\n",
    "        self.linear = nn.Linear(hidden_layer_size, output_size)\n",
    "    \n",
    "    def forward(self, input_seq):\n",
    "        lstm_out, _ = self.lstm(input_seq)\n",
    "        predictions = self.linear(lstm_out[:, -1, :])\n",
    "        return predictions\n",
    "\n",
    "\n",
    "clustered_dataframes = {}\n",
    "for cluster_number in clustered_data['cluster'].unique():\n",
    "    clustered_dataframes[cluster_number] = clustered_data[clustered_data['cluster'] == cluster_number].drop(columns=['cluster', 'case_id'])\n",
    "\n",
    "def preprocess_data(df, n_steps_in, n_steps_out, test_size=0.2):\n",
    "    scaler = StandardScaler()\n",
    "    data_normalized = scaler.fit_transform(df)\n",
    "    X, y = create_sequences(data_normalized, n_steps_in, n_steps_out)\n",
    "    X_train, X_test, y_train, y_test = train_test_split(X, y, test_size=test_size, random_state=42)\n",
    "    return (\n",
    "        torch.tensor(X_train, dtype=torch.float32), torch.tensor(y_train, dtype=torch.float32),\n",
    "        torch.tensor(X_test, dtype=torch.float32), torch.tensor(y_test, dtype=torch.float32),\n",
    "        scaler\n",
    "    )\n",
    "\n",
    "def create_sequences(data, n_steps_in, n_steps_out):\n",
    "    X, y = [], []\n",
    "    for i in range(len(data)):\n",
    "        end_ix = i + n_steps_in\n",
    "        out_end_ix = end_ix + n_steps_out\n",
    "        if out_end_ix > len(data):\n",
    "            break\n",
    "        seq_x, seq_y = data[i:end_ix, :], data[end_ix:out_end_ix, :]\n",
    "        X.append(seq_x)\n",
    "        y.append(seq_y)\n",
    "    return np.array(X), np.array(y)\n",
    "\n",
    "def train_model(model, X_train_tensor, y_train_tensor, epochs, optimizer, loss_function):\n",
    "    for epoch in tqdm(range(epochs), desc='Training Epochs'):\n",
    "        model.train()\n",
    "        optimizer.zero_grad()\n",
    "        y_pred = model(X_train_tensor)\n",
    "        loss = loss_function(y_pred, y_train_tensor[:, 0, :])\n",
    "        loss.backward()\n",
    "        optimizer.step()\n",
    "        if epoch % 10 == 0:\n",
    "            tqdm.write(f'Epoch: {epoch} Loss: {loss.item():.4f}')\n",
    "\n",
    "def evaluate_model(model, X_test_tensor, y_test_tensor, scaler):\n",
    "    model.eval()\n",
    "    with torch.no_grad():\n",
    "        y_pred = model(X_test_tensor)\n",
    "        y_pred = y_pred.cpu().numpy()\n",
    "        y_pred_original = scaler.inverse_transform(y_pred)\n",
    "        y_test_original = scaler.inverse_transform(y_test_tensor.cpu().numpy()[:, 0, :])\n",
    "        mse = mean_squared_error(y_test_original, y_pred_original)\n",
    "        rmse = math.sqrt(mse)\n",
    "        mae = mean_absolute_error(y_test_original, y_pred_original)\n",
    "    print(f'MSE: {mse:.2f}, RMSE: {rmse:.2f}, MAE: {mae:.2f}')\n",
    "    return mse, rmse, mae\n",
    "\n",
    "models_scalers = {}\n",
    "n_steps_in, n_steps_out = 3, 1\n",
    "for cluster, cluster_df in clustered_dataframes.items():\n",
    "    X_train_tensor, y_train_tensor, X_test_tensor, y_test_tensor, scaler = preprocess_data(cluster_df, n_steps_in, n_steps_out)\n",
    "    model = LSTMModel(input_size=X_train_tensor.shape[2], hidden_layer_size=50, output_size=y_train_tensor.shape[2])\n",
    "    optimizer = optim.Adam(model.parameters(), lr=0.001)\n",
    "    loss_function = nn.MSELoss()\n",
    "    train_model(model, X_train_tensor, y_train_tensor, epochs=100, optimizer=optimizer, loss_function=loss_function)\n",
    "    mse, rmse, mae = evaluate_model(model, X_test_tensor, y_test_tensor, scaler)\n",
    "    models_scalers[cluster] = {'model': model, 'scaler': scaler, 'metrics': (mse, rmse, mae)}\n",
    "\n",
    "# Save the model and scaler if needed\n",
    "torch.save(models_scalers, 'models_scalers.pth')\n"
   ]
  },
  {
   "cell_type": "code",
   "execution_count": 103,
   "metadata": {},
   "outputs": [],
   "source": [
    "# Evaluation dataset is used here to predict the next time step\n",
    "eval_df = convert_df(\"HA\", \"val\")\n"
   ]
  },
  {
   "cell_type": "code",
   "execution_count": 104,
   "metadata": {},
   "outputs": [
    {
     "data": {
      "text/html": [
       "<div>\n",
       "<style scoped>\n",
       "    .dataframe tbody tr th:only-of-type {\n",
       "        vertical-align: middle;\n",
       "    }\n",
       "\n",
       "    .dataframe tbody tr th {\n",
       "        vertical-align: top;\n",
       "    }\n",
       "\n",
       "    .dataframe thead th {\n",
       "        text-align: right;\n",
       "    }\n",
       "</style>\n",
       "<table border=\"1\" class=\"dataframe\">\n",
       "  <thead>\n",
       "    <tr style=\"text-align: right;\">\n",
       "      <th></th>\n",
       "      <th>delta_velocity</th>\n",
       "      <th>v_follower</th>\n",
       "      <th>delta_acceleration</th>\n",
       "      <th>a_follower</th>\n",
       "      <th>jerk_follower</th>\n",
       "      <th>time_headway</th>\n",
       "      <th>delta_position</th>\n",
       "      <th>TTC</th>\n",
       "      <th>TTC_min</th>\n",
       "    </tr>\n",
       "  </thead>\n",
       "  <tbody>\n",
       "    <tr>\n",
       "      <th>0</th>\n",
       "      <td>-0.112306</td>\n",
       "      <td>13.972906</td>\n",
       "      <td>-0.040953</td>\n",
       "      <td>0.913186</td>\n",
       "      <td>0.013031</td>\n",
       "      <td>2.296439</td>\n",
       "      <td>22.095424</td>\n",
       "      <td>124.803687</td>\n",
       "      <td>11.794680</td>\n",
       "    </tr>\n",
       "    <tr>\n",
       "      <th>1</th>\n",
       "      <td>1.577983</td>\n",
       "      <td>12.061164</td>\n",
       "      <td>-0.035401</td>\n",
       "      <td>0.162992</td>\n",
       "      <td>0.013574</td>\n",
       "      <td>3.225179</td>\n",
       "      <td>8.866747</td>\n",
       "      <td>18.864220</td>\n",
       "      <td>3.197740</td>\n",
       "    </tr>\n",
       "    <tr>\n",
       "      <th>2</th>\n",
       "      <td>-0.274519</td>\n",
       "      <td>12.536280</td>\n",
       "      <td>-0.004253</td>\n",
       "      <td>3.739273</td>\n",
       "      <td>-0.047253</td>\n",
       "      <td>1.156909</td>\n",
       "      <td>9.121510</td>\n",
       "      <td>85.516191</td>\n",
       "      <td>7.427292</td>\n",
       "    </tr>\n",
       "  </tbody>\n",
       "</table>\n",
       "</div>"
      ],
      "text/plain": [
       "   delta_velocity  v_follower  delta_acceleration  a_follower  jerk_follower  \\\n",
       "0       -0.112306   13.972906           -0.040953    0.913186       0.013031   \n",
       "1        1.577983   12.061164           -0.035401    0.162992       0.013574   \n",
       "2       -0.274519   12.536280           -0.004253    3.739273      -0.047253   \n",
       "\n",
       "   time_headway  delta_position         TTC    TTC_min  \n",
       "0      2.296439       22.095424  124.803687  11.794680  \n",
       "1      3.225179        8.866747   18.864220   3.197740  \n",
       "2      1.156909        9.121510   85.516191   7.427292  "
      ]
     },
     "execution_count": 104,
     "metadata": {},
     "output_type": "execute_result"
    }
   ],
   "source": [
    "# this is the initial input for the model, the minimum sequence length is 3 so at least 3 rows are needed\n",
    "eval_df = eval_df.head(3)\n",
    "eval_df = eval_df.drop(columns=['case_id'])\n",
    "\n",
    "eval_df\n"
   ]
  },
  {
   "cell_type": "code",
   "execution_count": 106,
   "metadata": {},
   "outputs": [
    {
     "name": "stderr",
     "output_type": "stream",
     "text": [
      "/Users/ykong/.local/share/virtualenvs/car-following-project--ZycwsGt/lib/python3.11/site-packages/sklearn/base.py:465: UserWarning: X does not have valid feature names, but StandardScaler was fitted with feature names\n",
      "  warnings.warn(\n"
     ]
    },
    {
     "data": {
      "text/plain": [
       "array([0.00502765], dtype=float32)"
      ]
     },
     "execution_count": 106,
     "metadata": {},
     "output_type": "execute_result"
    }
   ],
   "source": [
    "import torch\n",
    "import pandas as pd\n",
    "import numpy as np\n",
    "from sklearn.preprocessing import StandardScaler\n",
    "\n",
    "def predict_delta_acceleration(eval_df, models_scalers, cluster_number=1, n_steps_in=3, delta_acceleration_index=2):\n",
    "    \"\"\"\n",
    "    Predicts the delta acceleration of a car using an LSTM model trained on car-following data.\n",
    "\n",
    "    Parameters:\n",
    "    eval_df (pandas.DataFrame): The input data to predict on.\n",
    "    models_scalers (dict): A dictionary containing the trained models and scalers for each cluster.\n",
    "    cluster_number (int): The cluster number to use for prediction.\n",
    "    n_steps_in (int): The number of time steps to use as input for the LSTM model.\n",
    "    delta_acceleration_index (int): The index of the delta acceleration column in the output.\n",
    "\n",
    "    Returns:\n",
    "    float: The predicted delta acceleration.\n",
    "    \"\"\"\n",
    "    \n",
    "\n",
    "    # Load the scaler for the cluster\n",
    "    scaler = models_scalers[cluster_number]['scaler']\n",
    "\n",
    "    # Prepare the input data for prediction\n",
    "    X_new_prepared = preprocess_new_data(eval_df.values, scaler, n_steps_in)\n",
    "    X_new_tensor = torch.tensor(X_new_prepared, dtype=torch.float32)\n",
    "\n",
    "    # Load the model for the cluster\n",
    "    model = models_scalers[cluster_number]['model']\n",
    "\n",
    "    # Predict using the model\n",
    "    model.eval()\n",
    "    with torch.no_grad():\n",
    "        y_new_pred_tensor = model(X_new_tensor)\n",
    "        y_new_pred = y_new_pred_tensor.numpy()\n",
    "\n",
    "    # Inverse transform the predictions to the original scale\n",
    "    y_new_pred_original = scaler.inverse_transform(y_new_pred)\n",
    "\n",
    "    # Extract the denormalized delta_acceleration values\n",
    "    delta_acceleration_pred_original = y_new_pred_original[:, delta_acceleration_index]\n",
    "\n",
    "    # Return the predicted delta acceleration\n",
    "    return delta_acceleration_pred_original\n",
    "\n",
    "# Load the model from the saved models_cales.pth file\n",
    "models_scalers = torch.load('models_scalers.pth')\n",
    "\n",
    "# Predict the delta acceleration for the eval_df dataframe\n",
    "cluster_number = 1\n",
    "delta_acceleration_pred = predict_delta_acceleration(eval_df, models_scalers, cluster_number)\n",
    "delta_acceleration_pred"
   ]
  }
 ],
 "metadata": {
  "kernelspec": {
   "display_name": "car-following-project--ZycwsGt",
   "language": "python",
   "name": "python3"
  },
  "language_info": {
   "codemirror_mode": {
    "name": "ipython",
    "version": 3
   },
   "file_extension": ".py",
   "mimetype": "text/x-python",
   "name": "python",
   "nbconvert_exporter": "python",
   "pygments_lexer": "ipython3",
   "version": "3.11.4"
  }
 },
 "nbformat": 4,
 "nbformat_minor": 2
}
