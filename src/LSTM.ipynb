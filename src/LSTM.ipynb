{
  "cells": [
    {
      "cell_type": "code",
      "execution_count": 5,
      "metadata": {},
      "outputs": [
        {
          "name": "stdout",
          "output_type": "stream",
          "text": [
            "/var/www/car-following-project/src root /var/www/car-following-project\n"
          ]
        }
      ],
      "source": [
        "import os\n",
        "import sys\n",
        "# workaround https://stackoverflow.com/questions/15514593/importerror-no-module-named-when-trying-to-run-python-script\n",
        "root_path = os.path.abspath(\"../\")\n",
        "print(os.getcwd(), \"root\", root_path) \n",
        "# in order to import src.LSTMModel\n",
        "sys.path.append(root_path)"
      ]
    },
    {
      "cell_type": "code",
      "execution_count": 6,
      "metadata": {},
      "outputs": [],
      "source": [
        "import pandas as pd\n",
        "from read_data import read_data\n",
        "import numpy as np\n",
        "\n",
        "def compute_delta_metrics(data):\n",
        "    \"\"\"\n",
        "    Computes additional metrics for the dataset:\n",
        "    - Delta Position: Leader's position minus Follower's position.\n",
        "    - Delta Velocity: Leader's velocity minus Follower's velocity.\n",
        "    - Delta Acceleration: Leader's acceleration minus Follower's acceleration.\n",
        "    - Time-To-Collision (TTC): Delta Position divided by Delta Velocity.\n",
        "    \"\"\"\n",
        "    data[\"delta_position\"] = data[\"x_leader\"] - data[\"x_follower\"]\n",
        "    data[\"delta_velocity\"] = data[\"v_follower\"] - data[\"v_leader\"]\n",
        "    data[\"delta_acceleration\"] = data[\"a_follower\"] - data[\"a_leader\"]\n",
        "    data[\"TTC\"] = data[\"delta_position\"] / data[\"delta_velocity\"]\n",
        "    data.loc[data[\"TTC\"] < 0, \"TTC\"] = np.nan\n",
        "    data['time_headway'] = data['delta_position'] / data['v_follower']\n",
        "    data['TTC_min'] = data['TTC']\n",
        "\n",
        "    # Calculate jerk for the follower vehicle\n",
        "    data['jerk_follower'] = np.gradient(data['a_follower'], data['time'])\n",
        "    return data\n",
        "\n",
        "def aggregate_data_by_case(data):\n",
        "    \"\"\"\n",
        "    Aggregates the dataset by 'case_id' to find the max and min \n",
        "    of each delta metric and TTC for each case.\n",
        "    Renames columns for clarity and adds case_id as a column.\n",
        "    \"\"\"\n",
        "    aggr_data = data.groupby('case_id').agg({'delta_velocity':'mean',\n",
        "                           'v_follower':'max',\n",
        "                           'delta_acceleration':'mean',\n",
        "                           'a_follower':'max',\n",
        "                           'jerk_follower':'mean',\n",
        "                           'time_headway':'median',\n",
        "                           'delta_position':'min',\n",
        "                           'TTC':'median',\n",
        "                           'TTC_min':'min'}).reset_index()\n",
        "\n",
        "    return aggr_data\n",
        "\n",
        "def adjust_ttc_sign(aggregated_data):\n",
        "    \"\"\"\n",
        "    Ensures TTC (Time-To-Collision) is non-negative by taking the absolute value.\n",
        "    \"\"\"\n",
        "\n",
        "    aggregated_data[\"TTC\"] = aggregated_data[\"TTC\"].abs()\n",
        "    aggregated_data[\"TTC_min\"] = aggregated_data[\"TTC_min\"].abs()\n",
        "    return aggregated_data\n",
        "\n",
        "def convert_df(dataset: str, mode: str):\n",
        "    \"\"\"\n",
        "    Main function that utilizes the above helper functions to preprocess the data.\n",
        "    Returns a DataFrame grouped by 'case_id' with max and min values of\n",
        "    delta position, delta velocity, delta acceleration, and TTC (Time-To-Collision).\n",
        "    \"\"\"\n",
        "    data = read_data(dataset, mode)\n",
        "    data = compute_delta_metrics(data)\n",
        "    aggregated_data = aggregate_data_by_case(data)\n",
        "    aggregated_data = adjust_ttc_sign(aggregated_data)\n",
        "    return aggregated_data\n"
      ]
    },
    {
      "cell_type": "code",
      "execution_count": 7,
      "metadata": {},
      "outputs": [
        {
          "name": "stdout",
          "output_type": "stream",
          "text": [
            "data is\n",
            "         case_id  time   x_leader  x_follower      v_leader  v_follower  \\\n",
            "0              0   0.0   0.000000   -9.428864  2.629775e+00    0.784441   \n",
            "1              0   0.1   0.263154   -9.341833  2.665530e+00    0.810204   \n",
            "2              0   0.2   0.535099   -9.265412  2.776808e+00    0.828016   \n",
            "3              0   0.3   0.828920   -9.107064  2.966034e+00    0.889182   \n",
            "4              0   0.4   1.147062   -8.933068  3.168645e+00    0.979196   \n",
            "...          ...   ...        ...         ...           ...         ...   \n",
            "7124113    26393  21.5  23.460644   17.509131 -1.224044e-14    0.005863   \n",
            "7124114    26393  21.6  23.460644   17.562307 -6.071740e-15    0.020706   \n",
            "7124115    26393  21.7  23.460644   17.588280 -1.017347e-14    0.019477   \n",
            "7124116    26393  21.8  23.460644   17.607007 -5.046575e-15    0.015674   \n",
            "7124117    26393  21.9  23.460644   17.612592 -2.503374e-15    0.011022   \n",
            "\n",
            "         a_leader  a_follower  l_leader  l_follower  \n",
            "0        1.315692    0.831906      4.85    4.000000  \n",
            "1        1.348330    0.848821      4.85    4.000000  \n",
            "2        1.407345    0.875646      4.85    4.000000  \n",
            "3        1.482459    0.910850      4.85    4.000000  \n",
            "4        1.552755    0.954763      4.85    4.000000  \n",
            "...           ...         ...       ...         ...  \n",
            "7124113 -0.000065    0.019480      4.85    4.261504  \n",
            "7124114 -0.000069    0.017621      4.85    4.261504  \n",
            "7124115 -0.000056    0.008581      4.85    4.261504  \n",
            "7124116 -0.000035   -0.005849      4.85    4.261504  \n",
            "7124117 -0.000006   -0.019997      4.85    4.261504  \n",
            "\n",
            "[7124118 rows x 10 columns]\n"
          ]
        },
        {
          "data": {
            "text/html": [
              "<div>\n",
              "<style scoped>\n",
              "    .dataframe tbody tr th:only-of-type {\n",
              "        vertical-align: middle;\n",
              "    }\n",
              "\n",
              "    .dataframe tbody tr th {\n",
              "        vertical-align: top;\n",
              "    }\n",
              "\n",
              "    .dataframe thead th {\n",
              "        text-align: right;\n",
              "    }\n",
              "</style>\n",
              "<table border=\"1\" class=\"dataframe\">\n",
              "  <thead>\n",
              "    <tr style=\"text-align: right;\">\n",
              "      <th></th>\n",
              "      <th>case_id</th>\n",
              "      <th>delta_velocity</th>\n",
              "      <th>v_follower</th>\n",
              "      <th>delta_acceleration</th>\n",
              "      <th>a_follower</th>\n",
              "      <th>jerk_follower</th>\n",
              "      <th>time_headway</th>\n",
              "      <th>delta_position</th>\n",
              "      <th>TTC</th>\n",
              "      <th>TTC_min</th>\n",
              "    </tr>\n",
              "  </thead>\n",
              "  <tbody>\n",
              "    <tr>\n",
              "      <th>0</th>\n",
              "      <td>0</td>\n",
              "      <td>-0.585128</td>\n",
              "      <td>11.712142</td>\n",
              "      <td>0.047007</td>\n",
              "      <td>2.369844</td>\n",
              "      <td>-0.028677</td>\n",
              "      <td>1.697374</td>\n",
              "      <td>9.428864</td>\n",
              "      <td>61.144338</td>\n",
              "      <td>16.595543</td>\n",
              "    </tr>\n",
              "    <tr>\n",
              "      <th>1</th>\n",
              "      <td>1</td>\n",
              "      <td>-0.109332</td>\n",
              "      <td>14.526137</td>\n",
              "      <td>0.039523</td>\n",
              "      <td>0.837482</td>\n",
              "      <td>-0.022997</td>\n",
              "      <td>1.499226</td>\n",
              "      <td>18.421163</td>\n",
              "      <td>80.305906</td>\n",
              "      <td>20.562361</td>\n",
              "    </tr>\n",
              "    <tr>\n",
              "      <th>2</th>\n",
              "      <td>2</td>\n",
              "      <td>-0.717295</td>\n",
              "      <td>13.135771</td>\n",
              "      <td>-0.140948</td>\n",
              "      <td>1.012260</td>\n",
              "      <td>0.010870</td>\n",
              "      <td>3.379581</td>\n",
              "      <td>16.096035</td>\n",
              "      <td>7.636726</td>\n",
              "      <td>5.728496</td>\n",
              "    </tr>\n",
              "    <tr>\n",
              "      <th>3</th>\n",
              "      <td>3</td>\n",
              "      <td>1.121150</td>\n",
              "      <td>15.083161</td>\n",
              "      <td>0.026782</td>\n",
              "      <td>0.394586</td>\n",
              "      <td>-0.018426</td>\n",
              "      <td>1.937762</td>\n",
              "      <td>22.154348</td>\n",
              "      <td>25.245706</td>\n",
              "      <td>18.166619</td>\n",
              "    </tr>\n",
              "    <tr>\n",
              "      <th>4</th>\n",
              "      <td>4</td>\n",
              "      <td>0.587793</td>\n",
              "      <td>14.517350</td>\n",
              "      <td>-0.022323</td>\n",
              "      <td>0.667001</td>\n",
              "      <td>-0.018814</td>\n",
              "      <td>2.044764</td>\n",
              "      <td>14.362037</td>\n",
              "      <td>36.424020</td>\n",
              "      <td>7.093686</td>\n",
              "    </tr>\n",
              "    <tr>\n",
              "      <th>...</th>\n",
              "      <td>...</td>\n",
              "      <td>...</td>\n",
              "      <td>...</td>\n",
              "      <td>...</td>\n",
              "      <td>...</td>\n",
              "      <td>...</td>\n",
              "      <td>...</td>\n",
              "      <td>...</td>\n",
              "      <td>...</td>\n",
              "      <td>...</td>\n",
              "    </tr>\n",
              "    <tr>\n",
              "      <th>495</th>\n",
              "      <td>495</td>\n",
              "      <td>0.197079</td>\n",
              "      <td>14.385285</td>\n",
              "      <td>-0.088729</td>\n",
              "      <td>0.305779</td>\n",
              "      <td>-0.006375</td>\n",
              "      <td>2.179975</td>\n",
              "      <td>27.189289</td>\n",
              "      <td>59.974457</td>\n",
              "      <td>29.818995</td>\n",
              "    </tr>\n",
              "    <tr>\n",
              "      <th>496</th>\n",
              "      <td>496</td>\n",
              "      <td>1.227572</td>\n",
              "      <td>12.163433</td>\n",
              "      <td>-0.068099</td>\n",
              "      <td>0.397671</td>\n",
              "      <td>0.018117</td>\n",
              "      <td>2.446065</td>\n",
              "      <td>6.359919</td>\n",
              "      <td>11.324800</td>\n",
              "      <td>3.282347</td>\n",
              "    </tr>\n",
              "    <tr>\n",
              "      <th>497</th>\n",
              "      <td>497</td>\n",
              "      <td>0.317125</td>\n",
              "      <td>14.519390</td>\n",
              "      <td>-0.096140</td>\n",
              "      <td>1.157213</td>\n",
              "      <td>-0.019941</td>\n",
              "      <td>1.829167</td>\n",
              "      <td>17.585190</td>\n",
              "      <td>29.175127</td>\n",
              "      <td>7.392851</td>\n",
              "    </tr>\n",
              "    <tr>\n",
              "      <th>498</th>\n",
              "      <td>498</td>\n",
              "      <td>0.278913</td>\n",
              "      <td>14.095021</td>\n",
              "      <td>-0.065379</td>\n",
              "      <td>0.344991</td>\n",
              "      <td>-0.036504</td>\n",
              "      <td>1.402545</td>\n",
              "      <td>15.717958</td>\n",
              "      <td>33.327711</td>\n",
              "      <td>16.101418</td>\n",
              "    </tr>\n",
              "    <tr>\n",
              "      <th>499</th>\n",
              "      <td>499</td>\n",
              "      <td>0.248270</td>\n",
              "      <td>10.806744</td>\n",
              "      <td>0.091435</td>\n",
              "      <td>1.267526</td>\n",
              "      <td>-0.038707</td>\n",
              "      <td>2.446420</td>\n",
              "      <td>14.270447</td>\n",
              "      <td>16.262830</td>\n",
              "      <td>6.070137</td>\n",
              "    </tr>\n",
              "  </tbody>\n",
              "</table>\n",
              "<p>500 rows × 10 columns</p>\n",
              "</div>"
            ],
            "text/plain": [
              "     case_id  delta_velocity  v_follower  delta_acceleration  a_follower  \\\n",
              "0          0       -0.585128   11.712142            0.047007    2.369844   \n",
              "1          1       -0.109332   14.526137            0.039523    0.837482   \n",
              "2          2       -0.717295   13.135771           -0.140948    1.012260   \n",
              "3          3        1.121150   15.083161            0.026782    0.394586   \n",
              "4          4        0.587793   14.517350           -0.022323    0.667001   \n",
              "..       ...             ...         ...                 ...         ...   \n",
              "495      495        0.197079   14.385285           -0.088729    0.305779   \n",
              "496      496        1.227572   12.163433           -0.068099    0.397671   \n",
              "497      497        0.317125   14.519390           -0.096140    1.157213   \n",
              "498      498        0.278913   14.095021           -0.065379    0.344991   \n",
              "499      499        0.248270   10.806744            0.091435    1.267526   \n",
              "\n",
              "     jerk_follower  time_headway  delta_position        TTC    TTC_min  \n",
              "0        -0.028677      1.697374        9.428864  61.144338  16.595543  \n",
              "1        -0.022997      1.499226       18.421163  80.305906  20.562361  \n",
              "2         0.010870      3.379581       16.096035   7.636726   5.728496  \n",
              "3        -0.018426      1.937762       22.154348  25.245706  18.166619  \n",
              "4        -0.018814      2.044764       14.362037  36.424020   7.093686  \n",
              "..             ...           ...             ...        ...        ...  \n",
              "495      -0.006375      2.179975       27.189289  59.974457  29.818995  \n",
              "496       0.018117      2.446065        6.359919  11.324800   3.282347  \n",
              "497      -0.019941      1.829167       17.585190  29.175127   7.392851  \n",
              "498      -0.036504      1.402545       15.717958  33.327711  16.101418  \n",
              "499      -0.038707      2.446420       14.270447  16.262830   6.070137  \n",
              "\n",
              "[500 rows x 10 columns]"
            ]
          },
          "execution_count": 7,
          "metadata": {},
          "output_type": "execute_result"
        }
      ],
      "source": [
        "trainHA = convert_df(\"HA\", \"train\")\n",
        "trainHA.head(500)"
      ]
    },
    {
      "cell_type": "code",
      "execution_count": 8,
      "metadata": {},
      "outputs": [
        {
          "name": "stdout",
          "output_type": "stream",
          "text": [
            "26394\n"
          ]
        }
      ],
      "source": [
        "selected_features = trainHA\n",
        "#print selected_features length\n",
        "print(len(selected_features))\n",
        "\n",
        "\n",
        "\n"
      ]
    },
    {
      "cell_type": "code",
      "execution_count": 9,
      "metadata": {},
      "outputs": [
        {
          "name": "stderr",
          "output_type": "stream",
          "text": [
            "/home/tom/.local/share/virtualenvs/car-following-project-UTHu64Qq/lib/python3.11/site-packages/sklearn/cluster/_kmeans.py:1416: FutureWarning: The default value of `n_init` will change from 10 to 'auto' in 1.4. Set the value of `n_init` explicitly to suppress the warning\n",
            "  super()._check_params_vs_input(X, default_n_init=10)\n",
            "/home/tom/.local/share/virtualenvs/car-following-project-UTHu64Qq/lib/python3.11/site-packages/sklearn/cluster/_kmeans.py:1416: FutureWarning: The default value of `n_init` will change from 10 to 'auto' in 1.4. Set the value of `n_init` explicitly to suppress the warning\n",
            "  super()._check_params_vs_input(X, default_n_init=10)\n",
            "/home/tom/.local/share/virtualenvs/car-following-project-UTHu64Qq/lib/python3.11/site-packages/sklearn/cluster/_kmeans.py:1416: FutureWarning: The default value of `n_init` will change from 10 to 'auto' in 1.4. Set the value of `n_init` explicitly to suppress the warning\n",
            "  super()._check_params_vs_input(X, default_n_init=10)\n",
            "/home/tom/.local/share/virtualenvs/car-following-project-UTHu64Qq/lib/python3.11/site-packages/sklearn/cluster/_kmeans.py:1416: FutureWarning: The default value of `n_init` will change from 10 to 'auto' in 1.4. Set the value of `n_init` explicitly to suppress the warning\n",
            "  super()._check_params_vs_input(X, default_n_init=10)\n",
            "/home/tom/.local/share/virtualenvs/car-following-project-UTHu64Qq/lib/python3.11/site-packages/sklearn/cluster/_kmeans.py:1416: FutureWarning: The default value of `n_init` will change from 10 to 'auto' in 1.4. Set the value of `n_init` explicitly to suppress the warning\n",
            "  super()._check_params_vs_input(X, default_n_init=10)\n",
            "/home/tom/.local/share/virtualenvs/car-following-project-UTHu64Qq/lib/python3.11/site-packages/sklearn/cluster/_kmeans.py:1416: FutureWarning: The default value of `n_init` will change from 10 to 'auto' in 1.4. Set the value of `n_init` explicitly to suppress the warning\n",
            "  super()._check_params_vs_input(X, default_n_init=10)\n",
            "/home/tom/.local/share/virtualenvs/car-following-project-UTHu64Qq/lib/python3.11/site-packages/sklearn/cluster/_kmeans.py:1416: FutureWarning: The default value of `n_init` will change from 10 to 'auto' in 1.4. Set the value of `n_init` explicitly to suppress the warning\n",
            "  super()._check_params_vs_input(X, default_n_init=10)\n",
            "/home/tom/.local/share/virtualenvs/car-following-project-UTHu64Qq/lib/python3.11/site-packages/sklearn/cluster/_kmeans.py:1416: FutureWarning: The default value of `n_init` will change from 10 to 'auto' in 1.4. Set the value of `n_init` explicitly to suppress the warning\n",
            "  super()._check_params_vs_input(X, default_n_init=10)\n",
            "/home/tom/.local/share/virtualenvs/car-following-project-UTHu64Qq/lib/python3.11/site-packages/sklearn/cluster/_kmeans.py:1416: FutureWarning: The default value of `n_init` will change from 10 to 'auto' in 1.4. Set the value of `n_init` explicitly to suppress the warning\n",
            "  super()._check_params_vs_input(X, default_n_init=10)\n",
            "/home/tom/.local/share/virtualenvs/car-following-project-UTHu64Qq/lib/python3.11/site-packages/sklearn/cluster/_kmeans.py:1416: FutureWarning: The default value of `n_init` will change from 10 to 'auto' in 1.4. Set the value of `n_init` explicitly to suppress the warning\n",
            "  super()._check_params_vs_input(X, default_n_init=10)\n"
          ]
        },
        {
          "data": {
            "image/png": "[encoded data removed]",
            "text/plain": [
              "<Figure size 640x480 with 1 Axes>"
            ]
          },
          "metadata": {},
          "output_type": "display_data"
        },
        {
          "data": {
            "image/png": "[encoded data removed]",
            "text/plain": [
              "<Figure size 640x480 with 1 Axes>"
            ]
          },
          "metadata": {},
          "output_type": "display_data"
        },
        {
          "name": "stderr",
          "output_type": "stream",
          "text": [
            "/home/tom/.local/share/virtualenvs/car-following-project-UTHu64Qq/lib/python3.11/site-packages/sklearn/cluster/_kmeans.py:1416: FutureWarning: The default value of `n_init` will change from 10 to 'auto' in 1.4. Set the value of `n_init` explicitly to suppress the warning\n",
            "  super()._check_params_vs_input(X, default_n_init=10)\n"
          ]
        },
        {
          "data": {
            "image/png": "[encoded data removed]",
            "text/plain": [
              "<Figure size 640x480 with 1 Axes>"
            ]
          },
          "metadata": {},
          "output_type": "display_data"
        },
        {
          "name": "stdout",
          "output_type": "stream",
          "text": [
            "The average silhouette_score is: 0.6774392930539453\n"
          ]
        }
      ],
      "source": [
        "import numpy as np\n",
        "import pandas as pd\n",
        "from sklearn.preprocessing import StandardScaler\n",
        "from sklearn.cluster import KMeans\n",
        "from sklearn.decomposition import PCA\n",
        "from sklearn.metrics import silhouette_score\n",
        "import matplotlib.pyplot as plt\n",
        "from mpl_toolkits.mplot3d import Axes3D\n",
        "\n",
        "def normalize_and_cluster(features, n_clusters=3, apply_pca=False):\n",
        "    \"\"\"\n",
        "    Normalize the given feature dataframe, apply PCA if requested,\n",
        "    and perform KMeans clustering on the data.\n",
        "    \n",
        "    Args:\n",
        "    - features (pd.DataFrame): The dataframe to normalize and cluster.\n",
        "    - n_clusters (int): Number of clusters.\n",
        "    - apply_pca (bool): Apply PCA if True.\n",
        "    \n",
        "    Returns:\n",
        "    - tuple: The normalized data, PCA applied data (if requested), and cluster labels.\n",
        "    \"\"\"\n",
        "    # Normalize data\n",
        "    scaler = StandardScaler()\n",
        "    features_numeric = features.select_dtypes(include=np.number).dropna()\n",
        "    normalized_data = scaler.fit_transform(features_numeric)\n",
        "    \n",
        "    # Apply PCA\n",
        "    pca_data = None\n",
        "    if apply_pca:\n",
        "        pca = PCA(n_components=2)\n",
        "        pca_data = pca.fit_transform(normalized_data)\n",
        "        data_to_cluster = pca_data\n",
        "    else:\n",
        "        data_to_cluster = normalized_data\n",
        "    \n",
        "    # Perform KMeans Clustering\n",
        "    kmeans = KMeans(n_clusters=n_clusters, random_state=42)\n",
        "    labels = kmeans.fit_predict(data_to_cluster)\n",
        "    features_numeric['cluster'] = labels\n",
        "    \n",
        "    return normalized_data, pca_data, labels, features_numeric\n",
        "\n",
        "def plot_results(features, labels, pca_data=None):\n",
        "    \"\"\"\n",
        "    Plot the results of the KMeans clustering, using PCA data if provided.\n",
        "    \n",
        "    Args:\n",
        "    - features (pd.DataFrame): The feature dataframe.\n",
        "    - labels (np.array): The cluster labels.\n",
        "    - pca_data (np.array): The PCA applied data (if PCA was applied).\n",
        "    \"\"\"\n",
        "    if pca_data is not None:\n",
        "        plt.scatter(pca_data[:, 0], pca_data[:, 1], c=labels, cmap='viridis')\n",
        "        plt.xlabel('PCA 1')\n",
        "        plt.ylabel('PCA 2')\n",
        "        plt.title('K-Means Clustering with PCA')\n",
        "    else:\n",
        "        fig = plt.figure(figsize=(15, 7))\n",
        "        ax1 = fig.add_subplot(121, projection='3d')\n",
        "        scatter1 = ax1.scatter(features['TTC'], \n",
        "                               features['time_headway'], \n",
        "                               features['delta_velocity'], \n",
        "                               c=labels, \n",
        "                               cmap='viridis', \n",
        "                               s=50)\n",
        "        ax1.set_xlabel('TTC')\n",
        "        ax1.set_ylabel('Time Headway')\n",
        "        ax1.set_zlabel('Delta Velocity')\n",
        "        ax1.set_title('K-Means Clustering Results')\n",
        "        legend1 = ax1.legend(*scatter1.legend_elements(), title=\"Clusters\")\n",
        "        ax1.add_artist(legend1)\n",
        "    \n",
        "    plt.show()\n",
        "\n",
        "def find_optimal_clusters(data, max_clusters=10):\n",
        "    \"\"\"\n",
        "    Find the optimal number of clusters using the elbow method and silhouette score.\n",
        "    \n",
        "    Args:\n",
        "    - data (np.array): The data to find the optimal clusters for.\n",
        "    - max_clusters (int): The maximum number of clusters to test.\n",
        "    \n",
        "    Returns:\n",
        "    - int: The optimal number of clusters based on the elbow method and silhouette score.\n",
        "    \"\"\"\n",
        "    inertia_list = []\n",
        "    silhouette_scores = []\n",
        "    for n_clusters in range(2, max_clusters+1):\n",
        "        kmeans = KMeans(n_clusters=n_clusters, random_state=42)\n",
        "        labels = kmeans.fit_predict(data)\n",
        "        inertia_list.append(kmeans.inertia_)\n",
        "        silhouette_scores.append(silhouette_score(data, labels))\n",
        "\n",
        "    # Elbow Method Plot\n",
        "    plt.plot(range(2, max_clusters+1), inertia_list, 'o-')\n",
        "    plt.xlabel('Number of Clusters')\n",
        "    plt.ylabel('Inertia')\n",
        "    plt.title('Elbow Method')\n",
        "    plt.show()\n",
        "    \n",
        "    # Silhouette Score Plot\n",
        "    plt.plot(range(2, max_clusters+1), silhouette_scores, 'o-')\n",
        "    plt.xlabel('Number of Clusters')\n",
        "    plt.ylabel('Silhouette Score')\n",
        "    plt.title('Silhouette Scores for Various Clusters')\n",
        "    plt.show()\n",
        "    \n",
        "    # Assuming the elbow is at the cluster number with the highest silhouette score\n",
        "    optimal_clusters = np.argmax(silhouette_scores) + 2  # +2 because range starts from 2\n",
        "    \n",
        "    return optimal_clusters\n",
        "\n",
        "# Usage\n",
        "selected_features = trainHA  # assuming this is a predefined dataframe\n",
        "\n",
        "# Finding optimal number of clusters\n",
        "normalized_data, _, _, _ = normalize_and_cluster(selected_features, apply_pca=True)\n",
        "optimal_clusters = find_optimal_clusters(normalized_data)\n",
        "\n",
        "# Clustering and plotting\n",
        "_, pca_data, labels, clustered_data = normalize_and_cluster(selected_features, n_clusters=optimal_clusters, apply_pca=True)\n",
        "plot_results(selected_features, labels, pca_data)\n",
        "\n",
        "# Computing the average silhouette score\n",
        "silhouette_avg = silhouette_score(pca_data, labels)\n",
        "print(\"The average silhouette_score is:\", silhouette_avg)\n"
      ]
    },
    {
      "cell_type": "code",
      "execution_count": 10,
      "metadata": {},
      "outputs": [
        {
          "name": "stdout",
          "output_type": "stream",
          "text": [
            "26288\n",
            "26288\n",
            "26288\n"
          ]
        },
        {
          "data": {
            "text/html": [
              "<div>\n",
              "<style scoped>\n",
              "    .dataframe tbody tr th:only-of-type {\n",
              "        vertical-align: middle;\n",
              "    }\n",
              "\n",
              "    .dataframe tbody tr th {\n",
              "        vertical-align: top;\n",
              "    }\n",
              "\n",
              "    .dataframe thead th {\n",
              "        text-align: right;\n",
              "    }\n",
              "</style>\n",
              "<table border=\"1\" class=\"dataframe\">\n",
              "  <thead>\n",
              "    <tr style=\"text-align: right;\">\n",
              "      <th></th>\n",
              "      <th>case_id</th>\n",
              "      <th>delta_velocity</th>\n",
              "      <th>v_follower</th>\n",
              "      <th>delta_acceleration</th>\n",
              "      <th>a_follower</th>\n",
              "      <th>jerk_follower</th>\n",
              "      <th>time_headway</th>\n",
              "      <th>delta_position</th>\n",
              "      <th>TTC</th>\n",
              "      <th>TTC_min</th>\n",
              "      <th>cluster</th>\n",
              "    </tr>\n",
              "  </thead>\n",
              "  <tbody>\n",
              "    <tr>\n",
              "      <th>0</th>\n",
              "      <td>0</td>\n",
              "      <td>-0.585128</td>\n",
              "      <td>11.712142</td>\n",
              "      <td>0.047007</td>\n",
              "      <td>2.369844</td>\n",
              "      <td>-0.028677</td>\n",
              "      <td>1.697374</td>\n",
              "      <td>9.428864</td>\n",
              "      <td>61.144338</td>\n",
              "      <td>16.595543</td>\n",
              "      <td>1</td>\n",
              "    </tr>\n",
              "    <tr>\n",
              "      <th>1</th>\n",
              "      <td>1</td>\n",
              "      <td>-0.109332</td>\n",
              "      <td>14.526137</td>\n",
              "      <td>0.039523</td>\n",
              "      <td>0.837482</td>\n",
              "      <td>-0.022997</td>\n",
              "      <td>1.499226</td>\n",
              "      <td>18.421163</td>\n",
              "      <td>80.305906</td>\n",
              "      <td>20.562361</td>\n",
              "      <td>1</td>\n",
              "    </tr>\n",
              "    <tr>\n",
              "      <th>2</th>\n",
              "      <td>2</td>\n",
              "      <td>-0.717295</td>\n",
              "      <td>13.135771</td>\n",
              "      <td>-0.140948</td>\n",
              "      <td>1.012260</td>\n",
              "      <td>0.010870</td>\n",
              "      <td>3.379581</td>\n",
              "      <td>16.096035</td>\n",
              "      <td>7.636726</td>\n",
              "      <td>5.728496</td>\n",
              "      <td>1</td>\n",
              "    </tr>\n",
              "    <tr>\n",
              "      <th>3</th>\n",
              "      <td>3</td>\n",
              "      <td>1.121150</td>\n",
              "      <td>15.083161</td>\n",
              "      <td>0.026782</td>\n",
              "      <td>0.394586</td>\n",
              "      <td>-0.018426</td>\n",
              "      <td>1.937762</td>\n",
              "      <td>22.154348</td>\n",
              "      <td>25.245706</td>\n",
              "      <td>18.166619</td>\n",
              "      <td>1</td>\n",
              "    </tr>\n",
              "    <tr>\n",
              "      <th>4</th>\n",
              "      <td>4</td>\n",
              "      <td>0.587793</td>\n",
              "      <td>14.517350</td>\n",
              "      <td>-0.022323</td>\n",
              "      <td>0.667001</td>\n",
              "      <td>-0.018814</td>\n",
              "      <td>2.044764</td>\n",
              "      <td>14.362037</td>\n",
              "      <td>36.424020</td>\n",
              "      <td>7.093686</td>\n",
              "      <td>1</td>\n",
              "    </tr>\n",
              "  </tbody>\n",
              "</table>\n",
              "</div>"
            ],
            "text/plain": [
              "   case_id  delta_velocity  v_follower  delta_acceleration  a_follower  \\\n",
              "0        0       -0.585128   11.712142            0.047007    2.369844   \n",
              "1        1       -0.109332   14.526137            0.039523    0.837482   \n",
              "2        2       -0.717295   13.135771           -0.140948    1.012260   \n",
              "3        3        1.121150   15.083161            0.026782    0.394586   \n",
              "4        4        0.587793   14.517350           -0.022323    0.667001   \n",
              "\n",
              "   jerk_follower  time_headway  delta_position        TTC    TTC_min  cluster  \n",
              "0      -0.028677      1.697374        9.428864  61.144338  16.595543        1  \n",
              "1      -0.022997      1.499226       18.421163  80.305906  20.562361        1  \n",
              "2       0.010870      3.379581       16.096035   7.636726   5.728496        1  \n",
              "3      -0.018426      1.937762       22.154348  25.245706  18.166619        1  \n",
              "4      -0.018814      2.044764       14.362037  36.424020   7.093686        1  "
            ]
          },
          "execution_count": 10,
          "metadata": {},
          "output_type": "execute_result"
        }
      ],
      "source": [
        "# length of the labels\n",
        "print(len(labels))# LENGTH OF THE PCA DATA    \n",
        "print(len(pca_data))\n",
        "print(len(clustered_data))\n",
        "clustered_data.head()"
      ]
    },
    {
      "cell_type": "code",
      "execution_count": 12,
      "metadata": {},
      "outputs": [
        {
          "name": "stderr",
          "output_type": "stream",
          "text": [
            "Training Epochs:   2%|▏         | 2/100 [00:00<00:13,  7.14it/s]"
          ]
        },
        {
          "name": "stdout",
          "output_type": "stream",
          "text": [
            "Epoch: 0 Loss: 1.0207\n"
          ]
        },
        {
          "name": "stderr",
          "output_type": "stream",
          "text": [
            "Training Epochs:  12%|█▏        | 12/100 [00:01<00:13,  6.53it/s]"
          ]
        },
        {
          "name": "stdout",
          "output_type": "stream",
          "text": [
            "Epoch: 10 Loss: 1.0087\n"
          ]
        },
        {
          "name": "stderr",
          "output_type": "stream",
          "text": [
            "Training Epochs:  22%|██▏       | 22/100 [00:03<00:12,  6.16it/s]"
          ]
        },
        {
          "name": "stdout",
          "output_type": "stream",
          "text": [
            "Epoch: 20 Loss: 0.9993\n"
          ]
        },
        {
          "name": "stderr",
          "output_type": "stream",
          "text": [
            "Training Epochs:  32%|███▏      | 32/100 [00:05<00:10,  6.58it/s]"
          ]
        },
        {
          "name": "stdout",
          "output_type": "stream",
          "text": [
            "Epoch: 30 Loss: 0.9911\n"
          ]
        },
        {
          "name": "stderr",
          "output_type": "stream",
          "text": [
            "Training Epochs:  42%|████▏     | 42/100 [00:06<00:09,  6.13it/s]"
          ]
        },
        {
          "name": "stdout",
          "output_type": "stream",
          "text": [
            "Epoch: 40 Loss: 0.9825\n"
          ]
        },
        {
          "name": "stderr",
          "output_type": "stream",
          "text": [
            "Training Epochs:  52%|█████▏    | 52/100 [00:08<00:07,  6.42it/s]"
          ]
        },
        {
          "name": "stdout",
          "output_type": "stream",
          "text": [
            "Epoch: 50 Loss: 0.9736\n"
          ]
        },
        {
          "name": "stderr",
          "output_type": "stream",
          "text": [
            "Training Epochs:  62%|██████▏   | 62/100 [00:09<00:06,  6.23it/s]"
          ]
        },
        {
          "name": "stdout",
          "output_type": "stream",
          "text": [
            "Epoch: 60 Loss: 0.9657\n"
          ]
        },
        {
          "name": "stderr",
          "output_type": "stream",
          "text": [
            "Training Epochs:  72%|███████▏  | 72/100 [00:11<00:04,  6.36it/s]"
          ]
        },
        {
          "name": "stdout",
          "output_type": "stream",
          "text": [
            "Epoch: 70 Loss: 0.9596\n"
          ]
        },
        {
          "name": "stderr",
          "output_type": "stream",
          "text": [
            "Training Epochs:  82%|████████▏ | 82/100 [00:13<00:02,  6.51it/s]"
          ]
        },
        {
          "name": "stdout",
          "output_type": "stream",
          "text": [
            "Epoch: 80 Loss: 0.9554\n"
          ]
        },
        {
          "name": "stderr",
          "output_type": "stream",
          "text": [
            "Training Epochs:  92%|█████████▏| 92/100 [00:14<00:01,  6.63it/s]"
          ]
        },
        {
          "name": "stdout",
          "output_type": "stream",
          "text": [
            "Epoch: 90 Loss: 0.9521\n"
          ]
        },
        {
          "name": "stderr",
          "output_type": "stream",
          "text": [
            "Training Epochs: 100%|██████████| 100/100 [00:15<00:00,  6.32it/s]\n"
          ]
        },
        {
          "name": "stdout",
          "output_type": "stream",
          "text": [
            "MSE: 9420.06, RMSE: 97.06, MAE: 16.17\n"
          ]
        },
        {
          "name": "stderr",
          "output_type": "stream",
          "text": [
            "Training Epochs:  14%|█▍        | 14/100 [00:00<00:00, 139.29it/s]"
          ]
        },
        {
          "name": "stdout",
          "output_type": "stream",
          "text": [
            "Epoch: 0 Loss: 1.0694\n",
            "Epoch: 10 Loss: 1.0627\n",
            "Epoch: 20 Loss: 1.0587\n"
          ]
        },
        {
          "name": "stderr",
          "output_type": "stream",
          "text": [
            "Training Epochs:  55%|█████▌    | 55/100 [00:00<00:00, 127.02it/s]"
          ]
        },
        {
          "name": "stdout",
          "output_type": "stream",
          "text": [
            "Epoch: 30 Loss: 1.0557\n",
            "Epoch: 40 Loss: 1.0526\n",
            "Epoch: 50 Loss: 1.0492\n"
          ]
        },
        {
          "name": "stderr",
          "output_type": "stream",
          "text": [
            "Training Epochs:  83%|████████▎ | 83/100 [00:00<00:00, 131.44it/s]"
          ]
        },
        {
          "name": "stdout",
          "output_type": "stream",
          "text": [
            "Epoch: 60 Loss: 1.0455\n",
            "Epoch: 70 Loss: 1.0413\n",
            "Epoch: 80 Loss: 1.0366\n"
          ]
        },
        {
          "name": "stderr",
          "output_type": "stream",
          "text": [
            "Training Epochs: 100%|██████████| 100/100 [00:00<00:00, 130.27it/s]"
          ]
        },
        {
          "name": "stdout",
          "output_type": "stream",
          "text": [
            "Epoch: 90 Loss: 1.0311\n",
            "MSE: 102532.84, RMSE: 320.21, MAE: 91.32\n"
          ]
        },
        {
          "name": "stderr",
          "output_type": "stream",
          "text": [
            "\n"
          ]
        }
      ],
      "source": [
        "import torch\n",
        "import torch.nn as nn\n",
        "import torch.optim as optim\n",
        "import numpy as np\n",
        "import pandas as pd\n",
        "from sklearn.model_selection import train_test_split\n",
        "from sklearn.preprocessing import StandardScaler\n",
        "from sklearn.metrics import mean_squared_error, mean_absolute_error\n",
        "from tqdm import tqdm\n",
        "import math\n",
        "\n",
        "from src.LSTMModel import LSTMModel\n",
        "\n",
        "clustered_dataframes = {}\n",
        "for cluster_number in clustered_data['cluster'].unique():\n",
        "    clustered_dataframes[cluster_number] = clustered_data[clustered_data['cluster'] == cluster_number].drop(columns=['cluster', 'case_id'])\n",
        "\n",
        "def preprocess_data(df, n_steps_in, n_steps_out, test_size=0.2):\n",
        "    scaler = StandardScaler()\n",
        "    data_normalized = scaler.fit_transform(df)\n",
        "    X, y = create_sequences(data_normalized, n_steps_in, n_steps_out)\n",
        "    X_train, X_test, y_train, y_test = train_test_split(X, y, test_size=test_size, random_state=42)\n",
        "    return (\n",
        "        torch.tensor(X_train, dtype=torch.float32), torch.tensor(y_train, dtype=torch.float32),\n",
        "        torch.tensor(X_test, dtype=torch.float32), torch.tensor(y_test, dtype=torch.float32),\n",
        "        scaler\n",
        "    )\n",
        "\n",
        "def create_sequences(data, n_steps_in, n_steps_out):\n",
        "    X, y = [], []\n",
        "    for i in range(len(data)):\n",
        "        end_ix = i + n_steps_in\n",
        "        out_end_ix = end_ix + n_steps_out\n",
        "        if out_end_ix > len(data):\n",
        "            break\n",
        "        seq_x, seq_y = data[i:end_ix, :], data[end_ix:out_end_ix, :]\n",
        "        X.append(seq_x)\n",
        "        y.append(seq_y)\n",
        "    return np.array(X), np.array(y)\n",
        "\n",
        "def train_model(model, X_train_tensor, y_train_tensor, epochs, optimizer, loss_function):\n",
        "    for epoch in tqdm(range(epochs), desc='Training Epochs'):\n",
        "        model.train()\n",
        "        optimizer.zero_grad()\n",
        "        y_pred = model(X_train_tensor)\n",
        "        loss = loss_function(y_pred, y_train_tensor[:, 0, :])\n",
        "        loss.backward()\n",
        "        optimizer.step()\n",
        "        if epoch % 10 == 0:\n",
        "            tqdm.write(f'Epoch: {epoch} Loss: {loss.item():.4f}')\n",
        "\n",
        "def evaluate_model(model, X_test_tensor, y_test_tensor, scaler):\n",
        "    model.eval()\n",
        "    with torch.no_grad():\n",
        "        y_pred = model(X_test_tensor)\n",
        "        y_pred = y_pred.cpu().numpy()\n",
        "        y_pred_original = scaler.inverse_transform(y_pred)\n",
        "        y_test_original = scaler.inverse_transform(y_test_tensor.cpu().numpy()[:, 0, :])\n",
        "        mse = mean_squared_error(y_test_original, y_pred_original)\n",
        "        rmse = math.sqrt(mse)\n",
        "        mae = mean_absolute_error(y_test_original, y_pred_original)\n",
        "    print(f'MSE: {mse:.2f}, RMSE: {rmse:.2f}, MAE: {mae:.2f}')\n",
        "    return mse, rmse, mae\n",
        "\n",
        "models_scalers = {}\n",
        "n_steps_in, n_steps_out = 3, 1\n",
        "for cluster, cluster_df in clustered_dataframes.items():\n",
        "    X_train_tensor, y_train_tensor, X_test_tensor, y_test_tensor, scaler = preprocess_data(cluster_df, n_steps_in, n_steps_out)\n",
        "    model = LSTMModel(input_size=X_train_tensor.shape[2], hidden_layer_size=50, output_size=y_train_tensor.shape[2])\n",
        "    optimizer = optim.Adam(model.parameters(), lr=0.001)\n",
        "    loss_function = nn.MSELoss()\n",
        "    train_model(model, X_train_tensor, y_train_tensor, epochs=100, optimizer=optimizer, loss_function=loss_function)\n",
        "    mse, rmse, mae = evaluate_model(model, X_test_tensor, y_test_tensor, scaler)\n",
        "    models_scalers[cluster] = {'model': model, 'scaler': scaler, 'metrics': (mse, rmse, mae)}\n",
        "\n",
        "# Save the model and scaler if needed\n",
        "torch.save(models_scalers, '../models/H_models_scalers.pth')\n"
      ]
    },
    {
      "cell_type": "code",
      "execution_count": 13,
      "metadata": {},
      "outputs": [
        {
          "name": "stdout",
          "output_type": "stream",
          "text": [
            "data is\n",
            "        case_id  time    x_leader  x_follower   v_leader  v_follower  \\\n",
            "0             0   0.0    0.000000  -25.147708   9.650530   11.265286   \n",
            "1             0   0.1    0.965314  -24.020741   9.637913   11.227821   \n",
            "2             0   0.2    1.927417  -22.919688   9.627554   11.216660   \n",
            "3             0   0.3    2.888559  -21.803314   9.612102   11.199787   \n",
            "4             0   0.4    3.846600  -20.687172   9.583392   11.174766   \n",
            "...         ...   ...         ...         ...        ...         ...   \n",
            "825824     3054  23.5  165.161579  149.207930   9.843218    7.924927   \n",
            "825825     3054  23.6  166.152703  150.046628   9.837669    8.044549   \n",
            "825826     3054  23.7  167.139436  150.914139   9.891022    8.170020   \n",
            "825827     3054  23.8  168.141800  151.792010  10.036478    8.291918   \n",
            "825828     3054  23.9  169.155917  152.677066  10.126080    8.408294   \n",
            "\n",
            "        a_leader  a_follower  l_leader  l_follower  \n",
            "0      -0.452337   -0.219145      4.85     4.00000  \n",
            "1      -0.451993   -0.217278      4.85     4.00000  \n",
            "2      -0.444473   -0.215953      4.85     4.00000  \n",
            "3      -0.430552   -0.215393      4.85     4.00000  \n",
            "4      -0.410103   -0.215754      4.85     4.00000  \n",
            "...          ...         ...       ...         ...  \n",
            "825824  0.922902    1.223844      4.85     4.03305  \n",
            "825825  0.928067    1.219934      4.85     4.03305  \n",
            "825826  0.929220    1.207384      4.85     4.03305  \n",
            "825827  0.928676    1.190828      4.85     4.03305  \n",
            "825828  0.929696    1.174640      4.85     4.03305  \n",
            "\n",
            "[825829 rows x 10 columns]\n"
          ]
        }
      ],
      "source": [
        "# Evaluation dataset is used here to predict the next time step\n",
        "eval_df = convert_df(\"HA\", \"val\")\n"
      ]
    },
    {
      "cell_type": "code",
      "execution_count": 14,
      "metadata": {},
      "outputs": [
        {
          "data": {
            "text/html": [
              "<div>\n",
              "<style scoped>\n",
              "    .dataframe tbody tr th:only-of-type {\n",
              "        vertical-align: middle;\n",
              "    }\n",
              "\n",
              "    .dataframe tbody tr th {\n",
              "        vertical-align: top;\n",
              "    }\n",
              "\n",
              "    .dataframe thead th {\n",
              "        text-align: right;\n",
              "    }\n",
              "</style>\n",
              "<table border=\"1\" class=\"dataframe\">\n",
              "  <thead>\n",
              "    <tr style=\"text-align: right;\">\n",
              "      <th></th>\n",
              "      <th>delta_velocity</th>\n",
              "      <th>v_follower</th>\n",
              "      <th>delta_acceleration</th>\n",
              "      <th>a_follower</th>\n",
              "      <th>jerk_follower</th>\n",
              "      <th>time_headway</th>\n",
              "      <th>delta_position</th>\n",
              "      <th>TTC</th>\n",
              "      <th>TTC_min</th>\n",
              "    </tr>\n",
              "  </thead>\n",
              "  <tbody>\n",
              "    <tr>\n",
              "      <th>0</th>\n",
              "      <td>-0.112306</td>\n",
              "      <td>13.972906</td>\n",
              "      <td>-0.040953</td>\n",
              "      <td>0.913186</td>\n",
              "      <td>0.013031</td>\n",
              "      <td>2.296439</td>\n",
              "      <td>22.095424</td>\n",
              "      <td>124.803687</td>\n",
              "      <td>11.794680</td>\n",
              "    </tr>\n",
              "    <tr>\n",
              "      <th>1</th>\n",
              "      <td>1.577983</td>\n",
              "      <td>12.061164</td>\n",
              "      <td>-0.035401</td>\n",
              "      <td>0.162992</td>\n",
              "      <td>0.013574</td>\n",
              "      <td>3.225179</td>\n",
              "      <td>8.866747</td>\n",
              "      <td>18.864220</td>\n",
              "      <td>3.197740</td>\n",
              "    </tr>\n",
              "    <tr>\n",
              "      <th>2</th>\n",
              "      <td>-0.274519</td>\n",
              "      <td>12.536280</td>\n",
              "      <td>-0.004253</td>\n",
              "      <td>3.739273</td>\n",
              "      <td>-0.047253</td>\n",
              "      <td>1.156909</td>\n",
              "      <td>9.121510</td>\n",
              "      <td>85.516191</td>\n",
              "      <td>7.427292</td>\n",
              "    </tr>\n",
              "  </tbody>\n",
              "</table>\n",
              "</div>"
            ],
            "text/plain": [
              "   delta_velocity  v_follower  delta_acceleration  a_follower  jerk_follower  \\\n",
              "0       -0.112306   13.972906           -0.040953    0.913186       0.013031   \n",
              "1        1.577983   12.061164           -0.035401    0.162992       0.013574   \n",
              "2       -0.274519   12.536280           -0.004253    3.739273      -0.047253   \n",
              "\n",
              "   time_headway  delta_position         TTC    TTC_min  \n",
              "0      2.296439       22.095424  124.803687  11.794680  \n",
              "1      3.225179        8.866747   18.864220   3.197740  \n",
              "2      1.156909        9.121510   85.516191   7.427292  "
            ]
          },
          "execution_count": 14,
          "metadata": {},
          "output_type": "execute_result"
        }
      ],
      "source": [
        "# this is the initial input for the model, the minimum sequence length is 3 so at least 3 rows are needed\n",
        "eval_df = eval_df.head(3)\n",
        "eval_df = eval_df.drop(columns=['case_id'])\n",
        "\n",
        "eval_df\n"
      ]
    },
    {
      "cell_type": "code",
      "execution_count": 15,
      "metadata": {},
      "outputs": [
        {
          "name": "stderr",
          "output_type": "stream",
          "text": [
            "/home/tom/.local/share/virtualenvs/car-following-project-UTHu64Qq/lib/python3.11/site-packages/sklearn/base.py:465: UserWarning: X does not have valid feature names, but StandardScaler was fitted with feature names\n",
            "  warnings.warn(\n"
          ]
        },
        {
          "data": {
            "text/plain": [
              "array([0.00618792], dtype=float32)"
            ]
          },
          "execution_count": 15,
          "metadata": {},
          "output_type": "execute_result"
        }
      ],
      "source": [
        "import torch\n",
        "import pandas as pd\n",
        "import numpy as np\n",
        "from sklearn.preprocessing import StandardScaler\n",
        "\n",
        "def preprocess_new_data(new_data, scaler, n_steps_in):\n",
        "    data_scaled = scaler.transform(new_data)\n",
        "    X_new = []\n",
        "    for i in range(len(data_scaled) - n_steps_in + 1):\n",
        "        X_new.append(data_scaled[i:i + n_steps_in, :])\n",
        "    return np.array(X_new)\n",
        "\n",
        "def predict_delta_acceleration(eval_df, models_scalers, cluster_number=1, n_steps_in=3, delta_acceleration_index=2):\n",
        "    \"\"\"\n",
        "    Predicts the delta acceleration of a car using an LSTM model trained on car-following data.\n",
        "\n",
        "    Parameters:\n",
        "    eval_df (pandas.DataFrame): The input data to predict on.\n",
        "    models_scalers (dict): A dictionary containing the trained models and scalers for each cluster.\n",
        "    cluster_number (int): The cluster number to use for prediction.\n",
        "    n_steps_in (int): The number of time steps to use as input for the LSTM model.\n",
        "    delta_acceleration_index (int): The index of the delta acceleration column in the output.\n",
        "\n",
        "    Returns:\n",
        "    float: The predicted delta acceleration.\n",
        "    \"\"\"\n",
        "    \n",
        "\n",
        "    # Load the scaler for the cluster\n",
        "    scaler = models_scalers[cluster_number]['scaler']\n",
        "\n",
        "    # Prepare the input data for prediction\n",
        "    X_new_prepared = preprocess_new_data(eval_df.values, scaler, n_steps_in)\n",
        "    X_new_tensor = torch.tensor(X_new_prepared, dtype=torch.float32)\n",
        "\n",
        "    # Load the model for the cluster\n",
        "    model = models_scalers[cluster_number]['model']\n",
        "\n",
        "    # Predict using the model\n",
        "    model.eval()\n",
        "    with torch.no_grad():\n",
        "        y_new_pred_tensor = model(X_new_tensor)\n",
        "        y_new_pred = y_new_pred_tensor.numpy()\n",
        "\n",
        "    # Inverse transform the predictions to the original scale\n",
        "    y_new_pred_original = scaler.inverse_transform(y_new_pred)\n",
        "\n",
        "    # Extract the denormalized delta_acceleration values\n",
        "    delta_acceleration_pred_original = y_new_pred_original[:, delta_acceleration_index]\n",
        "\n",
        "    # Return the predicted delta acceleration\n",
        "    return delta_acceleration_pred_original\n",
        "\n",
        "# Load the model from the saved models_cales.pth file\n",
        "models_scalers = torch.load('../models/H_models_scalers.pth')\n",
        "\n",
        "# Predict the delta acceleration for the eval_df dataframe\n",
        "cluster_number = 1\n",
        "delta_acceleration_pred = predict_delta_acceleration(eval_df, models_scalers, cluster_number)\n",
        "delta_acceleration_pred"
      ]
    }
  ],
  "metadata": {
    "kernelspec": {
      "display_name": "car-following-project--ZycwsGt",
      "language": "python",
      "name": "python3"
    },
    "language_info": {
      "codemirror_mode": {
        "name": "ipython",
        "version": 3
      },
      "file_extension": ".py",
      "mimetype": "text/x-python",
      "name": "python",
      "nbconvert_exporter": "python",
      "pygments_lexer": "ipython3",
      "version": "3.11.4"
    }
  },
  "nbformat": 4,
  "nbformat_minor": 2
}
