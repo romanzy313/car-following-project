{
 "cells": [
  {
   "cell_type": "code",
   "execution_count": 1,
   "metadata": {},
   "outputs": [],
   "source": [
    "import pandas as pd\n",
    "from read_data import read_data\n",
    "import numpy as np\n",
    "\n",
    "def compute_delta_metrics(data):\n",
    "    \"\"\"\n",
    "    Computes additional metrics for the dataset:\n",
    "    - Delta Position: Leader's position minus Follower's position.\n",
    "    - Delta Velocity: Leader's velocity minus Follower's velocity.\n",
    "    - Delta Acceleration: Leader's acceleration minus Follower's acceleration.\n",
    "    - Time-To-Collision (TTC): Delta Position divided by Delta Velocity.\n",
    "    \"\"\"\n",
    "    data[\"delta_position\"] = data[\"x_leader\"] - data[\"x_follower\"]\n",
    "    data[\"delta_velocity\"] = data[\"v_follower\"] - data[\"v_leader\"]\n",
    "    data[\"delta_acceleration\"] = data[\"a_follower\"] - data[\"a_leader\"]\n",
    "    data[\"TTC\"] = data[\"delta_position\"] / data[\"delta_velocity\"]\n",
    "    data.loc[data[\"TTC\"] < 0, \"TTC\"] = np.nan\n",
    "    data['time_headway'] = data['delta_position'] / data['v_follower']\n",
    "    data['TTC_min'] = data['TTC']\n",
    "\n",
    "    # Calculate jerk for the follower vehicle\n",
    "    data['jerk_follower'] = np.gradient(data['a_follower'], data['time'])\n",
    "    return data\n",
    "\n",
    "def aggregate_data_by_case(data):\n",
    "    \"\"\"\n",
    "    Aggregates the dataset by 'case_id' to find the max and min \n",
    "    of each delta metric and TTC for each case.\n",
    "    Renames columns for clarity and adds case_id as a column.\n",
    "    \"\"\"\n",
    "    aggr_data = data.groupby('case_id').agg({'delta_velocity':'mean',\n",
    "                           'v_follower':'max',\n",
    "                           'delta_acceleration':'mean',\n",
    "                           'a_follower':'max',\n",
    "                           'jerk_follower':'mean',\n",
    "                           'time_headway':'median',\n",
    "                           'delta_position':'min',\n",
    "                           'TTC':'median',\n",
    "                           'TTC_min':'min'}).reset_index()\n",
    "\n",
    "    return aggr_data\n",
    "\n",
    "def adjust_ttc_sign(aggregated_data):\n",
    "    \"\"\"\n",
    "    Ensures TTC (Time-To-Collision) is non-negative by taking the absolute value.\n",
    "    \"\"\"\n",
    "    aggregated_data[\"TTC\"] = aggregated_data[\"TTC\"].abs()\n",
    "    aggregated_data[\"TTC_min\"] = aggregated_data[\"TTC_min\"].abs()\n",
    "    return aggregated_data\n",
    "\n",
    "def convert_df(dataset: str, mode: str):\n",
    "    \"\"\"\n",
    "    Main function that utilizes the above helper functions to preprocess the data.\n",
    "    Returns a DataFrame grouped by 'case_id' with max and min values of\n",
    "    delta position, delta velocity, delta acceleration, and TTC (Time-To-Collision).\n",
    "    \"\"\"\n",
    "    data = read_data(dataset, mode)\n",
    "    data = compute_delta_metrics(data)\n",
    "    aggregated_data = aggregate_data_by_case(data)\n",
    "    aggregated_data = adjust_ttc_sign(aggregated_data)\n",
    "    return aggregated_data\n",
    "\n"
   ]
  },
  {
   "cell_type": "code",
   "execution_count": 2,
   "metadata": {},
   "outputs": [
    {
     "data": {
      "text/html": [
       "<div>\n",
       "<style scoped>\n",
       "    .dataframe tbody tr th:only-of-type {\n",
       "        vertical-align: middle;\n",
       "    }\n",
       "\n",
       "    .dataframe tbody tr th {\n",
       "        vertical-align: top;\n",
       "    }\n",
       "\n",
       "    .dataframe thead th {\n",
       "        text-align: right;\n",
       "    }\n",
       "</style>\n",
       "<table border=\"1\" class=\"dataframe\">\n",
       "  <thead>\n",
       "    <tr style=\"text-align: right;\">\n",
       "      <th></th>\n",
       "      <th>case_id</th>\n",
       "      <th>delta_velocity</th>\n",
       "      <th>v_follower</th>\n",
       "      <th>delta_acceleration</th>\n",
       "      <th>a_follower</th>\n",
       "      <th>jerk_follower</th>\n",
       "      <th>time_headway</th>\n",
       "      <th>delta_position</th>\n",
       "      <th>TTC</th>\n",
       "      <th>TTC_min</th>\n",
       "    </tr>\n",
       "  </thead>\n",
       "  <tbody>\n",
       "    <tr>\n",
       "      <th>0</th>\n",
       "      <td>0</td>\n",
       "      <td>-0.585128</td>\n",
       "      <td>11.712142</td>\n",
       "      <td>0.047007</td>\n",
       "      <td>2.369844</td>\n",
       "      <td>-0.028677</td>\n",
       "      <td>1.697374</td>\n",
       "      <td>9.428864</td>\n",
       "      <td>61.144338</td>\n",
       "      <td>16.595543</td>\n",
       "    </tr>\n",
       "    <tr>\n",
       "      <th>1</th>\n",
       "      <td>1</td>\n",
       "      <td>-0.109332</td>\n",
       "      <td>14.526137</td>\n",
       "      <td>0.039523</td>\n",
       "      <td>0.837482</td>\n",
       "      <td>-0.022997</td>\n",
       "      <td>1.499226</td>\n",
       "      <td>18.421163</td>\n",
       "      <td>80.305906</td>\n",
       "      <td>20.562361</td>\n",
       "    </tr>\n",
       "    <tr>\n",
       "      <th>2</th>\n",
       "      <td>2</td>\n",
       "      <td>-0.717295</td>\n",
       "      <td>13.135771</td>\n",
       "      <td>-0.140948</td>\n",
       "      <td>1.012260</td>\n",
       "      <td>0.010870</td>\n",
       "      <td>3.379581</td>\n",
       "      <td>16.096035</td>\n",
       "      <td>7.636726</td>\n",
       "      <td>5.728496</td>\n",
       "    </tr>\n",
       "    <tr>\n",
       "      <th>3</th>\n",
       "      <td>3</td>\n",
       "      <td>1.121150</td>\n",
       "      <td>15.083161</td>\n",
       "      <td>0.026782</td>\n",
       "      <td>0.394586</td>\n",
       "      <td>-0.018426</td>\n",
       "      <td>1.937762</td>\n",
       "      <td>22.154348</td>\n",
       "      <td>25.245706</td>\n",
       "      <td>18.166619</td>\n",
       "    </tr>\n",
       "    <tr>\n",
       "      <th>4</th>\n",
       "      <td>4</td>\n",
       "      <td>0.587793</td>\n",
       "      <td>14.517350</td>\n",
       "      <td>-0.022323</td>\n",
       "      <td>0.667001</td>\n",
       "      <td>-0.018814</td>\n",
       "      <td>2.044764</td>\n",
       "      <td>14.362037</td>\n",
       "      <td>36.424020</td>\n",
       "      <td>7.093686</td>\n",
       "    </tr>\n",
       "    <tr>\n",
       "      <th>...</th>\n",
       "      <td>...</td>\n",
       "      <td>...</td>\n",
       "      <td>...</td>\n",
       "      <td>...</td>\n",
       "      <td>...</td>\n",
       "      <td>...</td>\n",
       "      <td>...</td>\n",
       "      <td>...</td>\n",
       "      <td>...</td>\n",
       "      <td>...</td>\n",
       "    </tr>\n",
       "    <tr>\n",
       "      <th>495</th>\n",
       "      <td>495</td>\n",
       "      <td>0.197079</td>\n",
       "      <td>14.385285</td>\n",
       "      <td>-0.088729</td>\n",
       "      <td>0.305779</td>\n",
       "      <td>-0.006375</td>\n",
       "      <td>2.179975</td>\n",
       "      <td>27.189289</td>\n",
       "      <td>59.974457</td>\n",
       "      <td>29.818995</td>\n",
       "    </tr>\n",
       "    <tr>\n",
       "      <th>496</th>\n",
       "      <td>496</td>\n",
       "      <td>1.227572</td>\n",
       "      <td>12.163433</td>\n",
       "      <td>-0.068099</td>\n",
       "      <td>0.397671</td>\n",
       "      <td>0.018117</td>\n",
       "      <td>2.446065</td>\n",
       "      <td>6.359919</td>\n",
       "      <td>11.324800</td>\n",
       "      <td>3.282347</td>\n",
       "    </tr>\n",
       "    <tr>\n",
       "      <th>497</th>\n",
       "      <td>497</td>\n",
       "      <td>0.317125</td>\n",
       "      <td>14.519390</td>\n",
       "      <td>-0.096140</td>\n",
       "      <td>1.157213</td>\n",
       "      <td>-0.019941</td>\n",
       "      <td>1.829167</td>\n",
       "      <td>17.585190</td>\n",
       "      <td>29.175127</td>\n",
       "      <td>7.392851</td>\n",
       "    </tr>\n",
       "    <tr>\n",
       "      <th>498</th>\n",
       "      <td>498</td>\n",
       "      <td>0.278913</td>\n",
       "      <td>14.095021</td>\n",
       "      <td>-0.065379</td>\n",
       "      <td>0.344991</td>\n",
       "      <td>-0.036504</td>\n",
       "      <td>1.402545</td>\n",
       "      <td>15.717958</td>\n",
       "      <td>33.327711</td>\n",
       "      <td>16.101418</td>\n",
       "    </tr>\n",
       "    <tr>\n",
       "      <th>499</th>\n",
       "      <td>499</td>\n",
       "      <td>0.248270</td>\n",
       "      <td>10.806744</td>\n",
       "      <td>0.091435</td>\n",
       "      <td>1.267526</td>\n",
       "      <td>-0.038707</td>\n",
       "      <td>2.446420</td>\n",
       "      <td>14.270447</td>\n",
       "      <td>16.262830</td>\n",
       "      <td>6.070137</td>\n",
       "    </tr>\n",
       "  </tbody>\n",
       "</table>\n",
       "<p>500 rows × 10 columns</p>\n",
       "</div>"
      ],
      "text/plain": [
       "     case_id  delta_velocity  v_follower  delta_acceleration  a_follower  \\\n",
       "0          0       -0.585128   11.712142            0.047007    2.369844   \n",
       "1          1       -0.109332   14.526137            0.039523    0.837482   \n",
       "2          2       -0.717295   13.135771           -0.140948    1.012260   \n",
       "3          3        1.121150   15.083161            0.026782    0.394586   \n",
       "4          4        0.587793   14.517350           -0.022323    0.667001   \n",
       "..       ...             ...         ...                 ...         ...   \n",
       "495      495        0.197079   14.385285           -0.088729    0.305779   \n",
       "496      496        1.227572   12.163433           -0.068099    0.397671   \n",
       "497      497        0.317125   14.519390           -0.096140    1.157213   \n",
       "498      498        0.278913   14.095021           -0.065379    0.344991   \n",
       "499      499        0.248270   10.806744            0.091435    1.267526   \n",
       "\n",
       "     jerk_follower  time_headway  delta_position        TTC    TTC_min  \n",
       "0        -0.028677      1.697374        9.428864  61.144338  16.595543  \n",
       "1        -0.022997      1.499226       18.421163  80.305906  20.562361  \n",
       "2         0.010870      3.379581       16.096035   7.636726   5.728496  \n",
       "3        -0.018426      1.937762       22.154348  25.245706  18.166619  \n",
       "4        -0.018814      2.044764       14.362037  36.424020   7.093686  \n",
       "..             ...           ...             ...        ...        ...  \n",
       "495      -0.006375      2.179975       27.189289  59.974457  29.818995  \n",
       "496       0.018117      2.446065        6.359919  11.324800   3.282347  \n",
       "497      -0.019941      1.829167       17.585190  29.175127   7.392851  \n",
       "498      -0.036504      1.402545       15.717958  33.327711  16.101418  \n",
       "499      -0.038707      2.446420       14.270447  16.262830   6.070137  \n",
       "\n",
       "[500 rows x 10 columns]"
      ]
     },
     "execution_count": 2,
     "metadata": {},
     "output_type": "execute_result"
    }
   ],
   "source": [
    "trainHA = convert_df(\"HA\", \"train\")\n",
    "trainHA.head(500)"
   ]
  },
  {
   "cell_type": "code",
   "execution_count": 3,
   "metadata": {},
   "outputs": [
    {
     "name": "stdout",
     "output_type": "stream",
     "text": [
      "26394\n"
     ]
    }
   ],
   "source": [
    "selected_features = trainHA\n",
    "#print selected_features length\n",
    "print(len(selected_features))\n",
    "\n",
    "\n",
    "\n"
   ]
  },
  {
   "cell_type": "code",
   "execution_count": 4,
   "metadata": {},
   "outputs": [
    {
     "name": "stderr",
     "output_type": "stream",
     "text": [
      "c:\\miniconda3\\envs\\project\\Lib\\site-packages\\sklearn\\utils\\validation.py:767: FutureWarning: is_sparse is deprecated and will be removed in a future version. Check `isinstance(dtype, pd.SparseDtype)` instead.\n",
      "  if not hasattr(array, \"sparse\") and array.dtypes.apply(is_sparse).any():\n",
      "c:\\miniconda3\\envs\\project\\Lib\\site-packages\\sklearn\\utils\\validation.py:605: FutureWarning: is_sparse is deprecated and will be removed in a future version. Check `isinstance(dtype, pd.SparseDtype)` instead.\n",
      "  if is_sparse(pd_dtype):\n",
      "c:\\miniconda3\\envs\\project\\Lib\\site-packages\\sklearn\\utils\\validation.py:614: FutureWarning: is_sparse is deprecated and will be removed in a future version. Check `isinstance(dtype, pd.SparseDtype)` instead.\n",
      "  if is_sparse(pd_dtype) or not is_extension_array_dtype(pd_dtype):\n",
      "c:\\miniconda3\\envs\\project\\Lib\\site-packages\\sklearn\\utils\\validation.py:767: FutureWarning: is_sparse is deprecated and will be removed in a future version. Check `isinstance(dtype, pd.SparseDtype)` instead.\n",
      "  if not hasattr(array, \"sparse\") and array.dtypes.apply(is_sparse).any():\n",
      "c:\\miniconda3\\envs\\project\\Lib\\site-packages\\sklearn\\utils\\validation.py:605: FutureWarning: is_sparse is deprecated and will be removed in a future version. Check `isinstance(dtype, pd.SparseDtype)` instead.\n",
      "  if is_sparse(pd_dtype):\n",
      "c:\\miniconda3\\envs\\project\\Lib\\site-packages\\sklearn\\utils\\validation.py:614: FutureWarning: is_sparse is deprecated and will be removed in a future version. Check `isinstance(dtype, pd.SparseDtype)` instead.\n",
      "  if is_sparse(pd_dtype) or not is_extension_array_dtype(pd_dtype):\n",
      "c:\\miniconda3\\envs\\project\\Lib\\site-packages\\sklearn\\cluster\\_kmeans.py:870: FutureWarning: The default value of `n_init` will change from 10 to 'auto' in 1.4. Set the value of `n_init` explicitly to suppress the warning\n",
      "  warnings.warn(\n",
      "c:\\miniconda3\\envs\\project\\Lib\\site-packages\\sklearn\\cluster\\_kmeans.py:870: FutureWarning: The default value of `n_init` will change from 10 to 'auto' in 1.4. Set the value of `n_init` explicitly to suppress the warning\n",
      "  warnings.warn(\n",
      "c:\\miniconda3\\envs\\project\\Lib\\site-packages\\sklearn\\cluster\\_kmeans.py:870: FutureWarning: The default value of `n_init` will change from 10 to 'auto' in 1.4. Set the value of `n_init` explicitly to suppress the warning\n",
      "  warnings.warn(\n",
      "c:\\miniconda3\\envs\\project\\Lib\\site-packages\\sklearn\\cluster\\_kmeans.py:870: FutureWarning: The default value of `n_init` will change from 10 to 'auto' in 1.4. Set the value of `n_init` explicitly to suppress the warning\n",
      "  warnings.warn(\n",
      "c:\\miniconda3\\envs\\project\\Lib\\site-packages\\sklearn\\cluster\\_kmeans.py:870: FutureWarning: The default value of `n_init` will change from 10 to 'auto' in 1.4. Set the value of `n_init` explicitly to suppress the warning\n",
      "  warnings.warn(\n",
      "c:\\miniconda3\\envs\\project\\Lib\\site-packages\\sklearn\\cluster\\_kmeans.py:870: FutureWarning: The default value of `n_init` will change from 10 to 'auto' in 1.4. Set the value of `n_init` explicitly to suppress the warning\n",
      "  warnings.warn(\n",
      "c:\\miniconda3\\envs\\project\\Lib\\site-packages\\sklearn\\cluster\\_kmeans.py:870: FutureWarning: The default value of `n_init` will change from 10 to 'auto' in 1.4. Set the value of `n_init` explicitly to suppress the warning\n",
      "  warnings.warn(\n",
      "c:\\miniconda3\\envs\\project\\Lib\\site-packages\\sklearn\\cluster\\_kmeans.py:870: FutureWarning: The default value of `n_init` will change from 10 to 'auto' in 1.4. Set the value of `n_init` explicitly to suppress the warning\n",
      "  warnings.warn(\n",
      "c:\\miniconda3\\envs\\project\\Lib\\site-packages\\sklearn\\cluster\\_kmeans.py:870: FutureWarning: The default value of `n_init` will change from 10 to 'auto' in 1.4. Set the value of `n_init` explicitly to suppress the warning\n",
      "  warnings.warn(\n",
      "c:\\miniconda3\\envs\\project\\Lib\\site-packages\\sklearn\\cluster\\_kmeans.py:870: FutureWarning: The default value of `n_init` will change from 10 to 'auto' in 1.4. Set the value of `n_init` explicitly to suppress the warning\n",
      "  warnings.warn(\n"
     ]
    },
    {
     "data": {
      "image/png": "[encoded data removed]",
      "text/plain": [
       "<Figure size 640x480 with 1 Axes>"
      ]
     },
     "metadata": {},
     "output_type": "display_data"
    },
    {
     "data": {
      "image/png": "[encoded data removed]",
      "text/plain": [
       "<Figure size 640x480 with 1 Axes>"
      ]
     },
     "metadata": {},
     "output_type": "display_data"
    },
    {
     "name": "stderr",
     "output_type": "stream",
     "text": [
      "c:\\miniconda3\\envs\\project\\Lib\\site-packages\\sklearn\\utils\\validation.py:767: FutureWarning: is_sparse is deprecated and will be removed in a future version. Check `isinstance(dtype, pd.SparseDtype)` instead.\n",
      "  if not hasattr(array, \"sparse\") and array.dtypes.apply(is_sparse).any():\n",
      "c:\\miniconda3\\envs\\project\\Lib\\site-packages\\sklearn\\utils\\validation.py:605: FutureWarning: is_sparse is deprecated and will be removed in a future version. Check `isinstance(dtype, pd.SparseDtype)` instead.\n",
      "  if is_sparse(pd_dtype):\n",
      "c:\\miniconda3\\envs\\project\\Lib\\site-packages\\sklearn\\utils\\validation.py:614: FutureWarning: is_sparse is deprecated and will be removed in a future version. Check `isinstance(dtype, pd.SparseDtype)` instead.\n",
      "  if is_sparse(pd_dtype) or not is_extension_array_dtype(pd_dtype):\n",
      "c:\\miniconda3\\envs\\project\\Lib\\site-packages\\sklearn\\utils\\validation.py:767: FutureWarning: is_sparse is deprecated and will be removed in a future version. Check `isinstance(dtype, pd.SparseDtype)` instead.\n",
      "  if not hasattr(array, \"sparse\") and array.dtypes.apply(is_sparse).any():\n",
      "c:\\miniconda3\\envs\\project\\Lib\\site-packages\\sklearn\\utils\\validation.py:605: FutureWarning: is_sparse is deprecated and will be removed in a future version. Check `isinstance(dtype, pd.SparseDtype)` instead.\n",
      "  if is_sparse(pd_dtype):\n",
      "c:\\miniconda3\\envs\\project\\Lib\\site-packages\\sklearn\\utils\\validation.py:614: FutureWarning: is_sparse is deprecated and will be removed in a future version. Check `isinstance(dtype, pd.SparseDtype)` instead.\n",
      "  if is_sparse(pd_dtype) or not is_extension_array_dtype(pd_dtype):\n",
      "c:\\miniconda3\\envs\\project\\Lib\\site-packages\\sklearn\\cluster\\_kmeans.py:870: FutureWarning: The default value of `n_init` will change from 10 to 'auto' in 1.4. Set the value of `n_init` explicitly to suppress the warning\n",
      "  warnings.warn(\n"
     ]
    },
    {
     "data": {
      "image/png": "[encoded data removed]",
      "text/plain": [
       "<Figure size 640x480 with 1 Axes>"
      ]
     },
     "metadata": {},
     "output_type": "display_data"
    },
    {
     "name": "stdout",
     "output_type": "stream",
     "text": [
      "The average silhouette_score is: 0.387634585168151\n"
     ]
    }
   ],
   "source": [
    "import numpy as np\n",
    "import pandas as pd\n",
    "from sklearn.preprocessing import StandardScaler\n",
    "from sklearn.cluster import KMeans\n",
    "from sklearn.decomposition import PCA\n",
    "from sklearn.metrics import silhouette_score\n",
    "import matplotlib.pyplot as plt\n",
    "from mpl_toolkits.mplot3d import Axes3D\n",
    "\n",
    "def normalize_and_cluster(features, n_clusters=3, apply_pca=False):\n",
    "    \"\"\"\n",
    "    Normalize the given feature dataframe, apply PCA if requested,\n",
    "    and perform KMeans clustering on the data.\n",
    "    \n",
    "    Args:\n",
    "    - features (pd.DataFrame): The dataframe to normalize and cluster.\n",
    "    - n_clusters (int): Number of clusters.\n",
    "    - apply_pca (bool): Apply PCA if True.\n",
    "    \n",
    "    Returns:\n",
    "    - tuple: The normalized data, PCA applied data (if requested), and cluster labels.\n",
    "    \"\"\"\n",
    "    # Normalize data\n",
    "    scaler = StandardScaler()\n",
    "    features_numeric = features.select_dtypes(include=np.number).dropna()\n",
    "    normalized_data = scaler.fit_transform(features_numeric)\n",
    "    \n",
    "    # Apply PCA\n",
    "    pca_data = None\n",
    "    if apply_pca:\n",
    "        pca = PCA(n_components=2)\n",
    "        pca_data = pca.fit_transform(normalized_data)\n",
    "        data_to_cluster = pca_data\n",
    "    else:\n",
    "        data_to_cluster = normalized_data\n",
    "    \n",
    "    # Perform KMeans Clustering\n",
    "    kmeans = KMeans(n_clusters=n_clusters, random_state=42)\n",
    "    labels = kmeans.fit_predict(data_to_cluster)\n",
    "    features_numeric['cluster'] = labels\n",
    "    \n",
    "    return normalized_data, pca_data, labels, features_numeric\n",
    "\n",
    "def plot_results(features, labels, pca_data=None):\n",
    "    \"\"\"\n",
    "    Plot the results of the KMeans clustering, using PCA data if provided.\n",
    "    \n",
    "    Args:\n",
    "    - features (pd.DataFrame): The feature dataframe.\n",
    "    - labels (np.array): The cluster labels.\n",
    "    - pca_data (np.array): The PCA applied data (if PCA was applied).\n",
    "    \"\"\"\n",
    "    if pca_data is not None:\n",
    "        plt.scatter(pca_data[:, 0], pca_data[:, 1], c=labels, cmap='viridis')\n",
    "        plt.xlabel('PCA 1')\n",
    "        plt.ylabel('PCA 2')\n",
    "        plt.title('K-Means Clustering with PCA')\n",
    "    else:\n",
    "        fig = plt.figure(figsize=(15, 7))\n",
    "        ax1 = fig.add_subplot(121, projection='3d')\n",
    "        scatter1 = ax1.scatter(features['TTC'], \n",
    "                               features['time_headway'], \n",
    "                               features['delta_velocity'], \n",
    "                               c=labels, \n",
    "                               cmap='viridis', \n",
    "                               s=50)\n",
    "        ax1.set_xlabel('TTC')\n",
    "        ax1.set_ylabel('Time Headway')\n",
    "        ax1.set_zlabel('Delta Velocity')\n",
    "        ax1.set_title('K-Means Clustering Results')\n",
    "        legend1 = ax1.legend(*scatter1.legend_elements(), title=\"Clusters\")\n",
    "        ax1.add_artist(legend1)\n",
    "    \n",
    "    plt.show()\n",
    "\n",
    "def find_optimal_clusters(data, max_clusters=10):\n",
    "    \"\"\"\n",
    "    Find the optimal number of clusters using the elbow method and silhouette score.\n",
    "    \n",
    "    Args:\n",
    "    - data (np.array): The data to find the optimal clusters for.\n",
    "    - max_clusters (int): The maximum number of clusters to test.\n",
    "    \n",
    "    Returns:\n",
    "    - int: The optimal number of clusters based on the elbow method and silhouette score.\n",
    "    \"\"\"\n",
    "    inertia_list = []\n",
    "    silhouette_scores = []\n",
    "    for n_clusters in range(2, max_clusters+1):\n",
    "        kmeans = KMeans(n_clusters=n_clusters, random_state=42)\n",
    "        labels = kmeans.fit_predict(data)\n",
    "        inertia_list.append(kmeans.inertia_)\n",
    "        silhouette_scores.append(silhouette_score(data, labels))\n",
    "\n",
    "    # Elbow Method Plot\n",
    "    plt.plot(range(2, max_clusters+1), inertia_list, 'o-')\n",
    "    plt.xlabel('Number of Clusters')\n",
    "    plt.ylabel('Inertia')\n",
    "    plt.title('Elbow Method')\n",
    "    plt.show()\n",
    "    \n",
    "    # Silhouette Score Plot\n",
    "    plt.plot(range(2, max_clusters+1), silhouette_scores, 'o-')\n",
    "    plt.xlabel('Number of Clusters')\n",
    "    plt.ylabel('Silhouette Score')\n",
    "    plt.title('Silhouette Scores for Various Clusters')\n",
    "    plt.show()\n",
    "    \n",
    "    # Assuming the elbow is at the cluster number with the highest silhouette score\n",
    "    optimal_clusters = np.argmax(silhouette_scores) + 2  # +2 because range starts from 2\n",
    "    \n",
    "    return optimal_clusters\n",
    "\n",
    "# Usage\n",
    "selected_features = trainHA  # assuming this is a predefined dataframe\n",
    "\n",
    "# Finding optimal number of clusters\n",
    "normalized_data, _, _, _ = normalize_and_cluster(selected_features, apply_pca=True)\n",
    "optimal_clusters = find_optimal_clusters(normalized_data)\n",
    "\n",
    "# Clustering and plotting\n",
    "_, pca_data, labels, clustered_data = normalize_and_cluster(selected_features, n_clusters=optimal_clusters, apply_pca=True)\n",
    "plot_results(selected_features, labels, pca_data)\n",
    "\n",
    "# Computing the average silhouette score\n",
    "silhouette_avg = silhouette_score(pca_data, labels)\n",
    "print(\"The average silhouette_score is:\", silhouette_avg)\n"
   ]
  },
  {
   "cell_type": "code",
   "execution_count": 5,
   "metadata": {},
   "outputs": [
    {
     "name": "stdout",
     "output_type": "stream",
     "text": [
      "   case_id  time  x_leader  x_follower  v_leader  v_follower  a_leader  \\\n",
      "0        0   0.0  0.000000   -9.428864  2.629775    0.784441  1.315692   \n",
      "1        0   0.1  0.263154   -9.341833  2.665530    0.810204  1.348330   \n",
      "2        0   0.2  0.535099   -9.265412  2.776808    0.828016  1.407345   \n",
      "3        0   0.3  0.828920   -9.107064  2.966034    0.889182  1.482459   \n",
      "4        0   0.4  1.147062   -8.933068  3.168645    0.979196  1.552755   \n",
      "\n",
      "   a_follower  l_leader  l_follower  delta_position  delta_velocity  \\\n",
      "0    0.831906      4.85         4.0        9.428864       -1.845334   \n",
      "1    0.848821      4.85         4.0        9.604988       -1.855325   \n",
      "2    0.875646      4.85         4.0        9.800511       -1.948792   \n",
      "3    0.910850      4.85         4.0        9.935984       -2.076852   \n",
      "4    0.954763      4.85         4.0       10.080130       -2.189449   \n",
      "\n",
      "   delta_acceleration  TTC  time_headway  TTC_min  jerk_follower  \n",
      "0           -0.483786  NaN     12.019848      NaN       0.169150  \n",
      "1           -0.499510  NaN     11.855018      NaN       0.218699  \n",
      "2           -0.531699  NaN     11.836133      NaN       0.310144  \n",
      "3           -0.571609  NaN     11.174300      NaN       0.395585  \n",
      "4           -0.597993  NaN     10.294287      NaN       0.478596  \n",
      "   case_id  delta_velocity  v_follower  delta_acceleration  a_follower  \\\n",
      "0        0       -0.585128   11.712142            0.047007    2.369844   \n",
      "1        1       -0.109332   14.526137            0.039523    0.837482   \n",
      "2        2       -0.717295   13.135771           -0.140948    1.012260   \n",
      "3        3        1.121150   15.083161            0.026782    0.394586   \n",
      "4        4        0.587793   14.517350           -0.022323    0.667001   \n",
      "\n",
      "   jerk_follower  time_headway  delta_position        TTC    TTC_min  cluster  \n",
      "0      -0.028677      1.697374        9.428864  61.144338  16.595543        0  \n",
      "1      -0.022997      1.499226       18.421163  80.305906  20.562361        2  \n",
      "2       0.010870      3.379581       16.096035   7.636726   5.728496        0  \n",
      "3      -0.018426      1.937762       22.154348  25.245706  18.166619        2  \n",
      "4      -0.018814      2.044764       14.362037  36.424020   7.093686        2  \n",
      "   case_id  time  x_leader  x_follower  v_leader  v_follower  a_leader  \\\n",
      "0        0   0.0  0.000000   -9.428864  2.629775    0.784441  1.315692   \n",
      "1        0   0.1  0.263154   -9.341833  2.665530    0.810204  1.348330   \n",
      "2        0   0.2  0.535099   -9.265412  2.776808    0.828016  1.407345   \n",
      "3        0   0.3  0.828920   -9.107064  2.966034    0.889182  1.482459   \n",
      "4        0   0.4  1.147062   -8.933068  3.168645    0.979196  1.552755   \n",
      "\n",
      "   a_follower  l_leader  l_follower  delta_position  delta_velocity  \\\n",
      "0    0.831906      4.85         4.0        9.428864       -1.845334   \n",
      "1    0.848821      4.85         4.0        9.604988       -1.855325   \n",
      "2    0.875646      4.85         4.0        9.800511       -1.948792   \n",
      "3    0.910850      4.85         4.0        9.935984       -2.076852   \n",
      "4    0.954763      4.85         4.0       10.080130       -2.189449   \n",
      "\n",
      "   delta_acceleration  TTC  time_headway  TTC_min  jerk_follower  cluster  \n",
      "0           -0.483786  NaN     12.019848      NaN       0.169150      0.0  \n",
      "1           -0.499510  NaN     11.855018      NaN       0.218699      0.0  \n",
      "2           -0.531699  NaN     11.836133      NaN       0.310144      0.0  \n",
      "3           -0.571609  NaN     11.174300      NaN       0.395585      0.0  \n",
      "4           -0.597993  NaN     10.294287      NaN       0.478596      0.0  \n"
     ]
    }
   ],
   "source": [
    "def train_df(dataset: str, clustered_data: pd.DataFrame, mode: str):\n",
    "    \"\"\"\n",
    "    Returns a DataFrame with delta position, delta velocity, v_follower and cluster.\n",
    "    \"\"\"\n",
    "    data = read_data(dataset, mode)\n",
    "    data = compute_delta_metrics(data)\n",
    "    print(data.head())\n",
    "    print(clustered_data.head())\n",
    "    \n",
    "    # Merge the data with clustered_data on 'case_id' to get the 'cluster' column\n",
    "    data = pd.merge(data, clustered_data[['case_id', 'cluster']], on='case_id', how='left')\n",
    "    \n",
    "    print(data.head())\n",
    "    return data\n",
    "\n",
    "\n",
    "train_data = train_df(\"HA\", clustered_data, \"train\")\n"
   ]
  },
  {
   "cell_type": "code",
   "execution_count": 15,
   "metadata": {},
   "outputs": [
    {
     "data": {
      "text/html": [
       "<div>\n",
       "<style scoped>\n",
       "    .dataframe tbody tr th:only-of-type {\n",
       "        vertical-align: middle;\n",
       "    }\n",
       "\n",
       "    .dataframe tbody tr th {\n",
       "        vertical-align: top;\n",
       "    }\n",
       "\n",
       "    .dataframe thead th {\n",
       "        text-align: right;\n",
       "    }\n",
       "</style>\n",
       "<table border=\"1\" class=\"dataframe\">\n",
       "  <thead>\n",
       "    <tr style=\"text-align: right;\">\n",
       "      <th></th>\n",
       "      <th>case_id</th>\n",
       "      <th>time</th>\n",
       "      <th>x_leader</th>\n",
       "      <th>x_follower</th>\n",
       "      <th>v_leader</th>\n",
       "      <th>v_follower</th>\n",
       "      <th>a_leader</th>\n",
       "      <th>a_follower</th>\n",
       "      <th>l_leader</th>\n",
       "      <th>l_follower</th>\n",
       "      <th>delta_position</th>\n",
       "      <th>delta_velocity</th>\n",
       "      <th>delta_acceleration</th>\n",
       "      <th>TTC</th>\n",
       "      <th>time_headway</th>\n",
       "      <th>TTC_min</th>\n",
       "      <th>jerk_follower</th>\n",
       "      <th>cluster</th>\n",
       "    </tr>\n",
       "  </thead>\n",
       "  <tbody>\n",
       "    <tr>\n",
       "      <th>0</th>\n",
       "      <td>0</td>\n",
       "      <td>0.0</td>\n",
       "      <td>0.000000</td>\n",
       "      <td>-9.428864</td>\n",
       "      <td>2.629775e+00</td>\n",
       "      <td>0.784441</td>\n",
       "      <td>1.315692</td>\n",
       "      <td>0.831906</td>\n",
       "      <td>4.85</td>\n",
       "      <td>4.000000</td>\n",
       "      <td>9.428864</td>\n",
       "      <td>-1.845334</td>\n",
       "      <td>-0.483786</td>\n",
       "      <td>NaN</td>\n",
       "      <td>12.019848</td>\n",
       "      <td>NaN</td>\n",
       "      <td>0.169150</td>\n",
       "      <td>0.0</td>\n",
       "    </tr>\n",
       "    <tr>\n",
       "      <th>1</th>\n",
       "      <td>0</td>\n",
       "      <td>0.1</td>\n",
       "      <td>0.263154</td>\n",
       "      <td>-9.341833</td>\n",
       "      <td>2.665530e+00</td>\n",
       "      <td>0.810204</td>\n",
       "      <td>1.348330</td>\n",
       "      <td>0.848821</td>\n",
       "      <td>4.85</td>\n",
       "      <td>4.000000</td>\n",
       "      <td>9.604988</td>\n",
       "      <td>-1.855325</td>\n",
       "      <td>-0.499510</td>\n",
       "      <td>NaN</td>\n",
       "      <td>11.855018</td>\n",
       "      <td>NaN</td>\n",
       "      <td>0.218699</td>\n",
       "      <td>0.0</td>\n",
       "    </tr>\n",
       "    <tr>\n",
       "      <th>2</th>\n",
       "      <td>0</td>\n",
       "      <td>0.2</td>\n",
       "      <td>0.535099</td>\n",
       "      <td>-9.265412</td>\n",
       "      <td>2.776808e+00</td>\n",
       "      <td>0.828016</td>\n",
       "      <td>1.407345</td>\n",
       "      <td>0.875646</td>\n",
       "      <td>4.85</td>\n",
       "      <td>4.000000</td>\n",
       "      <td>9.800511</td>\n",
       "      <td>-1.948792</td>\n",
       "      <td>-0.531699</td>\n",
       "      <td>NaN</td>\n",
       "      <td>11.836133</td>\n",
       "      <td>NaN</td>\n",
       "      <td>0.310144</td>\n",
       "      <td>0.0</td>\n",
       "    </tr>\n",
       "    <tr>\n",
       "      <th>3</th>\n",
       "      <td>0</td>\n",
       "      <td>0.3</td>\n",
       "      <td>0.828920</td>\n",
       "      <td>-9.107064</td>\n",
       "      <td>2.966034e+00</td>\n",
       "      <td>0.889182</td>\n",
       "      <td>1.482459</td>\n",
       "      <td>0.910850</td>\n",
       "      <td>4.85</td>\n",
       "      <td>4.000000</td>\n",
       "      <td>9.935984</td>\n",
       "      <td>-2.076852</td>\n",
       "      <td>-0.571609</td>\n",
       "      <td>NaN</td>\n",
       "      <td>11.174300</td>\n",
       "      <td>NaN</td>\n",
       "      <td>0.395585</td>\n",
       "      <td>0.0</td>\n",
       "    </tr>\n",
       "    <tr>\n",
       "      <th>4</th>\n",
       "      <td>0</td>\n",
       "      <td>0.4</td>\n",
       "      <td>1.147062</td>\n",
       "      <td>-8.933068</td>\n",
       "      <td>3.168645e+00</td>\n",
       "      <td>0.979196</td>\n",
       "      <td>1.552755</td>\n",
       "      <td>0.954763</td>\n",
       "      <td>4.85</td>\n",
       "      <td>4.000000</td>\n",
       "      <td>10.080130</td>\n",
       "      <td>-2.189449</td>\n",
       "      <td>-0.597993</td>\n",
       "      <td>NaN</td>\n",
       "      <td>10.294287</td>\n",
       "      <td>NaN</td>\n",
       "      <td>0.478596</td>\n",
       "      <td>0.0</td>\n",
       "    </tr>\n",
       "    <tr>\n",
       "      <th>...</th>\n",
       "      <td>...</td>\n",
       "      <td>...</td>\n",
       "      <td>...</td>\n",
       "      <td>...</td>\n",
       "      <td>...</td>\n",
       "      <td>...</td>\n",
       "      <td>...</td>\n",
       "      <td>...</td>\n",
       "      <td>...</td>\n",
       "      <td>...</td>\n",
       "      <td>...</td>\n",
       "      <td>...</td>\n",
       "      <td>...</td>\n",
       "      <td>...</td>\n",
       "      <td>...</td>\n",
       "      <td>...</td>\n",
       "      <td>...</td>\n",
       "      <td>...</td>\n",
       "    </tr>\n",
       "    <tr>\n",
       "      <th>7124113</th>\n",
       "      <td>26393</td>\n",
       "      <td>21.5</td>\n",
       "      <td>23.460644</td>\n",
       "      <td>17.509131</td>\n",
       "      <td>-1.224044e-14</td>\n",
       "      <td>0.005863</td>\n",
       "      <td>-0.000065</td>\n",
       "      <td>0.019480</td>\n",
       "      <td>4.85</td>\n",
       "      <td>4.261504</td>\n",
       "      <td>5.951513</td>\n",
       "      <td>0.005863</td>\n",
       "      <td>0.019546</td>\n",
       "      <td>1015.089539</td>\n",
       "      <td>1015.089539</td>\n",
       "      <td>1015.089539</td>\n",
       "      <td>0.011031</td>\n",
       "      <td>0.0</td>\n",
       "    </tr>\n",
       "    <tr>\n",
       "      <th>7124114</th>\n",
       "      <td>26393</td>\n",
       "      <td>21.6</td>\n",
       "      <td>23.460644</td>\n",
       "      <td>17.562307</td>\n",
       "      <td>-6.071740e-15</td>\n",
       "      <td>0.020706</td>\n",
       "      <td>-0.000069</td>\n",
       "      <td>0.017621</td>\n",
       "      <td>4.85</td>\n",
       "      <td>4.261504</td>\n",
       "      <td>5.898337</td>\n",
       "      <td>0.020706</td>\n",
       "      <td>0.017690</td>\n",
       "      <td>284.854786</td>\n",
       "      <td>284.854786</td>\n",
       "      <td>284.854786</td>\n",
       "      <td>-0.054494</td>\n",
       "      <td>0.0</td>\n",
       "    </tr>\n",
       "    <tr>\n",
       "      <th>7124115</th>\n",
       "      <td>26393</td>\n",
       "      <td>21.7</td>\n",
       "      <td>23.460644</td>\n",
       "      <td>17.588280</td>\n",
       "      <td>-1.017347e-14</td>\n",
       "      <td>0.019477</td>\n",
       "      <td>-0.000056</td>\n",
       "      <td>0.008581</td>\n",
       "      <td>4.85</td>\n",
       "      <td>4.261504</td>\n",
       "      <td>5.872365</td>\n",
       "      <td>0.019477</td>\n",
       "      <td>0.008637</td>\n",
       "      <td>301.498696</td>\n",
       "      <td>301.498696</td>\n",
       "      <td>301.498696</td>\n",
       "      <td>-0.117347</td>\n",
       "      <td>0.0</td>\n",
       "    </tr>\n",
       "    <tr>\n",
       "      <th>7124116</th>\n",
       "      <td>26393</td>\n",
       "      <td>21.8</td>\n",
       "      <td>23.460644</td>\n",
       "      <td>17.607007</td>\n",
       "      <td>-5.046575e-15</td>\n",
       "      <td>0.015674</td>\n",
       "      <td>-0.000035</td>\n",
       "      <td>-0.005849</td>\n",
       "      <td>4.85</td>\n",
       "      <td>4.261504</td>\n",
       "      <td>5.853637</td>\n",
       "      <td>0.015674</td>\n",
       "      <td>-0.005814</td>\n",
       "      <td>373.451266</td>\n",
       "      <td>373.451266</td>\n",
       "      <td>373.451266</td>\n",
       "      <td>-0.142894</td>\n",
       "      <td>0.0</td>\n",
       "    </tr>\n",
       "    <tr>\n",
       "      <th>7124117</th>\n",
       "      <td>26393</td>\n",
       "      <td>21.9</td>\n",
       "      <td>23.460644</td>\n",
       "      <td>17.612592</td>\n",
       "      <td>-2.503374e-15</td>\n",
       "      <td>0.011022</td>\n",
       "      <td>-0.000006</td>\n",
       "      <td>-0.019997</td>\n",
       "      <td>4.85</td>\n",
       "      <td>4.261504</td>\n",
       "      <td>5.848052</td>\n",
       "      <td>0.011022</td>\n",
       "      <td>-0.019992</td>\n",
       "      <td>530.560151</td>\n",
       "      <td>530.560151</td>\n",
       "      <td>530.560151</td>\n",
       "      <td>-0.141486</td>\n",
       "      <td>0.0</td>\n",
       "    </tr>\n",
       "  </tbody>\n",
       "</table>\n",
       "<p>7124118 rows × 18 columns</p>\n",
       "</div>"
      ],
      "text/plain": [
       "         case_id  time   x_leader  x_follower      v_leader  v_follower  \\\n",
       "0              0   0.0   0.000000   -9.428864  2.629775e+00    0.784441   \n",
       "1              0   0.1   0.263154   -9.341833  2.665530e+00    0.810204   \n",
       "2              0   0.2   0.535099   -9.265412  2.776808e+00    0.828016   \n",
       "3              0   0.3   0.828920   -9.107064  2.966034e+00    0.889182   \n",
       "4              0   0.4   1.147062   -8.933068  3.168645e+00    0.979196   \n",
       "...          ...   ...        ...         ...           ...         ...   \n",
       "7124113    26393  21.5  23.460644   17.509131 -1.224044e-14    0.005863   \n",
       "7124114    26393  21.6  23.460644   17.562307 -6.071740e-15    0.020706   \n",
       "7124115    26393  21.7  23.460644   17.588280 -1.017347e-14    0.019477   \n",
       "7124116    26393  21.8  23.460644   17.607007 -5.046575e-15    0.015674   \n",
       "7124117    26393  21.9  23.460644   17.612592 -2.503374e-15    0.011022   \n",
       "\n",
       "         a_leader  a_follower  l_leader  l_follower  delta_position  \\\n",
       "0        1.315692    0.831906      4.85    4.000000        9.428864   \n",
       "1        1.348330    0.848821      4.85    4.000000        9.604988   \n",
       "2        1.407345    0.875646      4.85    4.000000        9.800511   \n",
       "3        1.482459    0.910850      4.85    4.000000        9.935984   \n",
       "4        1.552755    0.954763      4.85    4.000000       10.080130   \n",
       "...           ...         ...       ...         ...             ...   \n",
       "7124113 -0.000065    0.019480      4.85    4.261504        5.951513   \n",
       "7124114 -0.000069    0.017621      4.85    4.261504        5.898337   \n",
       "7124115 -0.000056    0.008581      4.85    4.261504        5.872365   \n",
       "7124116 -0.000035   -0.005849      4.85    4.261504        5.853637   \n",
       "7124117 -0.000006   -0.019997      4.85    4.261504        5.848052   \n",
       "\n",
       "         delta_velocity  delta_acceleration          TTC  time_headway  \\\n",
       "0             -1.845334           -0.483786          NaN     12.019848   \n",
       "1             -1.855325           -0.499510          NaN     11.855018   \n",
       "2             -1.948792           -0.531699          NaN     11.836133   \n",
       "3             -2.076852           -0.571609          NaN     11.174300   \n",
       "4             -2.189449           -0.597993          NaN     10.294287   \n",
       "...                 ...                 ...          ...           ...   \n",
       "7124113        0.005863            0.019546  1015.089539   1015.089539   \n",
       "7124114        0.020706            0.017690   284.854786    284.854786   \n",
       "7124115        0.019477            0.008637   301.498696    301.498696   \n",
       "7124116        0.015674           -0.005814   373.451266    373.451266   \n",
       "7124117        0.011022           -0.019992   530.560151    530.560151   \n",
       "\n",
       "             TTC_min  jerk_follower  cluster  \n",
       "0                NaN       0.169150      0.0  \n",
       "1                NaN       0.218699      0.0  \n",
       "2                NaN       0.310144      0.0  \n",
       "3                NaN       0.395585      0.0  \n",
       "4                NaN       0.478596      0.0  \n",
       "...              ...            ...      ...  \n",
       "7124113  1015.089539       0.011031      0.0  \n",
       "7124114   284.854786      -0.054494      0.0  \n",
       "7124115   301.498696      -0.117347      0.0  \n",
       "7124116   373.451266      -0.142894      0.0  \n",
       "7124117   530.560151      -0.141486      0.0  \n",
       "\n",
       "[7124118 rows x 18 columns]"
      ]
     },
     "execution_count": 15,
     "metadata": {},
     "output_type": "execute_result"
    }
   ],
   "source": [
    "train_data1 = train_data.copy()\n",
    "train_data1"
   ]
  },
  {
   "cell_type": "code",
   "execution_count": 24,
   "metadata": {},
   "outputs": [
    {
     "name": "stderr",
     "output_type": "stream",
     "text": [
      "c:\\miniconda3\\envs\\project\\Lib\\site-packages\\sklearn\\utils\\validation.py:767: FutureWarning: is_sparse is deprecated and will be removed in a future version. Check `isinstance(dtype, pd.SparseDtype)` instead.\n",
      "  if not hasattr(array, \"sparse\") and array.dtypes.apply(is_sparse).any():\n",
      "c:\\miniconda3\\envs\\project\\Lib\\site-packages\\sklearn\\utils\\validation.py:605: FutureWarning: is_sparse is deprecated and will be removed in a future version. Check `isinstance(dtype, pd.SparseDtype)` instead.\n",
      "  if is_sparse(pd_dtype):\n",
      "c:\\miniconda3\\envs\\project\\Lib\\site-packages\\sklearn\\utils\\validation.py:614: FutureWarning: is_sparse is deprecated and will be removed in a future version. Check `isinstance(dtype, pd.SparseDtype)` instead.\n",
      "  if is_sparse(pd_dtype) or not is_extension_array_dtype(pd_dtype):\n",
      "c:\\miniconda3\\envs\\project\\Lib\\site-packages\\sklearn\\utils\\validation.py:767: FutureWarning: is_sparse is deprecated and will be removed in a future version. Check `isinstance(dtype, pd.SparseDtype)` instead.\n",
      "  if not hasattr(array, \"sparse\") and array.dtypes.apply(is_sparse).any():\n",
      "c:\\miniconda3\\envs\\project\\Lib\\site-packages\\sklearn\\utils\\validation.py:605: FutureWarning: is_sparse is deprecated and will be removed in a future version. Check `isinstance(dtype, pd.SparseDtype)` instead.\n",
      "  if is_sparse(pd_dtype):\n",
      "c:\\miniconda3\\envs\\project\\Lib\\site-packages\\sklearn\\utils\\validation.py:614: FutureWarning: is_sparse is deprecated and will be removed in a future version. Check `isinstance(dtype, pd.SparseDtype)` instead.\n",
      "  if is_sparse(pd_dtype) or not is_extension_array_dtype(pd_dtype):\n",
      "Training Epochs:   0%|          | 0/1000 [00:00<?, ?it/s]"
     ]
    },
    {
     "name": "stderr",
     "output_type": "stream",
     "text": [
      "Training Epochs:   2%|▏         | 18/1000 [00:00<00:10, 89.94it/s]"
     ]
    },
    {
     "name": "stdout",
     "output_type": "stream",
     "text": [
      "Epoch: 0 Loss: 1.0155\n",
      "Epoch: 10 Loss: 1.0047\n"
     ]
    },
    {
     "name": "stderr",
     "output_type": "stream",
     "text": [
      "Training Epochs:   4%|▍         | 38/1000 [00:00<00:10, 93.88it/s]"
     ]
    },
    {
     "name": "stdout",
     "output_type": "stream",
     "text": [
      "Epoch: 20 Loss: 0.9988\n",
      "Epoch: 30 Loss: 0.9956\n"
     ]
    },
    {
     "name": "stderr",
     "output_type": "stream",
     "text": [
      "Training Epochs:   6%|▌         | 58/1000 [00:00<00:09, 95.12it/s]"
     ]
    },
    {
     "name": "stdout",
     "output_type": "stream",
     "text": [
      "Epoch: 40 Loss: 0.9931\n",
      "Epoch: 50 Loss: 0.9915\n"
     ]
    },
    {
     "name": "stderr",
     "output_type": "stream",
     "text": [
      "Training Epochs:   8%|▊         | 78/1000 [00:00<00:09, 95.82it/s]"
     ]
    },
    {
     "name": "stdout",
     "output_type": "stream",
     "text": [
      "Epoch: 60 Loss: 0.9902\n",
      "Epoch: 70 Loss: 0.9891\n"
     ]
    },
    {
     "name": "stderr",
     "output_type": "stream",
     "text": [
      "Training Epochs:  10%|▉         | 98/1000 [00:01<00:09, 96.91it/s]"
     ]
    },
    {
     "name": "stdout",
     "output_type": "stream",
     "text": [
      "Epoch: 80 Loss: 0.9882\n",
      "Epoch: 90 Loss: 0.9872\n"
     ]
    },
    {
     "name": "stderr",
     "output_type": "stream",
     "text": [
      "Training Epochs:  12%|█▏        | 118/1000 [00:01<00:09, 97.46it/s]"
     ]
    },
    {
     "name": "stdout",
     "output_type": "stream",
     "text": [
      "Epoch: 100 Loss: 0.9862\n",
      "Epoch: 110 Loss: 0.9852\n"
     ]
    },
    {
     "name": "stderr",
     "output_type": "stream",
     "text": [
      "Training Epochs:  13%|█▎        | 128/1000 [00:01<00:08, 97.16it/s]"
     ]
    },
    {
     "name": "stdout",
     "output_type": "stream",
     "text": [
      "Epoch: 120 Loss: 0.9842\n",
      "Epoch: 130 Loss: 0.9831\n"
     ]
    },
    {
     "name": "stderr",
     "output_type": "stream",
     "text": [
      "Training Epochs:  15%|█▍        | 149/1000 [00:01<00:08, 98.58it/s]"
     ]
    },
    {
     "name": "stdout",
     "output_type": "stream",
     "text": [
      "Epoch: 140 Loss: 0.9819\n",
      "Epoch: 150 Loss: 0.9807\n"
     ]
    },
    {
     "name": "stderr",
     "output_type": "stream",
     "text": [
      "Training Epochs:  18%|█▊        | 180/1000 [00:01<00:08, 98.76it/s]"
     ]
    },
    {
     "name": "stdout",
     "output_type": "stream",
     "text": [
      "Epoch: 160 Loss: 0.9794\n",
      "Epoch: 170 Loss: 0.9782\n"
     ]
    },
    {
     "name": "stderr",
     "output_type": "stream",
     "text": [
      "Training Epochs:  20%|██        | 200/1000 [00:02<00:08, 98.74it/s]"
     ]
    },
    {
     "name": "stdout",
     "output_type": "stream",
     "text": [
      "Epoch: 180 Loss: 0.9769\n",
      "Epoch: 190 Loss: 0.9757\n"
     ]
    },
    {
     "name": "stderr",
     "output_type": "stream",
     "text": [
      "Training Epochs:  21%|██        | 210/1000 [00:02<00:07, 98.94it/s]"
     ]
    },
    {
     "name": "stdout",
     "output_type": "stream",
     "text": [
      "Epoch: 200 Loss: 0.9745\n",
      "Epoch: 210 Loss: 0.9733\n"
     ]
    },
    {
     "name": "stderr",
     "output_type": "stream",
     "text": [
      "Training Epochs:  23%|██▎       | 231/1000 [00:02<00:07, 99.45it/s]"
     ]
    },
    {
     "name": "stdout",
     "output_type": "stream",
     "text": [
      "Epoch: 220 Loss: 0.9720\n",
      "Epoch: 230 Loss: 0.9707\n"
     ]
    },
    {
     "name": "stderr",
     "output_type": "stream",
     "text": [
      "Training Epochs:  25%|██▌       | 253/1000 [00:02<00:07, 100.39it/s]"
     ]
    },
    {
     "name": "stdout",
     "output_type": "stream",
     "text": [
      "Epoch: 240 Loss: 0.9693\n",
      "Epoch: 250 Loss: 0.9678\n"
     ]
    },
    {
     "name": "stderr",
     "output_type": "stream",
     "text": [
      "Training Epochs:  28%|██▊       | 275/1000 [00:02<00:07, 100.36it/s]"
     ]
    },
    {
     "name": "stdout",
     "output_type": "stream",
     "text": [
      "Epoch: 260 Loss: 0.9661\n",
      "Epoch: 270 Loss: 0.9642\n"
     ]
    },
    {
     "name": "stderr",
     "output_type": "stream",
     "text": [
      "Training Epochs:  30%|██▉       | 297/1000 [00:03<00:06, 100.43it/s]"
     ]
    },
    {
     "name": "stdout",
     "output_type": "stream",
     "text": [
      "Epoch: 280 Loss: 0.9621\n",
      "Epoch: 290 Loss: 0.9598\n"
     ]
    },
    {
     "name": "stderr",
     "output_type": "stream",
     "text": [
      "Training Epochs:  32%|███▏      | 319/1000 [00:03<00:06, 99.81it/s] "
     ]
    },
    {
     "name": "stdout",
     "output_type": "stream",
     "text": [
      "Epoch: 300 Loss: 0.9572\n",
      "Epoch: 310 Loss: 0.9545\n"
     ]
    },
    {
     "name": "stderr",
     "output_type": "stream",
     "text": [
      "Training Epochs:  33%|███▎      | 329/1000 [00:03<00:06, 99.68it/s]"
     ]
    },
    {
     "name": "stdout",
     "output_type": "stream",
     "text": [
      "Epoch: 320 Loss: 0.9514\n",
      "Epoch: 330 Loss: 0.9480\n"
     ]
    },
    {
     "name": "stderr",
     "output_type": "stream",
     "text": [
      "Training Epochs:  36%|███▌      | 360/1000 [00:03<00:06, 99.00it/s]"
     ]
    },
    {
     "name": "stdout",
     "output_type": "stream",
     "text": [
      "Epoch: 340 Loss: 0.9444\n",
      "Epoch: 350 Loss: 0.9406\n"
     ]
    },
    {
     "name": "stderr",
     "output_type": "stream",
     "text": [
      "Training Epochs:  37%|███▋      | 370/1000 [00:03<00:06, 99.28it/s]"
     ]
    },
    {
     "name": "stdout",
     "output_type": "stream",
     "text": [
      "Epoch: 360 Loss: 0.9364\n",
      "Epoch: 370 Loss: 0.9320\n"
     ]
    },
    {
     "name": "stderr",
     "output_type": "stream",
     "text": [
      "Training Epochs:  39%|███▉      | 390/1000 [00:03<00:06, 99.54it/s]"
     ]
    },
    {
     "name": "stdout",
     "output_type": "stream",
     "text": [
      "Epoch: 380 Loss: 0.9271\n",
      "Epoch: 390 Loss: 0.9219\n"
     ]
    },
    {
     "name": "stderr",
     "output_type": "stream",
     "text": [
      "Training Epochs:  41%|████      | 412/1000 [00:04<00:05, 100.31it/s]"
     ]
    },
    {
     "name": "stdout",
     "output_type": "stream",
     "text": [
      "Epoch: 400 Loss: 0.9162\n",
      "Epoch: 410 Loss: 0.9103\n"
     ]
    },
    {
     "name": "stderr",
     "output_type": "stream",
     "text": [
      "Training Epochs:  43%|████▎     | 434/1000 [00:04<00:05, 100.24it/s]"
     ]
    },
    {
     "name": "stdout",
     "output_type": "stream",
     "text": [
      "Epoch: 420 Loss: 0.9042\n",
      "Epoch: 430 Loss: 0.8979\n"
     ]
    },
    {
     "name": "stderr",
     "output_type": "stream",
     "text": [
      "Training Epochs:  46%|████▌     | 456/1000 [00:04<00:05, 99.79it/s] "
     ]
    },
    {
     "name": "stdout",
     "output_type": "stream",
     "text": [
      "Epoch: 440 Loss: 0.8914\n",
      "Epoch: 450 Loss: 0.8847\n"
     ]
    },
    {
     "name": "stderr",
     "output_type": "stream",
     "text": [
      "Training Epochs:  48%|████▊     | 478/1000 [00:04<00:05, 100.14it/s]"
     ]
    },
    {
     "name": "stdout",
     "output_type": "stream",
     "text": [
      "Epoch: 460 Loss: 0.8778\n",
      "Epoch: 470 Loss: 0.8706\n"
     ]
    },
    {
     "name": "stderr",
     "output_type": "stream",
     "text": [
      "Training Epochs:  50%|█████     | 500/1000 [00:05<00:05, 99.95it/s] "
     ]
    },
    {
     "name": "stdout",
     "output_type": "stream",
     "text": [
      "Epoch: 480 Loss: 0.8634\n",
      "Epoch: 490 Loss: 0.8562\n"
     ]
    },
    {
     "name": "stderr",
     "output_type": "stream",
     "text": [
      "Training Epochs:  51%|█████     | 510/1000 [00:05<00:04, 99.78it/s]"
     ]
    },
    {
     "name": "stdout",
     "output_type": "stream",
     "text": [
      "Epoch: 500 Loss: 0.8488\n",
      "Epoch: 510 Loss: 0.8412\n"
     ]
    },
    {
     "name": "stderr",
     "output_type": "stream",
     "text": [
      "Training Epochs:  53%|█████▎    | 531/1000 [00:05<00:04, 99.71it/s]"
     ]
    },
    {
     "name": "stdout",
     "output_type": "stream",
     "text": [
      "Epoch: 520 Loss: 0.8333\n",
      "Epoch: 530 Loss: 0.8253\n"
     ]
    },
    {
     "name": "stderr",
     "output_type": "stream",
     "text": [
      "Training Epochs:  55%|█████▌    | 553/1000 [00:05<00:04, 100.57it/s]"
     ]
    },
    {
     "name": "stdout",
     "output_type": "stream",
     "text": [
      "Epoch: 540 Loss: 0.8170\n",
      "Epoch: 550 Loss: 0.8085\n"
     ]
    },
    {
     "name": "stderr",
     "output_type": "stream",
     "text": [
      "Training Epochs:  57%|█████▊    | 575/1000 [00:05<00:04, 99.98it/s] "
     ]
    },
    {
     "name": "stdout",
     "output_type": "stream",
     "text": [
      "Epoch: 560 Loss: 0.8000\n",
      "Epoch: 570 Loss: 0.7914\n"
     ]
    },
    {
     "name": "stderr",
     "output_type": "stream",
     "text": [
      "Training Epochs:  60%|█████▉    | 595/1000 [00:06<00:04, 96.53it/s]"
     ]
    },
    {
     "name": "stdout",
     "output_type": "stream",
     "text": [
      "Epoch: 580 Loss: 0.7828\n",
      "Epoch: 590 Loss: 0.7742\n"
     ]
    },
    {
     "name": "stderr",
     "output_type": "stream",
     "text": [
      "Training Epochs:  62%|██████▏   | 616/1000 [00:06<00:03, 98.34it/s]"
     ]
    },
    {
     "name": "stdout",
     "output_type": "stream",
     "text": [
      "Epoch: 600 Loss: 0.7656\n",
      "Epoch: 610 Loss: 0.7569\n"
     ]
    },
    {
     "name": "stderr",
     "output_type": "stream",
     "text": [
      "Training Epochs:  64%|██████▎   | 636/1000 [00:06<00:03, 98.70it/s]"
     ]
    },
    {
     "name": "stdout",
     "output_type": "stream",
     "text": [
      "Epoch: 620 Loss: 0.7484\n",
      "Epoch: 630 Loss: 0.7400\n"
     ]
    },
    {
     "name": "stderr",
     "output_type": "stream",
     "text": [
      "Training Epochs:  66%|██████▌   | 657/1000 [00:06<00:03, 99.63it/s]"
     ]
    },
    {
     "name": "stdout",
     "output_type": "stream",
     "text": [
      "Epoch: 640 Loss: 0.7318\n",
      "Epoch: 650 Loss: 0.7238\n"
     ]
    },
    {
     "name": "stderr",
     "output_type": "stream",
     "text": [
      "Training Epochs:  68%|██████▊   | 678/1000 [00:06<00:03, 99.70it/s]"
     ]
    },
    {
     "name": "stdout",
     "output_type": "stream",
     "text": [
      "Epoch: 660 Loss: 0.7161\n",
      "Epoch: 670 Loss: 0.7086\n"
     ]
    },
    {
     "name": "stderr",
     "output_type": "stream",
     "text": [
      "Training Epochs:  70%|██████▉   | 698/1000 [00:07<00:03, 98.46it/s]"
     ]
    },
    {
     "name": "stdout",
     "output_type": "stream",
     "text": [
      "Epoch: 680 Loss: 0.7013\n",
      "Epoch: 690 Loss: 0.6942\n"
     ]
    },
    {
     "name": "stderr",
     "output_type": "stream",
     "text": [
      "Training Epochs:  72%|███████▏  | 718/1000 [00:07<00:02, 98.91it/s]"
     ]
    },
    {
     "name": "stdout",
     "output_type": "stream",
     "text": [
      "Epoch: 700 Loss: 0.6872\n",
      "Epoch: 710 Loss: 0.6804\n"
     ]
    },
    {
     "name": "stderr",
     "output_type": "stream",
     "text": [
      "Training Epochs:  74%|███████▍  | 739/1000 [00:07<00:02, 99.39it/s]"
     ]
    },
    {
     "name": "stdout",
     "output_type": "stream",
     "text": [
      "Epoch: 720 Loss: 0.6737\n",
      "Epoch: 730 Loss: 0.6672\n"
     ]
    },
    {
     "name": "stderr",
     "output_type": "stream",
     "text": [
      "Training Epochs:  76%|███████▌  | 760/1000 [00:07<00:02, 99.83it/s]"
     ]
    },
    {
     "name": "stdout",
     "output_type": "stream",
     "text": [
      "Epoch: 740 Loss: 0.6607\n",
      "Epoch: 750 Loss: 0.6544\n"
     ]
    },
    {
     "name": "stderr",
     "output_type": "stream",
     "text": [
      "Training Epochs:  77%|███████▋  | 771/1000 [00:07<00:02, 99.99it/s]"
     ]
    },
    {
     "name": "stdout",
     "output_type": "stream",
     "text": [
      "Epoch: 760 Loss: 0.6484\n",
      "Epoch: 770 Loss: 0.6424\n"
     ]
    },
    {
     "name": "stderr",
     "output_type": "stream",
     "text": [
      "Training Epochs:  79%|███████▉  | 793/1000 [00:08<00:02, 100.36it/s]"
     ]
    },
    {
     "name": "stdout",
     "output_type": "stream",
     "text": [
      "Epoch: 780 Loss: 0.6366\n",
      "Epoch: 790 Loss: 0.6309\n"
     ]
    },
    {
     "name": "stderr",
     "output_type": "stream",
     "text": [
      "Training Epochs:  82%|████████▏ | 815/1000 [00:08<00:01, 100.82it/s]"
     ]
    },
    {
     "name": "stdout",
     "output_type": "stream",
     "text": [
      "Epoch: 800 Loss: 0.6253\n",
      "Epoch: 810 Loss: 0.6197\n"
     ]
    },
    {
     "name": "stderr",
     "output_type": "stream",
     "text": [
      "Training Epochs:  84%|████████▎ | 837/1000 [00:08<00:01, 99.89it/s] "
     ]
    },
    {
     "name": "stdout",
     "output_type": "stream",
     "text": [
      "Epoch: 820 Loss: 0.6143\n",
      "Epoch: 830 Loss: 0.6090\n"
     ]
    },
    {
     "name": "stderr",
     "output_type": "stream",
     "text": [
      "Training Epochs:  86%|████████▌ | 857/1000 [00:08<00:01, 99.84it/s]"
     ]
    },
    {
     "name": "stdout",
     "output_type": "stream",
     "text": [
      "Epoch: 840 Loss: 0.6037\n",
      "Epoch: 850 Loss: 0.5986\n"
     ]
    },
    {
     "name": "stderr",
     "output_type": "stream",
     "text": [
      "Training Epochs:  88%|████████▊ | 879/1000 [00:08<00:01, 100.49it/s]"
     ]
    },
    {
     "name": "stdout",
     "output_type": "stream",
     "text": [
      "Epoch: 860 Loss: 0.5936\n",
      "Epoch: 870 Loss: 0.5887\n"
     ]
    },
    {
     "name": "stderr",
     "output_type": "stream",
     "text": [
      "Training Epochs:  89%|████████▉ | 890/1000 [00:09<00:01, 100.27it/s]"
     ]
    },
    {
     "name": "stdout",
     "output_type": "stream",
     "text": [
      "Epoch: 880 Loss: 0.5840\n",
      "Epoch: 890 Loss: 0.5793\n"
     ]
    },
    {
     "name": "stderr",
     "output_type": "stream",
     "text": [
      "Training Epochs:  91%|█████████ | 911/1000 [00:09<00:00, 99.87it/s] "
     ]
    },
    {
     "name": "stdout",
     "output_type": "stream",
     "text": [
      "Epoch: 900 Loss: 0.5747\n",
      "Epoch: 910 Loss: 0.5703\n"
     ]
    },
    {
     "name": "stderr",
     "output_type": "stream",
     "text": [
      "Training Epochs:  93%|█████████▎| 931/1000 [00:09<00:00, 98.56it/s]"
     ]
    },
    {
     "name": "stdout",
     "output_type": "stream",
     "text": [
      "Epoch: 920 Loss: 0.5658\n",
      "Epoch: 930 Loss: 0.5615\n"
     ]
    },
    {
     "name": "stderr",
     "output_type": "stream",
     "text": [
      "Training Epochs:  95%|█████████▌| 951/1000 [00:09<00:00, 97.30it/s]"
     ]
    },
    {
     "name": "stdout",
     "output_type": "stream",
     "text": [
      "Epoch: 940 Loss: 0.5572\n",
      "Epoch: 950 Loss: 0.5530\n"
     ]
    },
    {
     "name": "stderr",
     "output_type": "stream",
     "text": [
      "Training Epochs:  97%|█████████▋| 971/1000 [00:09<00:00, 97.63it/s]"
     ]
    },
    {
     "name": "stdout",
     "output_type": "stream",
     "text": [
      "Epoch: 960 Loss: 0.5488\n",
      "Epoch: 970 Loss: 0.5448\n"
     ]
    },
    {
     "name": "stderr",
     "output_type": "stream",
     "text": [
      "Training Epochs:  99%|█████████▉| 991/1000 [00:10<00:00, 98.09it/s]"
     ]
    },
    {
     "name": "stdout",
     "output_type": "stream",
     "text": [
      "Epoch: 980 Loss: 0.5407\n",
      "Epoch: 990 Loss: 0.5368\n"
     ]
    },
    {
     "name": "stderr",
     "output_type": "stream",
     "text": [
      "Training Epochs: 100%|██████████| 1000/1000 [00:10<00:00, 98.81it/s]\n",
      "c:\\miniconda3\\envs\\project\\Lib\\site-packages\\sklearn\\utils\\validation.py:767: FutureWarning: is_sparse is deprecated and will be removed in a future version. Check `isinstance(dtype, pd.SparseDtype)` instead.\n",
      "  if not hasattr(array, \"sparse\") and array.dtypes.apply(is_sparse).any():\n",
      "c:\\miniconda3\\envs\\project\\Lib\\site-packages\\sklearn\\utils\\validation.py:605: FutureWarning: is_sparse is deprecated and will be removed in a future version. Check `isinstance(dtype, pd.SparseDtype)` instead.\n",
      "  if is_sparse(pd_dtype):\n",
      "c:\\miniconda3\\envs\\project\\Lib\\site-packages\\sklearn\\utils\\validation.py:614: FutureWarning: is_sparse is deprecated and will be removed in a future version. Check `isinstance(dtype, pd.SparseDtype)` instead.\n",
      "  if is_sparse(pd_dtype) or not is_extension_array_dtype(pd_dtype):\n",
      "c:\\miniconda3\\envs\\project\\Lib\\site-packages\\sklearn\\utils\\validation.py:767: FutureWarning: is_sparse is deprecated and will be removed in a future version. Check `isinstance(dtype, pd.SparseDtype)` instead.\n",
      "  if not hasattr(array, \"sparse\") and array.dtypes.apply(is_sparse).any():\n",
      "c:\\miniconda3\\envs\\project\\Lib\\site-packages\\sklearn\\utils\\validation.py:605: FutureWarning: is_sparse is deprecated and will be removed in a future version. Check `isinstance(dtype, pd.SparseDtype)` instead.\n",
      "  if is_sparse(pd_dtype):\n",
      "c:\\miniconda3\\envs\\project\\Lib\\site-packages\\sklearn\\utils\\validation.py:614: FutureWarning: is_sparse is deprecated and will be removed in a future version. Check `isinstance(dtype, pd.SparseDtype)` instead.\n",
      "  if is_sparse(pd_dtype) or not is_extension_array_dtype(pd_dtype):\n"
     ]
    },
    {
     "name": "stdout",
     "output_type": "stream",
     "text": [
      "MSE: 6.05, RMSE: 2.46, MAE: 1.68\n"
     ]
    },
    {
     "name": "stderr",
     "output_type": "stream",
     "text": [
      "Training Epochs:   1%|          | 8/1000 [00:00<00:13, 71.80it/s]"
     ]
    },
    {
     "name": "stdout",
     "output_type": "stream",
     "text": [
      "Epoch: 0 Loss: 1.0050\n",
      "Epoch: 10 Loss: 0.9872\n"
     ]
    },
    {
     "name": "stderr",
     "output_type": "stream",
     "text": [
      "Training Epochs:   3%|▎         | 32/1000 [00:00<00:12, 74.93it/s]"
     ]
    },
    {
     "name": "stdout",
     "output_type": "stream",
     "text": [
      "Epoch: 20 Loss: 0.9743\n",
      "Epoch: 30 Loss: 0.9638\n"
     ]
    },
    {
     "name": "stderr",
     "output_type": "stream",
     "text": [
      "Training Epochs:   6%|▌         | 56/1000 [00:00<00:12, 76.98it/s]"
     ]
    },
    {
     "name": "stdout",
     "output_type": "stream",
     "text": [
      "Epoch: 40 Loss: 0.9532\n",
      "Epoch: 50 Loss: 0.9428\n"
     ]
    },
    {
     "name": "stderr",
     "output_type": "stream",
     "text": [
      "Training Epochs:   7%|▋         | 72/1000 [00:00<00:12, 76.62it/s]"
     ]
    },
    {
     "name": "stdout",
     "output_type": "stream",
     "text": [
      "Epoch: 60 Loss: 0.9344\n",
      "Epoch: 70 Loss: 0.9282\n"
     ]
    },
    {
     "name": "stderr",
     "output_type": "stream",
     "text": [
      "Training Epochs:   9%|▉         | 88/1000 [00:01<00:11, 76.84it/s]"
     ]
    },
    {
     "name": "stdout",
     "output_type": "stream",
     "text": [
      "Epoch: 80 Loss: 0.9236\n",
      "Epoch: 90 Loss: 0.9202\n"
     ]
    },
    {
     "name": "stderr",
     "output_type": "stream",
     "text": [
      "Training Epochs:  11%|█         | 112/1000 [00:01<00:11, 78.21it/s]"
     ]
    },
    {
     "name": "stdout",
     "output_type": "stream",
     "text": [
      "Epoch: 100 Loss: 0.9175\n",
      "Epoch: 110 Loss: 0.9151\n"
     ]
    },
    {
     "name": "stderr",
     "output_type": "stream",
     "text": [
      "Training Epochs:  14%|█▎        | 136/1000 [00:01<00:11, 78.20it/s]"
     ]
    },
    {
     "name": "stdout",
     "output_type": "stream",
     "text": [
      "Epoch: 120 Loss: 0.9127\n",
      "Epoch: 130 Loss: 0.9103\n"
     ]
    },
    {
     "name": "stderr",
     "output_type": "stream",
     "text": [
      "Training Epochs:  15%|█▌        | 152/1000 [00:01<00:10, 78.29it/s]"
     ]
    },
    {
     "name": "stdout",
     "output_type": "stream",
     "text": [
      "Epoch: 140 Loss: 0.9079\n",
      "Epoch: 150 Loss: 0.9055\n"
     ]
    },
    {
     "name": "stderr",
     "output_type": "stream",
     "text": [
      "Training Epochs:  18%|█▊        | 176/1000 [00:02<00:10, 78.56it/s]"
     ]
    },
    {
     "name": "stdout",
     "output_type": "stream",
     "text": [
      "Epoch: 160 Loss: 0.9032\n",
      "Epoch: 170 Loss: 0.9010\n"
     ]
    },
    {
     "name": "stderr",
     "output_type": "stream",
     "text": [
      "Training Epochs:  19%|█▉        | 192/1000 [00:02<00:10, 78.30it/s]"
     ]
    },
    {
     "name": "stdout",
     "output_type": "stream",
     "text": [
      "Epoch: 180 Loss: 0.8990\n",
      "Epoch: 190 Loss: 0.8971\n"
     ]
    },
    {
     "name": "stderr",
     "output_type": "stream",
     "text": [
      "Training Epochs:  21%|██        | 208/1000 [00:02<00:10, 77.88it/s]"
     ]
    },
    {
     "name": "stdout",
     "output_type": "stream",
     "text": [
      "Epoch: 200 Loss: 0.8954\n",
      "Epoch: 210 Loss: 0.8939\n"
     ]
    },
    {
     "name": "stderr",
     "output_type": "stream",
     "text": [
      "Training Epochs:  23%|██▎       | 232/1000 [00:03<00:10, 74.99it/s]"
     ]
    },
    {
     "name": "stdout",
     "output_type": "stream",
     "text": [
      "Epoch: 220 Loss: 0.8924\n",
      "Epoch: 230 Loss: 0.8910\n"
     ]
    },
    {
     "name": "stderr",
     "output_type": "stream",
     "text": [
      "Training Epochs:  25%|██▍       | 248/1000 [00:03<00:10, 74.83it/s]"
     ]
    },
    {
     "name": "stdout",
     "output_type": "stream",
     "text": [
      "Epoch: 240 Loss: 0.8896\n",
      "Epoch: 250 Loss: 0.8883\n"
     ]
    },
    {
     "name": "stderr",
     "output_type": "stream",
     "text": [
      "Training Epochs:  27%|██▋       | 272/1000 [00:03<00:09, 74.64it/s]"
     ]
    },
    {
     "name": "stdout",
     "output_type": "stream",
     "text": [
      "Epoch: 260 Loss: 0.8868\n",
      "Epoch: 270 Loss: 0.8854\n"
     ]
    },
    {
     "name": "stderr",
     "output_type": "stream",
     "text": [
      "Training Epochs:  29%|██▉       | 288/1000 [00:03<00:09, 76.44it/s]"
     ]
    },
    {
     "name": "stdout",
     "output_type": "stream",
     "text": [
      "Epoch: 280 Loss: 0.8839\n",
      "Epoch: 290 Loss: 0.8823\n"
     ]
    },
    {
     "name": "stderr",
     "output_type": "stream",
     "text": [
      "Training Epochs:  31%|███       | 312/1000 [00:04<00:09, 76.14it/s]"
     ]
    },
    {
     "name": "stdout",
     "output_type": "stream",
     "text": [
      "Epoch: 300 Loss: 0.8807\n",
      "Epoch: 310 Loss: 0.8790\n"
     ]
    },
    {
     "name": "stderr",
     "output_type": "stream",
     "text": [
      "Training Epochs:  34%|███▎      | 336/1000 [00:04<00:08, 77.20it/s]"
     ]
    },
    {
     "name": "stdout",
     "output_type": "stream",
     "text": [
      "Epoch: 320 Loss: 0.8772\n",
      "Epoch: 330 Loss: 0.8753\n"
     ]
    },
    {
     "name": "stderr",
     "output_type": "stream",
     "text": [
      "Training Epochs:  35%|███▌      | 352/1000 [00:04<00:08, 77.67it/s]"
     ]
    },
    {
     "name": "stdout",
     "output_type": "stream",
     "text": [
      "Epoch: 340 Loss: 0.8734\n",
      "Epoch: 350 Loss: 0.8713\n"
     ]
    },
    {
     "name": "stderr",
     "output_type": "stream",
     "text": [
      "Training Epochs:  38%|███▊      | 376/1000 [00:04<00:07, 78.08it/s]"
     ]
    },
    {
     "name": "stdout",
     "output_type": "stream",
     "text": [
      "Epoch: 360 Loss: 0.8691\n",
      "Epoch: 370 Loss: 0.8669\n"
     ]
    },
    {
     "name": "stderr",
     "output_type": "stream",
     "text": [
      "Training Epochs:  39%|███▉      | 392/1000 [00:05<00:07, 77.39it/s]"
     ]
    },
    {
     "name": "stdout",
     "output_type": "stream",
     "text": [
      "Epoch: 380 Loss: 0.8645\n",
      "Epoch: 390 Loss: 0.8621\n"
     ]
    },
    {
     "name": "stderr",
     "output_type": "stream",
     "text": [
      "Training Epochs:  42%|████▏     | 416/1000 [00:05<00:07, 77.00it/s]"
     ]
    },
    {
     "name": "stdout",
     "output_type": "stream",
     "text": [
      "Epoch: 400 Loss: 0.8595\n",
      "Epoch: 410 Loss: 0.8568\n"
     ]
    },
    {
     "name": "stderr",
     "output_type": "stream",
     "text": [
      "Training Epochs:  43%|████▎     | 432/1000 [00:05<00:07, 77.25it/s]"
     ]
    },
    {
     "name": "stdout",
     "output_type": "stream",
     "text": [
      "Epoch: 420 Loss: 0.8540\n",
      "Epoch: 430 Loss: 0.8511\n"
     ]
    },
    {
     "name": "stderr",
     "output_type": "stream",
     "text": [
      "Training Epochs:  45%|████▍     | 448/1000 [00:05<00:07, 76.70it/s]"
     ]
    },
    {
     "name": "stdout",
     "output_type": "stream",
     "text": [
      "Epoch: 440 Loss: 0.8480\n",
      "Epoch: 450 Loss: 0.8448\n"
     ]
    },
    {
     "name": "stderr",
     "output_type": "stream",
     "text": [
      "Training Epochs:  47%|████▋     | 473/1000 [00:06<00:06, 78.26it/s]"
     ]
    },
    {
     "name": "stdout",
     "output_type": "stream",
     "text": [
      "Epoch: 460 Loss: 0.8413\n",
      "Epoch: 470 Loss: 0.8377\n"
     ]
    },
    {
     "name": "stderr",
     "output_type": "stream",
     "text": [
      "Training Epochs:  50%|████▉     | 497/1000 [00:06<00:06, 77.48it/s]"
     ]
    },
    {
     "name": "stdout",
     "output_type": "stream",
     "text": [
      "Epoch: 480 Loss: 0.8339\n",
      "Epoch: 490 Loss: 0.8299\n"
     ]
    },
    {
     "name": "stderr",
     "output_type": "stream",
     "text": [
      "Training Epochs:  51%|█████▏    | 513/1000 [00:06<00:06, 77.71it/s]"
     ]
    },
    {
     "name": "stdout",
     "output_type": "stream",
     "text": [
      "Epoch: 500 Loss: 0.8258\n",
      "Epoch: 510 Loss: 0.8217\n"
     ]
    },
    {
     "name": "stderr",
     "output_type": "stream",
     "text": [
      "Training Epochs:  54%|█████▎    | 537/1000 [00:06<00:05, 77.26it/s]"
     ]
    },
    {
     "name": "stdout",
     "output_type": "stream",
     "text": [
      "Epoch: 520 Loss: 0.8176\n",
      "Epoch: 530 Loss: 0.8134\n"
     ]
    },
    {
     "name": "stderr",
     "output_type": "stream",
     "text": [
      "Training Epochs:  55%|█████▌    | 553/1000 [00:07<00:05, 77.64it/s]"
     ]
    },
    {
     "name": "stdout",
     "output_type": "stream",
     "text": [
      "Epoch: 540 Loss: 0.8093\n",
      "Epoch: 550 Loss: 0.8050\n"
     ]
    },
    {
     "name": "stderr",
     "output_type": "stream",
     "text": [
      "Training Epochs:  57%|█████▋    | 569/1000 [00:07<00:05, 78.10it/s]"
     ]
    },
    {
     "name": "stdout",
     "output_type": "stream",
     "text": [
      "Epoch: 560 Loss: 0.8006\n",
      "Epoch: 570 Loss: 0.7961\n"
     ]
    },
    {
     "name": "stderr",
     "output_type": "stream",
     "text": [
      "Training Epochs:  59%|█████▉    | 593/1000 [00:07<00:05, 77.45it/s]"
     ]
    },
    {
     "name": "stdout",
     "output_type": "stream",
     "text": [
      "Epoch: 580 Loss: 0.7916\n",
      "Epoch: 590 Loss: 0.7870\n"
     ]
    },
    {
     "name": "stderr",
     "output_type": "stream",
     "text": [
      "Training Epochs:  62%|██████▏   | 617/1000 [00:07<00:04, 77.86it/s]"
     ]
    },
    {
     "name": "stdout",
     "output_type": "stream",
     "text": [
      "Epoch: 600 Loss: 0.7823\n",
      "Epoch: 610 Loss: 0.7776\n"
     ]
    },
    {
     "name": "stderr",
     "output_type": "stream",
     "text": [
      "Training Epochs:  63%|██████▎   | 633/1000 [00:08<00:04, 77.85it/s]"
     ]
    },
    {
     "name": "stdout",
     "output_type": "stream",
     "text": [
      "Epoch: 620 Loss: 0.7729\n",
      "Epoch: 630 Loss: 0.7684\n"
     ]
    },
    {
     "name": "stderr",
     "output_type": "stream",
     "text": [
      "Training Epochs:  65%|██████▌   | 650/1000 [00:08<00:04, 78.62it/s]"
     ]
    },
    {
     "name": "stdout",
     "output_type": "stream",
     "text": [
      "Epoch: 640 Loss: 0.7638\n",
      "Epoch: 650 Loss: 0.7592\n"
     ]
    },
    {
     "name": "stderr",
     "output_type": "stream",
     "text": [
      "Training Epochs:  67%|██████▋   | 674/1000 [00:08<00:04, 77.55it/s]"
     ]
    },
    {
     "name": "stdout",
     "output_type": "stream",
     "text": [
      "Epoch: 660 Loss: 0.7546\n",
      "Epoch: 670 Loss: 0.7499\n"
     ]
    },
    {
     "name": "stderr",
     "output_type": "stream",
     "text": [
      "Training Epochs:  69%|██████▉   | 690/1000 [00:08<00:04, 76.86it/s]"
     ]
    },
    {
     "name": "stdout",
     "output_type": "stream",
     "text": [
      "Epoch: 680 Loss: 0.7453\n",
      "Epoch: 690 Loss: 0.7408\n"
     ]
    },
    {
     "name": "stderr",
     "output_type": "stream",
     "text": [
      "Training Epochs:  71%|███████▏  | 714/1000 [00:09<00:03, 77.69it/s]"
     ]
    },
    {
     "name": "stdout",
     "output_type": "stream",
     "text": [
      "Epoch: 700 Loss: 0.7363\n",
      "Epoch: 710 Loss: 0.7318\n"
     ]
    },
    {
     "name": "stderr",
     "output_type": "stream",
     "text": [
      "Training Epochs:  73%|███████▎  | 730/1000 [00:09<00:03, 77.72it/s]"
     ]
    },
    {
     "name": "stdout",
     "output_type": "stream",
     "text": [
      "Epoch: 720 Loss: 0.7274\n",
      "Epoch: 730 Loss: 0.7229\n"
     ]
    },
    {
     "name": "stderr",
     "output_type": "stream",
     "text": [
      "Training Epochs:  75%|███████▌  | 754/1000 [00:09<00:03, 77.48it/s]"
     ]
    },
    {
     "name": "stdout",
     "output_type": "stream",
     "text": [
      "Epoch: 740 Loss: 0.7185\n",
      "Epoch: 750 Loss: 0.7141\n"
     ]
    },
    {
     "name": "stderr",
     "output_type": "stream",
     "text": [
      "Training Epochs:  77%|███████▋  | 770/1000 [00:09<00:02, 77.23it/s]"
     ]
    },
    {
     "name": "stdout",
     "output_type": "stream",
     "text": [
      "Epoch: 760 Loss: 0.7099\n",
      "Epoch: 770 Loss: 0.7057\n"
     ]
    },
    {
     "name": "stderr",
     "output_type": "stream",
     "text": [
      "Training Epochs:  79%|███████▉  | 794/1000 [00:10<00:02, 74.63it/s]"
     ]
    },
    {
     "name": "stdout",
     "output_type": "stream",
     "text": [
      "Epoch: 780 Loss: 0.7016\n",
      "Epoch: 790 Loss: 0.6975\n"
     ]
    },
    {
     "name": "stderr",
     "output_type": "stream",
     "text": [
      "Training Epochs:  81%|████████  | 810/1000 [00:10<00:02, 75.07it/s]"
     ]
    },
    {
     "name": "stdout",
     "output_type": "stream",
     "text": [
      "Epoch: 800 Loss: 0.6934\n",
      "Epoch: 810 Loss: 0.6894\n"
     ]
    },
    {
     "name": "stderr",
     "output_type": "stream",
     "text": [
      "Training Epochs:  83%|████████▎ | 834/1000 [00:10<00:02, 76.46it/s]"
     ]
    },
    {
     "name": "stdout",
     "output_type": "stream",
     "text": [
      "Epoch: 820 Loss: 0.6853\n",
      "Epoch: 830 Loss: 0.6814\n"
     ]
    },
    {
     "name": "stderr",
     "output_type": "stream",
     "text": [
      "Training Epochs:  86%|████████▌ | 858/1000 [00:11<00:01, 77.60it/s]"
     ]
    },
    {
     "name": "stdout",
     "output_type": "stream",
     "text": [
      "Epoch: 840 Loss: 0.6774\n",
      "Epoch: 850 Loss: 0.6736\n"
     ]
    },
    {
     "name": "stderr",
     "output_type": "stream",
     "text": [
      "Training Epochs:  87%|████████▋ | 874/1000 [00:11<00:01, 76.83it/s]"
     ]
    },
    {
     "name": "stdout",
     "output_type": "stream",
     "text": [
      "Epoch: 860 Loss: 0.6697\n",
      "Epoch: 870 Loss: 0.6659\n"
     ]
    },
    {
     "name": "stderr",
     "output_type": "stream",
     "text": [
      "Training Epochs:  89%|████████▉ | 890/1000 [00:11<00:01, 76.92it/s]"
     ]
    },
    {
     "name": "stdout",
     "output_type": "stream",
     "text": [
      "Epoch: 880 Loss: 0.6622\n",
      "Epoch: 890 Loss: 0.6585\n"
     ]
    },
    {
     "name": "stderr",
     "output_type": "stream",
     "text": [
      "Training Epochs:  92%|█████████▏| 915/1000 [00:11<00:01, 77.09it/s]"
     ]
    },
    {
     "name": "stdout",
     "output_type": "stream",
     "text": [
      "Epoch: 900 Loss: 0.6549\n",
      "Epoch: 910 Loss: 0.6514\n"
     ]
    },
    {
     "name": "stderr",
     "output_type": "stream",
     "text": [
      "Training Epochs:  93%|█████████▎| 931/1000 [00:12<00:00, 77.11it/s]"
     ]
    },
    {
     "name": "stdout",
     "output_type": "stream",
     "text": [
      "Epoch: 920 Loss: 0.6479\n",
      "Epoch: 930 Loss: 0.6444\n"
     ]
    },
    {
     "name": "stderr",
     "output_type": "stream",
     "text": [
      "Training Epochs:  96%|█████████▌| 955/1000 [00:12<00:00, 76.23it/s]"
     ]
    },
    {
     "name": "stdout",
     "output_type": "stream",
     "text": [
      "Epoch: 940 Loss: 0.6410\n",
      "Epoch: 950 Loss: 0.6376\n"
     ]
    },
    {
     "name": "stderr",
     "output_type": "stream",
     "text": [
      "Training Epochs:  97%|█████████▋| 971/1000 [00:12<00:00, 76.85it/s]"
     ]
    },
    {
     "name": "stdout",
     "output_type": "stream",
     "text": [
      "Epoch: 960 Loss: 0.6342\n",
      "Epoch: 970 Loss: 0.6310\n"
     ]
    },
    {
     "name": "stderr",
     "output_type": "stream",
     "text": [
      "Training Epochs:  99%|█████████▊| 987/1000 [00:12<00:00, 77.49it/s]"
     ]
    },
    {
     "name": "stdout",
     "output_type": "stream",
     "text": [
      "Epoch: 980 Loss: 0.6277\n",
      "Epoch: 990 Loss: 0.6246\n"
     ]
    },
    {
     "name": "stderr",
     "output_type": "stream",
     "text": [
      "Training Epochs: 100%|██████████| 1000/1000 [00:12<00:00, 77.04it/s]\n",
      "c:\\miniconda3\\envs\\project\\Lib\\site-packages\\sklearn\\utils\\validation.py:767: FutureWarning: is_sparse is deprecated and will be removed in a future version. Check `isinstance(dtype, pd.SparseDtype)` instead.\n",
      "  if not hasattr(array, \"sparse\") and array.dtypes.apply(is_sparse).any():\n",
      "c:\\miniconda3\\envs\\project\\Lib\\site-packages\\sklearn\\utils\\validation.py:605: FutureWarning: is_sparse is deprecated and will be removed in a future version. Check `isinstance(dtype, pd.SparseDtype)` instead.\n",
      "  if is_sparse(pd_dtype):\n",
      "c:\\miniconda3\\envs\\project\\Lib\\site-packages\\sklearn\\utils\\validation.py:614: FutureWarning: is_sparse is deprecated and will be removed in a future version. Check `isinstance(dtype, pd.SparseDtype)` instead.\n",
      "  if is_sparse(pd_dtype) or not is_extension_array_dtype(pd_dtype):\n",
      "c:\\miniconda3\\envs\\project\\Lib\\site-packages\\sklearn\\utils\\validation.py:767: FutureWarning: is_sparse is deprecated and will be removed in a future version. Check `isinstance(dtype, pd.SparseDtype)` instead.\n",
      "  if not hasattr(array, \"sparse\") and array.dtypes.apply(is_sparse).any():\n",
      "c:\\miniconda3\\envs\\project\\Lib\\site-packages\\sklearn\\utils\\validation.py:605: FutureWarning: is_sparse is deprecated and will be removed in a future version. Check `isinstance(dtype, pd.SparseDtype)` instead.\n",
      "  if is_sparse(pd_dtype):\n",
      "c:\\miniconda3\\envs\\project\\Lib\\site-packages\\sklearn\\utils\\validation.py:614: FutureWarning: is_sparse is deprecated and will be removed in a future version. Check `isinstance(dtype, pd.SparseDtype)` instead.\n",
      "  if is_sparse(pd_dtype) or not is_extension_array_dtype(pd_dtype):\n"
     ]
    },
    {
     "name": "stdout",
     "output_type": "stream",
     "text": [
      "MSE: 21.90, RMSE: 4.68, MAE: 2.28\n"
     ]
    },
    {
     "name": "stderr",
     "output_type": "stream",
     "text": [
      "Training Epochs:   3%|▎         | 34/1000 [00:00<00:02, 334.45it/s]"
     ]
    },
    {
     "name": "stdout",
     "output_type": "stream",
     "text": [
      "Epoch: 0 Loss: 0.9758\n",
      "Epoch: 10 Loss: 0.9685\n",
      "Epoch: 20 Loss: 0.9668\n",
      "Epoch: 30 Loss: 0.9658\n",
      "Epoch: 40 Loss: 0.9648\n",
      "Epoch: 50 Loss: 0.9638\n"
     ]
    },
    {
     "name": "stderr",
     "output_type": "stream",
     "text": [
      "Training Epochs:  10%|█         | 104/1000 [00:00<00:02, 339.05it/s]"
     ]
    },
    {
     "name": "stdout",
     "output_type": "stream",
     "text": [
      "Epoch: 60 Loss: 0.9624\n",
      "Epoch: 70 Loss: 0.9606\n",
      "Epoch: 80 Loss: 0.9583\n",
      "Epoch: 90 Loss: 0.9554\n",
      "Epoch: 100 Loss: 0.9516\n",
      "Epoch: 110 Loss: 0.9470\n",
      "Epoch: 120 Loss: 0.9420\n"
     ]
    },
    {
     "name": "stderr",
     "output_type": "stream",
     "text": [
      "Training Epochs:  17%|█▋        | 174/1000 [00:00<00:02, 339.85it/s]"
     ]
    },
    {
     "name": "stdout",
     "output_type": "stream",
     "text": [
      "Epoch: 130 Loss: 0.9368\n",
      "Epoch: 140 Loss: 0.9310\n",
      "Epoch: 150 Loss: 0.9244\n",
      "Epoch: 160 Loss: 0.9168\n",
      "Epoch: 170 Loss: 0.9078\n",
      "Epoch: 180 Loss: 0.8975\n",
      "Epoch: 190 Loss: 0.8857\n"
     ]
    },
    {
     "name": "stderr",
     "output_type": "stream",
     "text": [
      "Training Epochs:  24%|██▍       | 244/1000 [00:00<00:02, 337.37it/s]"
     ]
    },
    {
     "name": "stdout",
     "output_type": "stream",
     "text": [
      "Epoch: 200 Loss: 0.8721\n",
      "Epoch: 210 Loss: 0.8566\n",
      "Epoch: 220 Loss: 0.8390\n",
      "Epoch: 230 Loss: 0.8189\n",
      "Epoch: 240 Loss: 0.7961\n",
      "Epoch: 250 Loss: 0.7706\n",
      "Epoch: 260 Loss: 0.7433\n"
     ]
    },
    {
     "name": "stderr",
     "output_type": "stream",
     "text": [
      "Training Epochs:  31%|███       | 312/1000 [00:00<00:02, 332.32it/s]"
     ]
    },
    {
     "name": "stdout",
     "output_type": "stream",
     "text": [
      "Epoch: 270 Loss: 0.7150\n",
      "Epoch: 280 Loss: 0.6863\n",
      "Epoch: 290 Loss: 0.6577\n",
      "Epoch: 300 Loss: 0.6290\n",
      "Epoch: 310 Loss: 0.6002\n",
      "Epoch: 320 Loss: 0.5713\n"
     ]
    },
    {
     "name": "stderr",
     "output_type": "stream",
     "text": [
      "Training Epochs:  38%|███▊      | 381/1000 [00:01<00:01, 336.36it/s]"
     ]
    },
    {
     "name": "stdout",
     "output_type": "stream",
     "text": [
      "Epoch: 330 Loss: 0.5423\n",
      "Epoch: 340 Loss: 0.5134\n",
      "Epoch: 350 Loss: 0.4846\n",
      "Epoch: 360 Loss: 0.4563\n",
      "Epoch: 370 Loss: 0.4290\n",
      "Epoch: 380 Loss: 0.4029\n",
      "Epoch: 390 Loss: 0.3779\n"
     ]
    },
    {
     "name": "stderr",
     "output_type": "stream",
     "text": [
      "Training Epochs:  45%|████▍     | 449/1000 [00:01<00:01, 335.20it/s]"
     ]
    },
    {
     "name": "stdout",
     "output_type": "stream",
     "text": [
      "Epoch: 400 Loss: 0.3541\n",
      "Epoch: 410 Loss: 0.3312\n",
      "Epoch: 420 Loss: 0.3095\n",
      "Epoch: 430 Loss: 0.2890\n",
      "Epoch: 440 Loss: 0.2697\n",
      "Epoch: 450 Loss: 0.2518\n"
     ]
    },
    {
     "name": "stderr",
     "output_type": "stream",
     "text": [
      "Training Epochs:  52%|█████▏    | 518/1000 [00:01<00:01, 338.55it/s]"
     ]
    },
    {
     "name": "stdout",
     "output_type": "stream",
     "text": [
      "Epoch: 460 Loss: 0.2352\n",
      "Epoch: 470 Loss: 0.2200\n",
      "Epoch: 480 Loss: 0.2059\n",
      "Epoch: 490 Loss: 0.1928\n",
      "Epoch: 500 Loss: 0.1805\n",
      "Epoch: 510 Loss: 0.1689\n",
      "Epoch: 520 Loss: 0.1581\n"
     ]
    },
    {
     "name": "stderr",
     "output_type": "stream",
     "text": [
      "Training Epochs:  59%|█████▊    | 587/1000 [00:01<00:01, 337.95it/s]"
     ]
    },
    {
     "name": "stdout",
     "output_type": "stream",
     "text": [
      "Epoch: 530 Loss: 0.1479\n",
      "Epoch: 540 Loss: 0.1384\n",
      "Epoch: 550 Loss: 0.1295\n",
      "Epoch: 560 Loss: 0.1211\n",
      "Epoch: 570 Loss: 0.1133\n",
      "Epoch: 580 Loss: 0.1059\n",
      "Epoch: 590 Loss: 0.0990\n"
     ]
    },
    {
     "name": "stderr",
     "output_type": "stream",
     "text": [
      "Training Epochs:  66%|██████▌   | 655/1000 [00:01<00:01, 335.18it/s]"
     ]
    },
    {
     "name": "stdout",
     "output_type": "stream",
     "text": [
      "Epoch: 600 Loss: 0.0924\n",
      "Epoch: 610 Loss: 0.0863\n",
      "Epoch: 620 Loss: 0.0806\n",
      "Epoch: 630 Loss: 0.0752\n",
      "Epoch: 640 Loss: 0.0701\n",
      "Epoch: 650 Loss: 0.0654\n"
     ]
    },
    {
     "name": "stderr",
     "output_type": "stream",
     "text": [
      "Training Epochs:  72%|███████▏  | 723/1000 [00:02<00:00, 333.73it/s]"
     ]
    },
    {
     "name": "stdout",
     "output_type": "stream",
     "text": [
      "Epoch: 660 Loss: 0.0610\n",
      "Epoch: 670 Loss: 0.0569\n",
      "Epoch: 680 Loss: 0.0530\n",
      "Epoch: 690 Loss: 0.0494\n",
      "Epoch: 700 Loss: 0.0460\n",
      "Epoch: 710 Loss: 0.0429\n",
      "Epoch: 720 Loss: 0.0399\n"
     ]
    },
    {
     "name": "stderr",
     "output_type": "stream",
     "text": [
      "Training Epochs:  76%|███████▌  | 757/1000 [00:02<00:00, 332.00it/s]"
     ]
    },
    {
     "name": "stdout",
     "output_type": "stream",
     "text": [
      "Epoch: 730 Loss: 0.0372\n",
      "Epoch: 740 Loss: 0.0347\n",
      "Epoch: 750 Loss: 0.0324\n",
      "Epoch: 760 Loss: 0.0302\n",
      "Epoch: 770 Loss: 0.0281\n",
      "Epoch: 780 Loss: 0.0262\n"
     ]
    },
    {
     "name": "stderr",
     "output_type": "stream",
     "text": [
      "Training Epochs:  82%|████████▎ | 825/1000 [00:02<00:00, 321.02it/s]"
     ]
    },
    {
     "name": "stdout",
     "output_type": "stream",
     "text": [
      "Epoch: 790 Loss: 0.0244\n",
      "Epoch: 800 Loss: 0.0228\n",
      "Epoch: 810 Loss: 0.0212\n",
      "Epoch: 820 Loss: 0.0198\n",
      "Epoch: 830 Loss: 0.0184\n",
      "Epoch: 840 Loss: 0.0171\n"
     ]
    },
    {
     "name": "stderr",
     "output_type": "stream",
     "text": [
      "Training Epochs:  89%|████████▉ | 893/1000 [00:02<00:00, 328.39it/s]"
     ]
    },
    {
     "name": "stdout",
     "output_type": "stream",
     "text": [
      "Epoch: 850 Loss: 0.0160\n",
      "Epoch: 860 Loss: 0.0149\n",
      "Epoch: 870 Loss: 0.0139\n",
      "Epoch: 880 Loss: 0.0129\n",
      "Epoch: 890 Loss: 0.0120\n",
      "Epoch: 900 Loss: 0.0112\n"
     ]
    },
    {
     "name": "stderr",
     "output_type": "stream",
     "text": [
      "Training Epochs:  96%|█████████▌| 959/1000 [00:02<00:00, 326.92it/s]"
     ]
    },
    {
     "name": "stdout",
     "output_type": "stream",
     "text": [
      "Epoch: 910 Loss: 0.0104\n",
      "Epoch: 920 Loss: 0.0097\n",
      "Epoch: 930 Loss: 0.0090\n",
      "Epoch: 940 Loss: 0.0084\n",
      "Epoch: 950 Loss: 0.0078\n",
      "Epoch: 960 Loss: 0.0073\n",
      "Epoch: 970 Loss: 0.0068\n"
     ]
    },
    {
     "name": "stderr",
     "output_type": "stream",
     "text": [
      "Training Epochs: 100%|██████████| 1000/1000 [00:03<00:00, 332.68it/s]"
     ]
    },
    {
     "name": "stdout",
     "output_type": "stream",
     "text": [
      "Epoch: 980 Loss: 0.0063\n",
      "Epoch: 990 Loss: 0.0059\n",
      "MSE: 31.58, RMSE: 5.62, MAE: 3.32\n"
     ]
    },
    {
     "name": "stderr",
     "output_type": "stream",
     "text": [
      "\n"
     ]
    }
   ],
   "source": [
    "import torch\n",
    "import torch.nn as nn\n",
    "import torch.optim as optim\n",
    "import numpy as np\n",
    "import pandas as pd\n",
    "from sklearn.model_selection import train_test_split\n",
    "from sklearn.preprocessing import StandardScaler\n",
    "from sklearn.metrics import mean_squared_error, mean_absolute_error\n",
    "from tqdm import tqdm\n",
    "import math\n",
    "\n",
    "class LSTMModel(nn.Module):\n",
    "    def __init__(self, input_size=1, hidden_layer_size=100, output_size=1):\n",
    "        super().__init__()\n",
    "        self.lstm = nn.LSTM(input_size, hidden_layer_size, batch_first=True)\n",
    "        self.linear = nn.Linear(hidden_layer_size, output_size)\n",
    "    \n",
    "    def forward(self, input_seq):\n",
    "        lstm_out, _ = self.lstm(input_seq)\n",
    "        predictions = self.linear(lstm_out[:, -1, :])\n",
    "        return predictions\n",
    "\n",
    "\n",
    "clustered_dataframes = {}\n",
    "for cluster_number in clustered_data['cluster'].unique():\n",
    "    clustered_dataframes[cluster_number] = clustered_data[clustered_data['cluster'] == cluster_number].drop(columns=['cluster', 'case_id'])\n",
    "\n",
    "# def preprocess_data(df, n_steps_in, n_steps_out, test_size=0.2):\n",
    "#     scaler = StandardScaler()\n",
    "#     data_normalized = scaler.fit_transform(df)\n",
    "#     X, y = create_sequences(data_normalized, n_steps_in, n_steps_out)\n",
    "#     X_train, X_test, y_train, y_test = train_test_split(X, y, test_size=test_size, random_state=42)\n",
    "#     return (\n",
    "#         torch.tensor(X_train, dtype=torch.float32), torch.tensor(y_train, dtype=torch.float32),\n",
    "#         torch.tensor(X_test, dtype=torch.float32), torch.tensor(y_test, dtype=torch.float32),\n",
    "#         scaler\n",
    "#     )\n",
    "def preprocess_data(df, n_steps_in=30, n_steps_out=10, test_size=0.2):\n",
    "    # Only retain the required columns\n",
    "    df = df[[\"delta_position\", \"delta_velocity\", \"v_follower\"]]\n",
    "\n",
    "    # Normalize the data\n",
    "    scaler = StandardScaler()\n",
    "    data_normalized = scaler.fit_transform(df)\n",
    "\n",
    "    # Create sequences\n",
    "    X, y = create_sequences(data_normalized, n_steps_in, n_steps_out)\n",
    "\n",
    "    # Split the data into training and testing sets\n",
    "    X_train, X_test, y_train, y_test = train_test_split(X, y, test_size=test_size, random_state=42)\n",
    "\n",
    "    # Convert to torch tensor\n",
    "    return (\n",
    "        torch.tensor(X_train, dtype=torch.float32), torch.tensor(y_train, dtype=torch.float32),\n",
    "        torch.tensor(X_test, dtype=torch.float32), torch.tensor(y_test, dtype=torch.float32),\n",
    "        scaler\n",
    "    )\n",
    "\n",
    "# def create_sequences(data, n_steps_in, n_steps_out):\n",
    "#     X, y = [], []\n",
    "#     for i in range(len(data)):\n",
    "#         end_ix = i + n_steps_in\n",
    "#         out_end_ix = end_ix + n_steps_out\n",
    "#         if out_end_ix > len(data):\n",
    "#             break\n",
    "#         seq_x, seq_y = data[i:end_ix, :], data[end_ix:out_end_ix, :]\n",
    "#         X.append(seq_x)\n",
    "#         y.append(seq_y)\n",
    "#     return np.array(X), np.array(y)\n",
    "\n",
    "def create_sequences(data, n_steps_in, n_steps_out):\n",
    "    X, y = [], []\n",
    "    for i in range(len(data) - n_steps_in - n_steps_out + 1):\n",
    "        X.append(data[i:i+n_steps_in])\n",
    "        y.append(data[i+n_steps_in:i+n_steps_in+n_steps_out]) \n",
    "    return np.array(X), np.array(y)\n",
    "\n",
    "def train_model(model, X_train_tensor, y_train_tensor, epochs, optimizer, loss_function):\n",
    "    for epoch in tqdm(range(epochs), desc='Training Epochs'):\n",
    "        model.train()\n",
    "        optimizer.zero_grad()\n",
    "        y_pred = model(X_train_tensor)\n",
    "        loss = loss_function(y_pred, y_train_tensor[:, 0, :])\n",
    "        loss.backward()\n",
    "        optimizer.step()\n",
    "        if epoch % 10 == 0:\n",
    "            tqdm.write(f'Epoch: {epoch} Loss: {loss.item():.4f}')\n",
    "\n",
    "def evaluate_model(model, X_test_tensor, y_test_tensor, scaler):\n",
    "    model.eval()\n",
    "    with torch.no_grad():\n",
    "        y_pred = model(X_test_tensor)\n",
    "        y_pred = y_pred.cpu().numpy()\n",
    "        y_pred_original = scaler.inverse_transform(y_pred)\n",
    "        y_test_original = scaler.inverse_transform(y_test_tensor.cpu().numpy()[:, 0, :])\n",
    "        mse = mean_squared_error(y_test_original, y_pred_original)\n",
    "        rmse = math.sqrt(mse)\n",
    "        mae = mean_absolute_error(y_test_original, y_pred_original)\n",
    "    print(f'MSE: {mse:.2f}, RMSE: {rmse:.2f}, MAE: {mae:.2f}')\n",
    "    return mse, rmse, mae\n",
    "\n",
    "models_scalers = {}\n",
    "n_steps_in, n_steps_out = 3, 1\n",
    "for cluster, cluster_df in clustered_dataframes.items():\n",
    "    X_train_tensor, y_train_tensor, X_test_tensor, y_test_tensor, scaler = preprocess_data(cluster_df, n_steps_in, n_steps_out)\n",
    "    model = LSTMModel(input_size=X_train_tensor.shape[2], hidden_layer_size=50, output_size=y_train_tensor.shape[2])\n",
    "    optimizer = optim.Adam(model.parameters(), lr=0.001)\n",
    "    loss_function = nn.MSELoss()\n",
    "    train_model(model, X_train_tensor, y_train_tensor, epochs=1000, optimizer=optimizer, loss_function=loss_function)\n",
    "    mse, rmse, mae = evaluate_model(model, X_test_tensor, y_test_tensor, scaler)\n",
    "    models_scalers[cluster] = {'model': model, 'scaler': scaler, 'metrics': (mse, rmse, mae)}\n",
    "\n",
    "# Save the model and scaler if needed\n",
    "torch.save(models_scalers, 'models_scalers.pth')\n"
   ]
  },
  {
   "cell_type": "code",
   "execution_count": 25,
   "metadata": {},
   "outputs": [],
   "source": [
    "# Evaluation dataset is used here to predict the next time step\n",
    "eval_df = convert_df(\"HA\", \"val\")\n"
   ]
  },
  {
   "cell_type": "code",
   "execution_count": 26,
   "metadata": {},
   "outputs": [
    {
     "data": {
      "text/html": [
       "<div>\n",
       "<style scoped>\n",
       "    .dataframe tbody tr th:only-of-type {\n",
       "        vertical-align: middle;\n",
       "    }\n",
       "\n",
       "    .dataframe tbody tr th {\n",
       "        vertical-align: top;\n",
       "    }\n",
       "\n",
       "    .dataframe thead th {\n",
       "        text-align: right;\n",
       "    }\n",
       "</style>\n",
       "<table border=\"1\" class=\"dataframe\">\n",
       "  <thead>\n",
       "    <tr style=\"text-align: right;\">\n",
       "      <th></th>\n",
       "      <th>delta_velocity</th>\n",
       "      <th>v_follower</th>\n",
       "      <th>delta_acceleration</th>\n",
       "      <th>a_follower</th>\n",
       "      <th>jerk_follower</th>\n",
       "      <th>time_headway</th>\n",
       "      <th>delta_position</th>\n",
       "      <th>TTC</th>\n",
       "      <th>TTC_min</th>\n",
       "    </tr>\n",
       "  </thead>\n",
       "  <tbody>\n",
       "    <tr>\n",
       "      <th>0</th>\n",
       "      <td>-0.112306</td>\n",
       "      <td>13.972906</td>\n",
       "      <td>-0.040953</td>\n",
       "      <td>0.913186</td>\n",
       "      <td>0.013031</td>\n",
       "      <td>2.296439</td>\n",
       "      <td>22.095424</td>\n",
       "      <td>124.803687</td>\n",
       "      <td>11.794680</td>\n",
       "    </tr>\n",
       "    <tr>\n",
       "      <th>1</th>\n",
       "      <td>1.577983</td>\n",
       "      <td>12.061164</td>\n",
       "      <td>-0.035401</td>\n",
       "      <td>0.162992</td>\n",
       "      <td>0.013574</td>\n",
       "      <td>3.225179</td>\n",
       "      <td>8.866747</td>\n",
       "      <td>18.864220</td>\n",
       "      <td>3.197740</td>\n",
       "    </tr>\n",
       "    <tr>\n",
       "      <th>2</th>\n",
       "      <td>-0.274519</td>\n",
       "      <td>12.536280</td>\n",
       "      <td>-0.004253</td>\n",
       "      <td>3.739273</td>\n",
       "      <td>-0.047253</td>\n",
       "      <td>1.156909</td>\n",
       "      <td>9.121510</td>\n",
       "      <td>85.516191</td>\n",
       "      <td>7.427292</td>\n",
       "    </tr>\n",
       "  </tbody>\n",
       "</table>\n",
       "</div>"
      ],
      "text/plain": [
       "   delta_velocity  v_follower  delta_acceleration  a_follower  jerk_follower  \\\n",
       "0       -0.112306   13.972906           -0.040953    0.913186       0.013031   \n",
       "1        1.577983   12.061164           -0.035401    0.162992       0.013574   \n",
       "2       -0.274519   12.536280           -0.004253    3.739273      -0.047253   \n",
       "\n",
       "   time_headway  delta_position         TTC    TTC_min  \n",
       "0      2.296439       22.095424  124.803687  11.794680  \n",
       "1      3.225179        8.866747   18.864220   3.197740  \n",
       "2      1.156909        9.121510   85.516191   7.427292  "
      ]
     },
     "execution_count": 26,
     "metadata": {},
     "output_type": "execute_result"
    }
   ],
   "source": [
    "# this is the initial input for the model, the minimum sequence length is 3 so at least 3 rows are needed\n",
    "eval_df = eval_df.head(3)\n",
    "eval_df = eval_df.drop(columns=['case_id'])\n",
    "\n",
    "eval_df\n"
   ]
  },
  {
   "cell_type": "code",
   "execution_count": 27,
   "metadata": {},
   "outputs": [
    {
     "name": "stderr",
     "output_type": "stream",
     "text": [
      "c:\\miniconda3\\envs\\project\\Lib\\site-packages\\sklearn\\base.py:439: UserWarning: X does not have valid feature names, but StandardScaler was fitted with feature names\n",
      "  warnings.warn(\n"
     ]
    },
    {
     "ename": "ValueError",
     "evalue": "X has 9 features, but StandardScaler is expecting 3 features as input.",
     "output_type": "error",
     "traceback": [
      "\u001b[1;31m---------------------------------------------------------------------------\u001b[0m",
      "\u001b[1;31mValueError\u001b[0m                                Traceback (most recent call last)",
      "\u001b[1;32mc:\\Users\\Tom Wu\\Downloads\\IFEEMCS520100\\Car following project\\car-following-project\\src\\LSTM_modified.ipynb Cell 10\u001b[0m line \u001b[0;36m5\n\u001b[0;32m     <a href='vscode-notebook-cell:/c%3A/Users/Tom%20Wu/Downloads/IFEEMCS520100/Car%20following%20project/car-following-project/src/LSTM_modified.ipynb#X12sZmlsZQ%3D%3D?line=56'>57</a>\u001b[0m \u001b[39m# Predict the delta acceleration for the eval_df dataframe\u001b[39;00m\n\u001b[0;32m     <a href='vscode-notebook-cell:/c%3A/Users/Tom%20Wu/Downloads/IFEEMCS520100/Car%20following%20project/car-following-project/src/LSTM_modified.ipynb#X12sZmlsZQ%3D%3D?line=57'>58</a>\u001b[0m cluster_number \u001b[39m=\u001b[39m \u001b[39m1\u001b[39m\n\u001b[1;32m---> <a href='vscode-notebook-cell:/c%3A/Users/Tom%20Wu/Downloads/IFEEMCS520100/Car%20following%20project/car-following-project/src/LSTM_modified.ipynb#X12sZmlsZQ%3D%3D?line=58'>59</a>\u001b[0m delta_acceleration_pred \u001b[39m=\u001b[39m predict_delta_acceleration(eval_df, models_scalers, cluster_number)\n\u001b[0;32m     <a href='vscode-notebook-cell:/c%3A/Users/Tom%20Wu/Downloads/IFEEMCS520100/Car%20following%20project/car-following-project/src/LSTM_modified.ipynb#X12sZmlsZQ%3D%3D?line=59'>60</a>\u001b[0m delta_acceleration_pred\n",
      "\u001b[1;32mc:\\Users\\Tom Wu\\Downloads\\IFEEMCS520100\\Car following project\\car-following-project\\src\\LSTM_modified.ipynb Cell 10\u001b[0m line \u001b[0;36m3\n\u001b[0;32m     <a href='vscode-notebook-cell:/c%3A/Users/Tom%20Wu/Downloads/IFEEMCS520100/Car%20following%20project/car-following-project/src/LSTM_modified.ipynb#X12sZmlsZQ%3D%3D?line=29'>30</a>\u001b[0m scaler \u001b[39m=\u001b[39m models_scalers[cluster_number][\u001b[39m'\u001b[39m\u001b[39mscaler\u001b[39m\u001b[39m'\u001b[39m]\n\u001b[0;32m     <a href='vscode-notebook-cell:/c%3A/Users/Tom%20Wu/Downloads/IFEEMCS520100/Car%20following%20project/car-following-project/src/LSTM_modified.ipynb#X12sZmlsZQ%3D%3D?line=31'>32</a>\u001b[0m \u001b[39m# Prepare the input data for prediction\u001b[39;00m\n\u001b[1;32m---> <a href='vscode-notebook-cell:/c%3A/Users/Tom%20Wu/Downloads/IFEEMCS520100/Car%20following%20project/car-following-project/src/LSTM_modified.ipynb#X12sZmlsZQ%3D%3D?line=32'>33</a>\u001b[0m X_new_prepared \u001b[39m=\u001b[39m preprocess_new_data(eval_df\u001b[39m.\u001b[39;49mvalues, scaler, n_steps_in)\n\u001b[0;32m     <a href='vscode-notebook-cell:/c%3A/Users/Tom%20Wu/Downloads/IFEEMCS520100/Car%20following%20project/car-following-project/src/LSTM_modified.ipynb#X12sZmlsZQ%3D%3D?line=33'>34</a>\u001b[0m X_new_tensor \u001b[39m=\u001b[39m torch\u001b[39m.\u001b[39mtensor(X_new_prepared, dtype\u001b[39m=\u001b[39mtorch\u001b[39m.\u001b[39mfloat32)\n\u001b[0;32m     <a href='vscode-notebook-cell:/c%3A/Users/Tom%20Wu/Downloads/IFEEMCS520100/Car%20following%20project/car-following-project/src/LSTM_modified.ipynb#X12sZmlsZQ%3D%3D?line=35'>36</a>\u001b[0m \u001b[39m# Load the model for the cluster\u001b[39;00m\n",
      "\u001b[1;32mc:\\Users\\Tom Wu\\Downloads\\IFEEMCS520100\\Car following project\\car-following-project\\src\\LSTM_modified.ipynb Cell 10\u001b[0m line \u001b[0;36m7\n\u001b[0;32m      <a href='vscode-notebook-cell:/c%3A/Users/Tom%20Wu/Downloads/IFEEMCS520100/Car%20following%20project/car-following-project/src/LSTM_modified.ipynb#X12sZmlsZQ%3D%3D?line=5'>6</a>\u001b[0m \u001b[39mdef\u001b[39;00m \u001b[39mpreprocess_new_data\u001b[39m(new_data, scaler, n_steps_in):\n\u001b[1;32m----> <a href='vscode-notebook-cell:/c%3A/Users/Tom%20Wu/Downloads/IFEEMCS520100/Car%20following%20project/car-following-project/src/LSTM_modified.ipynb#X12sZmlsZQ%3D%3D?line=6'>7</a>\u001b[0m     data_scaled \u001b[39m=\u001b[39m scaler\u001b[39m.\u001b[39;49mtransform(new_data)\n\u001b[0;32m      <a href='vscode-notebook-cell:/c%3A/Users/Tom%20Wu/Downloads/IFEEMCS520100/Car%20following%20project/car-following-project/src/LSTM_modified.ipynb#X12sZmlsZQ%3D%3D?line=7'>8</a>\u001b[0m     X_new \u001b[39m=\u001b[39m []\n\u001b[0;32m      <a href='vscode-notebook-cell:/c%3A/Users/Tom%20Wu/Downloads/IFEEMCS520100/Car%20following%20project/car-following-project/src/LSTM_modified.ipynb#X12sZmlsZQ%3D%3D?line=8'>9</a>\u001b[0m     \u001b[39mfor\u001b[39;00m i \u001b[39min\u001b[39;00m \u001b[39mrange\u001b[39m(\u001b[39mlen\u001b[39m(data_scaled) \u001b[39m-\u001b[39m n_steps_in \u001b[39m+\u001b[39m \u001b[39m1\u001b[39m):\n",
      "File \u001b[1;32mc:\\miniconda3\\envs\\project\\Lib\\site-packages\\sklearn\\utils\\_set_output.py:140\u001b[0m, in \u001b[0;36m_wrap_method_output.<locals>.wrapped\u001b[1;34m(self, X, *args, **kwargs)\u001b[0m\n\u001b[0;32m    138\u001b[0m \u001b[39m@wraps\u001b[39m(f)\n\u001b[0;32m    139\u001b[0m \u001b[39mdef\u001b[39;00m \u001b[39mwrapped\u001b[39m(\u001b[39mself\u001b[39m, X, \u001b[39m*\u001b[39margs, \u001b[39m*\u001b[39m\u001b[39m*\u001b[39mkwargs):\n\u001b[1;32m--> 140\u001b[0m     data_to_wrap \u001b[39m=\u001b[39m f(\u001b[39mself\u001b[39;49m, X, \u001b[39m*\u001b[39;49margs, \u001b[39m*\u001b[39;49m\u001b[39m*\u001b[39;49mkwargs)\n\u001b[0;32m    141\u001b[0m     \u001b[39mif\u001b[39;00m \u001b[39misinstance\u001b[39m(data_to_wrap, \u001b[39mtuple\u001b[39m):\n\u001b[0;32m    142\u001b[0m         \u001b[39m# only wrap the first output for cross decomposition\u001b[39;00m\n\u001b[0;32m    143\u001b[0m         \u001b[39mreturn\u001b[39;00m (\n\u001b[0;32m    144\u001b[0m             _wrap_data_with_container(method, data_to_wrap[\u001b[39m0\u001b[39m], X, \u001b[39mself\u001b[39m),\n\u001b[0;32m    145\u001b[0m             \u001b[39m*\u001b[39mdata_to_wrap[\u001b[39m1\u001b[39m:],\n\u001b[0;32m    146\u001b[0m         )\n",
      "File \u001b[1;32mc:\\miniconda3\\envs\\project\\Lib\\site-packages\\sklearn\\preprocessing\\_data.py:992\u001b[0m, in \u001b[0;36mStandardScaler.transform\u001b[1;34m(self, X, copy)\u001b[0m\n\u001b[0;32m    989\u001b[0m check_is_fitted(\u001b[39mself\u001b[39m)\n\u001b[0;32m    991\u001b[0m copy \u001b[39m=\u001b[39m copy \u001b[39mif\u001b[39;00m copy \u001b[39mis\u001b[39;00m \u001b[39mnot\u001b[39;00m \u001b[39mNone\u001b[39;00m \u001b[39melse\u001b[39;00m \u001b[39mself\u001b[39m\u001b[39m.\u001b[39mcopy\n\u001b[1;32m--> 992\u001b[0m X \u001b[39m=\u001b[39m \u001b[39mself\u001b[39;49m\u001b[39m.\u001b[39;49m_validate_data(\n\u001b[0;32m    993\u001b[0m     X,\n\u001b[0;32m    994\u001b[0m     reset\u001b[39m=\u001b[39;49m\u001b[39mFalse\u001b[39;49;00m,\n\u001b[0;32m    995\u001b[0m     accept_sparse\u001b[39m=\u001b[39;49m\u001b[39m\"\u001b[39;49m\u001b[39mcsr\u001b[39;49m\u001b[39m\"\u001b[39;49m,\n\u001b[0;32m    996\u001b[0m     copy\u001b[39m=\u001b[39;49mcopy,\n\u001b[0;32m    997\u001b[0m     dtype\u001b[39m=\u001b[39;49mFLOAT_DTYPES,\n\u001b[0;32m    998\u001b[0m     force_all_finite\u001b[39m=\u001b[39;49m\u001b[39m\"\u001b[39;49m\u001b[39mallow-nan\u001b[39;49m\u001b[39m\"\u001b[39;49m,\n\u001b[0;32m    999\u001b[0m )\n\u001b[0;32m   1001\u001b[0m \u001b[39mif\u001b[39;00m sparse\u001b[39m.\u001b[39missparse(X):\n\u001b[0;32m   1002\u001b[0m     \u001b[39mif\u001b[39;00m \u001b[39mself\u001b[39m\u001b[39m.\u001b[39mwith_mean:\n",
      "File \u001b[1;32mc:\\miniconda3\\envs\\project\\Lib\\site-packages\\sklearn\\base.py:588\u001b[0m, in \u001b[0;36mBaseEstimator._validate_data\u001b[1;34m(self, X, y, reset, validate_separately, **check_params)\u001b[0m\n\u001b[0;32m    585\u001b[0m     out \u001b[39m=\u001b[39m X, y\n\u001b[0;32m    587\u001b[0m \u001b[39mif\u001b[39;00m \u001b[39mnot\u001b[39;00m no_val_X \u001b[39mand\u001b[39;00m check_params\u001b[39m.\u001b[39mget(\u001b[39m\"\u001b[39m\u001b[39mensure_2d\u001b[39m\u001b[39m\"\u001b[39m, \u001b[39mTrue\u001b[39;00m):\n\u001b[1;32m--> 588\u001b[0m     \u001b[39mself\u001b[39;49m\u001b[39m.\u001b[39;49m_check_n_features(X, reset\u001b[39m=\u001b[39;49mreset)\n\u001b[0;32m    590\u001b[0m \u001b[39mreturn\u001b[39;00m out\n",
      "File \u001b[1;32mc:\\miniconda3\\envs\\project\\Lib\\site-packages\\sklearn\\base.py:389\u001b[0m, in \u001b[0;36mBaseEstimator._check_n_features\u001b[1;34m(self, X, reset)\u001b[0m\n\u001b[0;32m    386\u001b[0m     \u001b[39mreturn\u001b[39;00m\n\u001b[0;32m    388\u001b[0m \u001b[39mif\u001b[39;00m n_features \u001b[39m!=\u001b[39m \u001b[39mself\u001b[39m\u001b[39m.\u001b[39mn_features_in_:\n\u001b[1;32m--> 389\u001b[0m     \u001b[39mraise\u001b[39;00m \u001b[39mValueError\u001b[39;00m(\n\u001b[0;32m    390\u001b[0m         \u001b[39mf\u001b[39m\u001b[39m\"\u001b[39m\u001b[39mX has \u001b[39m\u001b[39m{\u001b[39;00mn_features\u001b[39m}\u001b[39;00m\u001b[39m features, but \u001b[39m\u001b[39m{\u001b[39;00m\u001b[39mself\u001b[39m\u001b[39m.\u001b[39m\u001b[39m__class__\u001b[39m\u001b[39m.\u001b[39m\u001b[39m__name__\u001b[39m\u001b[39m}\u001b[39;00m\u001b[39m \u001b[39m\u001b[39m\"\u001b[39m\n\u001b[0;32m    391\u001b[0m         \u001b[39mf\u001b[39m\u001b[39m\"\u001b[39m\u001b[39mis expecting \u001b[39m\u001b[39m{\u001b[39;00m\u001b[39mself\u001b[39m\u001b[39m.\u001b[39mn_features_in_\u001b[39m}\u001b[39;00m\u001b[39m features as input.\u001b[39m\u001b[39m\"\u001b[39m\n\u001b[0;32m    392\u001b[0m     )\n",
      "\u001b[1;31mValueError\u001b[0m: X has 9 features, but StandardScaler is expecting 3 features as input."
     ]
    }
   ],
   "source": [
    "import torch\n",
    "import pandas as pd\n",
    "import numpy as np\n",
    "from sklearn.preprocessing import StandardScaler\n",
    "\n",
    "def preprocess_new_data(new_data, scaler, n_steps_in):\n",
    "    data_scaled = scaler.transform(new_data)\n",
    "    X_new = []\n",
    "    for i in range(len(data_scaled) - n_steps_in + 1):\n",
    "        X_new.append(data_scaled[i:i + n_steps_in, :])\n",
    "    return np.array(X_new)\n",
    "\n",
    "def predict_delta_acceleration(eval_df, models_scalers, cluster_number=1, n_steps_in=3, delta_acceleration_index=2):\n",
    "    \"\"\"\n",
    "    Predicts the delta acceleration of a car using an LSTM model trained on car-following data.\n",
    "\n",
    "    Parameters:\n",
    "    eval_df (pandas.DataFrame): The input data to predict on.\n",
    "    models_scalers (dict): A dictionary containing the trained models and scalers for each cluster.\n",
    "    cluster_number (int): The cluster number to use for prediction.\n",
    "    n_steps_in (int): The number of time steps to use as input for the LSTM model.\n",
    "    delta_acceleration_index (int): The index of the delta acceleration column in the output.\n",
    "\n",
    "    Returns:\n",
    "    float: The predicted delta acceleration.\n",
    "    \"\"\"\n",
    "    \n",
    "\n",
    "    # Load the scaler for the cluster\n",
    "    scaler = models_scalers[cluster_number]['scaler']\n",
    "\n",
    "    # Prepare the input data for prediction\n",
    "    X_new_prepared = preprocess_new_data(eval_df.values, scaler, n_steps_in)\n",
    "    X_new_tensor = torch.tensor(X_new_prepared, dtype=torch.float32)\n",
    "\n",
    "    # Load the model for the cluster\n",
    "    model = models_scalers[cluster_number]['model']\n",
    "\n",
    "    # Predict using the model\n",
    "    model.eval()\n",
    "    with torch.no_grad():\n",
    "        y_new_pred_tensor = model(X_new_tensor)\n",
    "        y_new_pred = y_new_pred_tensor.numpy()\n",
    "\n",
    "    # Inverse transform the predictions to the original scale\n",
    "    y_new_pred_original = scaler.inverse_transform(y_new_pred)\n",
    "\n",
    "    # Extract the denormalized delta_acceleration values\n",
    "    delta_acceleration_pred_original = y_new_pred_original[:, delta_acceleration_index]\n",
    "\n",
    "    # Return the predicted delta acceleration\n",
    "    return delta_acceleration_pred_original\n",
    "\n",
    "# Load the model from the saved models_cales.pth file\n",
    "models_scalers = torch.load('models_scalers.pth')\n",
    "\n",
    "# Predict the delta acceleration for the eval_df dataframe\n",
    "cluster_number = 1\n",
    "delta_acceleration_pred = predict_delta_acceleration(eval_df, models_scalers, cluster_number)\n",
    "delta_acceleration_pred"
   ]
  }
 ],
 "metadata": {
  "kernelspec": {
   "display_name": "car-following-project--ZycwsGt",
   "language": "python",
   "name": "python3"
  },
  "language_info": {
   "codemirror_mode": {
    "name": "ipython",
    "version": 3
   },
   "file_extension": ".py",
   "mimetype": "text/x-python",
   "name": "python",
   "nbconvert_exporter": "python",
   "pygments_lexer": "ipython3",
   "version": "3.11.5"
  }
 },
 "nbformat": 4,
 "nbformat_minor": 2
}
